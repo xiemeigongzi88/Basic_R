{
 "cells": [
  {
   "cell_type": "markdown",
   "metadata": {},
   "source": [
    "# Cleaning Data in R"
   ]
  },
  {
   "cell_type": "markdown",
   "metadata": {},
   "source": [
    "## Introduction and exploring raw data"
   ]
  },
  {
   "cell_type": "code",
   "execution_count": 1,
   "metadata": {},
   "outputs": [
    {
     "data": {
      "text/html": [
       "<table>\n",
       "<caption>A data.frame: 6 × 35</caption>\n",
       "<thead>\n",
       "\t<tr><th scope=col>X</th><th scope=col>year</th><th scope=col>month</th><th scope=col>measure</th><th scope=col>X1</th><th scope=col>X2</th><th scope=col>X3</th><th scope=col>X4</th><th scope=col>X5</th><th scope=col>X6</th><th scope=col>...</th><th scope=col>X22</th><th scope=col>X23</th><th scope=col>X24</th><th scope=col>X25</th><th scope=col>X26</th><th scope=col>X27</th><th scope=col>X28</th><th scope=col>X29</th><th scope=col>X30</th><th scope=col>X31</th></tr>\n",
       "\t<tr><th scope=col>&lt;int&gt;</th><th scope=col>&lt;int&gt;</th><th scope=col>&lt;int&gt;</th><th scope=col>&lt;chr&gt;</th><th scope=col>&lt;chr&gt;</th><th scope=col>&lt;chr&gt;</th><th scope=col>&lt;chr&gt;</th><th scope=col>&lt;chr&gt;</th><th scope=col>&lt;chr&gt;</th><th scope=col>&lt;chr&gt;</th><th scope=col>...</th><th scope=col>&lt;chr&gt;</th><th scope=col>&lt;chr&gt;</th><th scope=col>&lt;chr&gt;</th><th scope=col>&lt;chr&gt;</th><th scope=col>&lt;chr&gt;</th><th scope=col>&lt;chr&gt;</th><th scope=col>&lt;chr&gt;</th><th scope=col>&lt;chr&gt;</th><th scope=col>&lt;chr&gt;</th><th scope=col>&lt;chr&gt;</th></tr>\n",
       "</thead>\n",
       "<tbody>\n",
       "\t<tr><td>1</td><td>2014</td><td>12</td><td>Max.TemperatureF </td><td>64</td><td>42</td><td>51</td><td>43</td><td>42</td><td>45</td><td>...</td><td>44</td><td>47</td><td>46</td><td>59</td><td>50</td><td>52</td><td>52</td><td>41</td><td>30</td><td>30</td></tr>\n",
       "\t<tr><td>2</td><td>2014</td><td>12</td><td>Mean.TemperatureF</td><td>52</td><td>38</td><td>44</td><td>37</td><td>34</td><td>42</td><td>...</td><td>39</td><td>45</td><td>44</td><td>52</td><td>44</td><td>45</td><td>46</td><td>36</td><td>26</td><td>25</td></tr>\n",
       "\t<tr><td>3</td><td>2014</td><td>12</td><td>Min.TemperatureF </td><td>39</td><td>33</td><td>37</td><td>30</td><td>26</td><td>38</td><td>...</td><td>33</td><td>42</td><td>41</td><td>44</td><td>37</td><td>38</td><td>40</td><td>30</td><td>22</td><td>20</td></tr>\n",
       "\t<tr><td>4</td><td>2014</td><td>12</td><td>Max.Dew.PointF   </td><td>46</td><td>40</td><td>49</td><td>24</td><td>37</td><td>45</td><td>...</td><td>39</td><td>45</td><td>46</td><td>58</td><td>31</td><td>34</td><td>42</td><td>26</td><td>10</td><td>8 </td></tr>\n",
       "\t<tr><td>5</td><td>2014</td><td>12</td><td>MeanDew.PointF   </td><td>40</td><td>27</td><td>42</td><td>21</td><td>25</td><td>40</td><td>...</td><td>34</td><td>42</td><td>44</td><td>43</td><td>29</td><td>31</td><td>35</td><td>20</td><td>4 </td><td>5 </td></tr>\n",
       "\t<tr><td>6</td><td>2014</td><td>12</td><td>Min.DewpointF    </td><td>26</td><td>17</td><td>24</td><td>13</td><td>12</td><td>36</td><td>...</td><td>25</td><td>37</td><td>41</td><td>29</td><td>28</td><td>29</td><td>27</td><td>10</td><td>-6</td><td>1 </td></tr>\n",
       "</tbody>\n",
       "</table>\n"
      ],
      "text/latex": [
       "A data.frame: 6 × 35\n",
       "\\begin{tabular}{r|lllllllllllllllllllllllllllllllllll}\n",
       " X & year & month & measure & X1 & X2 & X3 & X4 & X5 & X6 & X7 & X8 & X9 & X10 & X11 & X12 & X13 & X14 & X15 & X16 & X17 & X18 & X19 & X20 & X21 & X22 & X23 & X24 & X25 & X26 & X27 & X28 & X29 & X30 & X31\\\\\n",
       " <int> & <int> & <int> & <chr> & <chr> & <chr> & <chr> & <chr> & <chr> & <chr> & <chr> & <chr> & <chr> & <chr> & <chr> & <chr> & <chr> & <chr> & <chr> & <chr> & <chr> & <chr> & <chr> & <chr> & <chr> & <chr> & <chr> & <chr> & <chr> & <chr> & <chr> & <chr> & <chr> & <chr> & <chr>\\\\\n",
       "\\hline\n",
       "\t 1 & 2014 & 12 & Max.TemperatureF  & 64 & 42 & 51 & 43 & 42 & 45 & 38 & 29 & 49 & 48 & 39 & 39 & 42 & 45 & 42 & 44 & 49 & 44 & 37 & 36 & 36 & 44 & 47 & 46 & 59 & 50 & 52 & 52 & 41 & 30 & 30\\\\\n",
       "\t 2 & 2014 & 12 & Mean.TemperatureF & 52 & 38 & 44 & 37 & 34 & 42 & 30 & 24 & 39 & 43 & 36 & 35 & 37 & 39 & 37 & 40 & 45 & 40 & 33 & 32 & 33 & 39 & 45 & 44 & 52 & 44 & 45 & 46 & 36 & 26 & 25\\\\\n",
       "\t 3 & 2014 & 12 & Min.TemperatureF  & 39 & 33 & 37 & 30 & 26 & 38 & 21 & 18 & 29 & 38 & 32 & 31 & 32 & 33 & 32 & 35 & 41 & 36 & 29 & 27 & 30 & 33 & 42 & 41 & 44 & 37 & 38 & 40 & 30 & 22 & 20\\\\\n",
       "\t 4 & 2014 & 12 & Max.Dew.PointF    & 46 & 40 & 49 & 24 & 37 & 45 & 36 & 28 & 49 & 45 & 37 & 28 & 28 & 29 & 33 & 42 & 46 & 34 & 25 & 30 & 30 & 39 & 45 & 46 & 58 & 31 & 34 & 42 & 26 & 10 & 8 \\\\\n",
       "\t 5 & 2014 & 12 & MeanDew.PointF    & 40 & 27 & 42 & 21 & 25 & 40 & 20 & 16 & 41 & 39 & 31 & 27 & 26 & 27 & 29 & 36 & 41 & 30 & 22 & 24 & 27 & 34 & 42 & 44 & 43 & 29 & 31 & 35 & 20 & 4  & 5 \\\\\n",
       "\t 6 & 2014 & 12 & Min.DewpointF     & 26 & 17 & 24 & 13 & 12 & 36 & -3 & 3  & 28 & 37 & 27 & 25 & 24 & 25 & 27 & 30 & 32 & 26 & 20 & 20 & 25 & 25 & 37 & 41 & 29 & 28 & 29 & 27 & 10 & -6 & 1 \\\\\n",
       "\\end{tabular}\n"
      ],
      "text/markdown": [
       "\n",
       "A data.frame: 6 × 35\n",
       "\n",
       "| X &lt;int&gt; | year &lt;int&gt; | month &lt;int&gt; | measure &lt;chr&gt; | X1 &lt;chr&gt; | X2 &lt;chr&gt; | X3 &lt;chr&gt; | X4 &lt;chr&gt; | X5 &lt;chr&gt; | X6 &lt;chr&gt; | ... ... | X22 &lt;chr&gt; | X23 &lt;chr&gt; | X24 &lt;chr&gt; | X25 &lt;chr&gt; | X26 &lt;chr&gt; | X27 &lt;chr&gt; | X28 &lt;chr&gt; | X29 &lt;chr&gt; | X30 &lt;chr&gt; | X31 &lt;chr&gt; |\n",
       "|---|---|---|---|---|---|---|---|---|---|---|---|---|---|---|---|---|---|---|---|---|\n",
       "| 1 | 2014 | 12 | Max.TemperatureF  | 64 | 42 | 51 | 43 | 42 | 45 | ... | 44 | 47 | 46 | 59 | 50 | 52 | 52 | 41 | 30 | 30 |\n",
       "| 2 | 2014 | 12 | Mean.TemperatureF | 52 | 38 | 44 | 37 | 34 | 42 | ... | 39 | 45 | 44 | 52 | 44 | 45 | 46 | 36 | 26 | 25 |\n",
       "| 3 | 2014 | 12 | Min.TemperatureF  | 39 | 33 | 37 | 30 | 26 | 38 | ... | 33 | 42 | 41 | 44 | 37 | 38 | 40 | 30 | 22 | 20 |\n",
       "| 4 | 2014 | 12 | Max.Dew.PointF    | 46 | 40 | 49 | 24 | 37 | 45 | ... | 39 | 45 | 46 | 58 | 31 | 34 | 42 | 26 | 10 | 8  |\n",
       "| 5 | 2014 | 12 | MeanDew.PointF    | 40 | 27 | 42 | 21 | 25 | 40 | ... | 34 | 42 | 44 | 43 | 29 | 31 | 35 | 20 | 4  | 5  |\n",
       "| 6 | 2014 | 12 | Min.DewpointF     | 26 | 17 | 24 | 13 | 12 | 36 | ... | 25 | 37 | 41 | 29 | 28 | 29 | 27 | 10 | -6 | 1  |\n",
       "\n"
      ],
      "text/plain": [
       "  X year month measure           X1 X2 X3 X4 X5 X6 ... X22 X23 X24 X25 X26 X27\n",
       "1 1 2014 12    Max.TemperatureF  64 42 51 43 42 45 ... 44  47  46  59  50  52 \n",
       "2 2 2014 12    Mean.TemperatureF 52 38 44 37 34 42 ... 39  45  44  52  44  45 \n",
       "3 3 2014 12    Min.TemperatureF  39 33 37 30 26 38 ... 33  42  41  44  37  38 \n",
       "4 4 2014 12    Max.Dew.PointF    46 40 49 24 37 45 ... 39  45  46  58  31  34 \n",
       "5 5 2014 12    MeanDew.PointF    40 27 42 21 25 40 ... 34  42  44  43  29  31 \n",
       "6 6 2014 12    Min.DewpointF     26 17 24 13 12 36 ... 25  37  41  29  28  29 \n",
       "  X28 X29 X30 X31\n",
       "1 52  41  30  30 \n",
       "2 46  36  26  25 \n",
       "3 40  30  22  20 \n",
       "4 42  26  10  8  \n",
       "5 35  20  4   5  \n",
       "6 27  10  -6  1  "
      ]
     },
     "metadata": {},
     "output_type": "display_data"
    }
   ],
   "source": [
    "weather <- readRDS('weather.rds')\n",
    "\n",
    "head(weather)"
   ]
  },
  {
   "cell_type": "code",
   "execution_count": 2,
   "metadata": {},
   "outputs": [
    {
     "data": {
      "text/html": [
       "<table>\n",
       "<caption>A data.frame: 6 × 35</caption>\n",
       "<thead>\n",
       "\t<tr><th></th><th scope=col>X</th><th scope=col>year</th><th scope=col>month</th><th scope=col>measure</th><th scope=col>X1</th><th scope=col>X2</th><th scope=col>X3</th><th scope=col>X4</th><th scope=col>X5</th><th scope=col>X6</th><th scope=col>...</th><th scope=col>X22</th><th scope=col>X23</th><th scope=col>X24</th><th scope=col>X25</th><th scope=col>X26</th><th scope=col>X27</th><th scope=col>X28</th><th scope=col>X29</th><th scope=col>X30</th><th scope=col>X31</th></tr>\n",
       "\t<tr><th></th><th scope=col>&lt;int&gt;</th><th scope=col>&lt;int&gt;</th><th scope=col>&lt;int&gt;</th><th scope=col>&lt;chr&gt;</th><th scope=col>&lt;chr&gt;</th><th scope=col>&lt;chr&gt;</th><th scope=col>&lt;chr&gt;</th><th scope=col>&lt;chr&gt;</th><th scope=col>&lt;chr&gt;</th><th scope=col>&lt;chr&gt;</th><th scope=col>...</th><th scope=col>&lt;chr&gt;</th><th scope=col>&lt;chr&gt;</th><th scope=col>&lt;chr&gt;</th><th scope=col>&lt;chr&gt;</th><th scope=col>&lt;chr&gt;</th><th scope=col>&lt;chr&gt;</th><th scope=col>&lt;chr&gt;</th><th scope=col>&lt;chr&gt;</th><th scope=col>&lt;chr&gt;</th><th scope=col>&lt;chr&gt;</th></tr>\n",
       "</thead>\n",
       "<tbody>\n",
       "\t<tr><th scope=row>281</th><td>281</td><td>2015</td><td>12</td><td>Mean.Wind.SpeedMPH</td><td>6   </td><td>NA</td><td>NA</td><td>NA</td><td>NA</td><td>NA</td><td>...</td><td>NA</td><td>NA</td><td>NA</td><td>NA</td><td>NA</td><td>NA</td><td>NA</td><td>NA</td><td>NA</td><td>NA</td></tr>\n",
       "\t<tr><th scope=row>282</th><td>282</td><td>2015</td><td>12</td><td>Max.Gust.SpeedMPH </td><td>17  </td><td>NA</td><td>NA</td><td>NA</td><td>NA</td><td>NA</td><td>...</td><td>NA</td><td>NA</td><td>NA</td><td>NA</td><td>NA</td><td>NA</td><td>NA</td><td>NA</td><td>NA</td><td>NA</td></tr>\n",
       "\t<tr><th scope=row>283</th><td>283</td><td>2015</td><td>12</td><td>PrecipitationIn   </td><td>0.14</td><td>NA</td><td>NA</td><td>NA</td><td>NA</td><td>NA</td><td>...</td><td>NA</td><td>NA</td><td>NA</td><td>NA</td><td>NA</td><td>NA</td><td>NA</td><td>NA</td><td>NA</td><td>NA</td></tr>\n",
       "\t<tr><th scope=row>284</th><td>284</td><td>2015</td><td>12</td><td>CloudCover        </td><td>7   </td><td>NA</td><td>NA</td><td>NA</td><td>NA</td><td>NA</td><td>...</td><td>NA</td><td>NA</td><td>NA</td><td>NA</td><td>NA</td><td>NA</td><td>NA</td><td>NA</td><td>NA</td><td>NA</td></tr>\n",
       "\t<tr><th scope=row>285</th><td>285</td><td>2015</td><td>12</td><td>Events            </td><td>Rain</td><td>NA</td><td>NA</td><td>NA</td><td>NA</td><td>NA</td><td>...</td><td>NA</td><td>NA</td><td>NA</td><td>NA</td><td>NA</td><td>NA</td><td>NA</td><td>NA</td><td>NA</td><td>NA</td></tr>\n",
       "\t<tr><th scope=row>286</th><td>286</td><td>2015</td><td>12</td><td>WindDirDegrees    </td><td>109 </td><td>NA</td><td>NA</td><td>NA</td><td>NA</td><td>NA</td><td>...</td><td>NA</td><td>NA</td><td>NA</td><td>NA</td><td>NA</td><td>NA</td><td>NA</td><td>NA</td><td>NA</td><td>NA</td></tr>\n",
       "</tbody>\n",
       "</table>\n"
      ],
      "text/latex": [
       "A data.frame: 6 × 35\n",
       "\\begin{tabular}{r|lllllllllllllllllllllllllllllllllll}\n",
       "  & X & year & month & measure & X1 & X2 & X3 & X4 & X5 & X6 & X7 & X8 & X9 & X10 & X11 & X12 & X13 & X14 & X15 & X16 & X17 & X18 & X19 & X20 & X21 & X22 & X23 & X24 & X25 & X26 & X27 & X28 & X29 & X30 & X31\\\\\n",
       "  & <int> & <int> & <int> & <chr> & <chr> & <chr> & <chr> & <chr> & <chr> & <chr> & <chr> & <chr> & <chr> & <chr> & <chr> & <chr> & <chr> & <chr> & <chr> & <chr> & <chr> & <chr> & <chr> & <chr> & <chr> & <chr> & <chr> & <chr> & <chr> & <chr> & <chr> & <chr> & <chr> & <chr> & <chr>\\\\\n",
       "\\hline\n",
       "\t281 & 281 & 2015 & 12 & Mean.Wind.SpeedMPH & 6    & NA & NA & NA & NA & NA & NA & NA & NA & NA & NA & NA & NA & NA & NA & NA & NA & NA & NA & NA & NA & NA & NA & NA & NA & NA & NA & NA & NA & NA & NA\\\\\n",
       "\t282 & 282 & 2015 & 12 & Max.Gust.SpeedMPH  & 17   & NA & NA & NA & NA & NA & NA & NA & NA & NA & NA & NA & NA & NA & NA & NA & NA & NA & NA & NA & NA & NA & NA & NA & NA & NA & NA & NA & NA & NA & NA\\\\\n",
       "\t283 & 283 & 2015 & 12 & PrecipitationIn    & 0.14 & NA & NA & NA & NA & NA & NA & NA & NA & NA & NA & NA & NA & NA & NA & NA & NA & NA & NA & NA & NA & NA & NA & NA & NA & NA & NA & NA & NA & NA & NA\\\\\n",
       "\t284 & 284 & 2015 & 12 & CloudCover         & 7    & NA & NA & NA & NA & NA & NA & NA & NA & NA & NA & NA & NA & NA & NA & NA & NA & NA & NA & NA & NA & NA & NA & NA & NA & NA & NA & NA & NA & NA & NA\\\\\n",
       "\t285 & 285 & 2015 & 12 & Events             & Rain & NA & NA & NA & NA & NA & NA & NA & NA & NA & NA & NA & NA & NA & NA & NA & NA & NA & NA & NA & NA & NA & NA & NA & NA & NA & NA & NA & NA & NA & NA\\\\\n",
       "\t286 & 286 & 2015 & 12 & WindDirDegrees     & 109  & NA & NA & NA & NA & NA & NA & NA & NA & NA & NA & NA & NA & NA & NA & NA & NA & NA & NA & NA & NA & NA & NA & NA & NA & NA & NA & NA & NA & NA & NA\\\\\n",
       "\\end{tabular}\n"
      ],
      "text/markdown": [
       "\n",
       "A data.frame: 6 × 35\n",
       "\n",
       "| <!--/--> | X &lt;int&gt; | year &lt;int&gt; | month &lt;int&gt; | measure &lt;chr&gt; | X1 &lt;chr&gt; | X2 &lt;chr&gt; | X3 &lt;chr&gt; | X4 &lt;chr&gt; | X5 &lt;chr&gt; | X6 &lt;chr&gt; | ... ... | X22 &lt;chr&gt; | X23 &lt;chr&gt; | X24 &lt;chr&gt; | X25 &lt;chr&gt; | X26 &lt;chr&gt; | X27 &lt;chr&gt; | X28 &lt;chr&gt; | X29 &lt;chr&gt; | X30 &lt;chr&gt; | X31 &lt;chr&gt; |\n",
       "|---|---|---|---|---|---|---|---|---|---|---|---|---|---|---|---|---|---|---|---|---|---|\n",
       "| 281 | 281 | 2015 | 12 | Mean.Wind.SpeedMPH | 6    | NA | NA | NA | NA | NA | ... | NA | NA | NA | NA | NA | NA | NA | NA | NA | NA |\n",
       "| 282 | 282 | 2015 | 12 | Max.Gust.SpeedMPH  | 17   | NA | NA | NA | NA | NA | ... | NA | NA | NA | NA | NA | NA | NA | NA | NA | NA |\n",
       "| 283 | 283 | 2015 | 12 | PrecipitationIn    | 0.14 | NA | NA | NA | NA | NA | ... | NA | NA | NA | NA | NA | NA | NA | NA | NA | NA |\n",
       "| 284 | 284 | 2015 | 12 | CloudCover         | 7    | NA | NA | NA | NA | NA | ... | NA | NA | NA | NA | NA | NA | NA | NA | NA | NA |\n",
       "| 285 | 285 | 2015 | 12 | Events             | Rain | NA | NA | NA | NA | NA | ... | NA | NA | NA | NA | NA | NA | NA | NA | NA | NA |\n",
       "| 286 | 286 | 2015 | 12 | WindDirDegrees     | 109  | NA | NA | NA | NA | NA | ... | NA | NA | NA | NA | NA | NA | NA | NA | NA | NA |\n",
       "\n"
      ],
      "text/plain": [
       "    X   year month measure            X1   X2 X3 X4 X5 X6 ... X22 X23 X24 X25\n",
       "281 281 2015 12    Mean.Wind.SpeedMPH 6    NA NA NA NA NA ... NA  NA  NA  NA \n",
       "282 282 2015 12    Max.Gust.SpeedMPH  17   NA NA NA NA NA ... NA  NA  NA  NA \n",
       "283 283 2015 12    PrecipitationIn    0.14 NA NA NA NA NA ... NA  NA  NA  NA \n",
       "284 284 2015 12    CloudCover         7    NA NA NA NA NA ... NA  NA  NA  NA \n",
       "285 285 2015 12    Events             Rain NA NA NA NA NA ... NA  NA  NA  NA \n",
       "286 286 2015 12    WindDirDegrees     109  NA NA NA NA NA ... NA  NA  NA  NA \n",
       "    X26 X27 X28 X29 X30 X31\n",
       "281 NA  NA  NA  NA  NA  NA \n",
       "282 NA  NA  NA  NA  NA  NA \n",
       "283 NA  NA  NA  NA  NA  NA \n",
       "284 NA  NA  NA  NA  NA  NA \n",
       "285 NA  NA  NA  NA  NA  NA \n",
       "286 NA  NA  NA  NA  NA  NA "
      ]
     },
     "metadata": {},
     "output_type": "display_data"
    }
   ],
   "source": [
    "tail(weather)"
   ]
  },
  {
   "cell_type": "code",
   "execution_count": 3,
   "metadata": {},
   "outputs": [
    {
     "name": "stdout",
     "output_type": "stream",
     "text": [
      "'data.frame':\t286 obs. of  35 variables:\n",
      " $ X      : int  1 2 3 4 5 6 7 8 9 10 ...\n",
      " $ year   : int  2014 2014 2014 2014 2014 2014 2014 2014 2014 2014 ...\n",
      " $ month  : int  12 12 12 12 12 12 12 12 12 12 ...\n",
      " $ measure: chr  \"Max.TemperatureF\" \"Mean.TemperatureF\" \"Min.TemperatureF\" \"Max.Dew.PointF\" ...\n",
      " $ X1     : chr  \"64\" \"52\" \"39\" \"46\" ...\n",
      " $ X2     : chr  \"42\" \"38\" \"33\" \"40\" ...\n",
      " $ X3     : chr  \"51\" \"44\" \"37\" \"49\" ...\n",
      " $ X4     : chr  \"43\" \"37\" \"30\" \"24\" ...\n",
      " $ X5     : chr  \"42\" \"34\" \"26\" \"37\" ...\n",
      " $ X6     : chr  \"45\" \"42\" \"38\" \"45\" ...\n",
      " $ X7     : chr  \"38\" \"30\" \"21\" \"36\" ...\n",
      " $ X8     : chr  \"29\" \"24\" \"18\" \"28\" ...\n",
      " $ X9     : chr  \"49\" \"39\" \"29\" \"49\" ...\n",
      " $ X10    : chr  \"48\" \"43\" \"38\" \"45\" ...\n",
      " $ X11    : chr  \"39\" \"36\" \"32\" \"37\" ...\n",
      " $ X12    : chr  \"39\" \"35\" \"31\" \"28\" ...\n",
      " $ X13    : chr  \"42\" \"37\" \"32\" \"28\" ...\n",
      " $ X14    : chr  \"45\" \"39\" \"33\" \"29\" ...\n",
      " $ X15    : chr  \"42\" \"37\" \"32\" \"33\" ...\n",
      " $ X16    : chr  \"44\" \"40\" \"35\" \"42\" ...\n",
      " $ X17    : chr  \"49\" \"45\" \"41\" \"46\" ...\n",
      " $ X18    : chr  \"44\" \"40\" \"36\" \"34\" ...\n",
      " $ X19    : chr  \"37\" \"33\" \"29\" \"25\" ...\n",
      " $ X20    : chr  \"36\" \"32\" \"27\" \"30\" ...\n",
      " $ X21    : chr  \"36\" \"33\" \"30\" \"30\" ...\n",
      " $ X22    : chr  \"44\" \"39\" \"33\" \"39\" ...\n",
      " $ X23    : chr  \"47\" \"45\" \"42\" \"45\" ...\n",
      " $ X24    : chr  \"46\" \"44\" \"41\" \"46\" ...\n",
      " $ X25    : chr  \"59\" \"52\" \"44\" \"58\" ...\n",
      " $ X26    : chr  \"50\" \"44\" \"37\" \"31\" ...\n",
      " $ X27    : chr  \"52\" \"45\" \"38\" \"34\" ...\n",
      " $ X28    : chr  \"52\" \"46\" \"40\" \"42\" ...\n",
      " $ X29    : chr  \"41\" \"36\" \"30\" \"26\" ...\n",
      " $ X30    : chr  \"30\" \"26\" \"22\" \"10\" ...\n",
      " $ X31    : chr  \"30\" \"25\" \"20\" \"8\" ...\n"
     ]
    }
   ],
   "source": [
    "str(weather)"
   ]
  },
  {
   "cell_type": "code",
   "execution_count": null,
   "metadata": {},
   "outputs": [],
   "source": []
  },
  {
   "cell_type": "code",
   "execution_count": null,
   "metadata": {},
   "outputs": [],
   "source": []
  },
  {
   "cell_type": "markdown",
   "metadata": {},
   "source": [
    "https://rpubs.com/williamsurles/291107"
   ]
  },
  {
   "cell_type": "code",
   "execution_count": null,
   "metadata": {},
   "outputs": [],
   "source": []
  }
 ],
 "metadata": {
  "kernelspec": {
   "display_name": "R",
   "language": "R",
   "name": "ir"
  },
  "language_info": {
   "codemirror_mode": "r",
   "file_extension": ".r",
   "mimetype": "text/x-r-source",
   "name": "R",
   "pygments_lexer": "r",
   "version": "3.5.3"
  }
 },
 "nbformat": 4,
 "nbformat_minor": 2
}
