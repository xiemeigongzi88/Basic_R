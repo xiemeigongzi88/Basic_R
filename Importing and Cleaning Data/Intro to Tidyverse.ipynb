{
 "cells": [
  {
   "cell_type": "markdown",
   "metadata": {},
   "source": [
    "# Intro to Tidyverse"
   ]
  },
  {
   "cell_type": "code",
   "execution_count": 3,
   "metadata": {},
   "outputs": [
    {
     "name": "stderr",
     "output_type": "stream",
     "text": [
      "Registered S3 method overwritten by 'rvest':\n",
      "  method            from\n",
      "  read_xml.response xml2\n",
      "-- Attaching packages --------------------------------------- tidyverse 1.2.1 --\n",
      "v ggplot2 3.2.0     v purrr   0.3.2\n",
      "v tibble  2.1.1     v dplyr   0.8.3\n",
      "v tidyr   0.8.3     v stringr 1.4.0\n",
      "v readr   1.3.1     v forcats 0.4.0\n",
      "Warning message:\n",
      "\"package 'dplyr' was built under R version 3.6.1\"-- Conflicts ------------------------------------------ tidyverse_conflicts() --\n",
      "x dplyr::filter() masks stats::filter()\n",
      "x dplyr::lag()    masks stats::lag()\n",
      "Warning message:\n",
      "\"Missing column names filled in: 'X1' [1]\"Parsed with column specification:\n",
      "cols(\n",
      "  .default = col_character(),\n",
      "  X1 = col_double(),\n",
      "  originDate = col_date(format = \"\"),\n",
      "  statusDate = col_date(format = \"\"),\n",
      "  transferDate = col_date(format = \"\"),\n",
      "  entryDate = col_date(format = \"\")\n",
      ")\n",
      "See spec(...) for full column specifications.\n"
     ]
    }
   ],
   "source": [
    "library(tidyverse)\n",
    "cetaceans <- read_csv('allCetaceanData.csv')"
   ]
  },
  {
   "cell_type": "code",
   "execution_count": 5,
   "metadata": {},
   "outputs": [
    {
     "data": {
      "text/html": [
       "<ol class=list-inline>\n",
       "\t<li>'spec_tbl_df'</li>\n",
       "\t<li>'tbl_df'</li>\n",
       "\t<li>'tbl'</li>\n",
       "\t<li>'data.frame'</li>\n",
       "</ol>\n"
      ],
      "text/latex": [
       "\\begin{enumerate*}\n",
       "\\item 'spec\\_tbl\\_df'\n",
       "\\item 'tbl\\_df'\n",
       "\\item 'tbl'\n",
       "\\item 'data.frame'\n",
       "\\end{enumerate*}\n"
      ],
      "text/markdown": [
       "1. 'spec_tbl_df'\n",
       "2. 'tbl_df'\n",
       "3. 'tbl'\n",
       "4. 'data.frame'\n",
       "\n",
       "\n"
      ],
      "text/plain": [
       "[1] \"spec_tbl_df\" \"tbl_df\"      \"tbl\"         \"data.frame\" "
      ]
     },
     "metadata": {},
     "output_type": "display_data"
    },
    {
     "data": {
      "text/html": [
       "<table>\n",
       "<caption>A tibble: 6 × 22</caption>\n",
       "<thead>\n",
       "\t<tr><th scope=col>X1</th><th scope=col>species</th><th scope=col>id</th><th scope=col>name</th><th scope=col>sex</th><th scope=col>accuracy</th><th scope=col>birthYear</th><th scope=col>acquisition</th><th scope=col>originDate</th><th scope=col>originLocation</th><th scope=col>...</th><th scope=col>transfers</th><th scope=col>currently</th><th scope=col>region</th><th scope=col>status</th><th scope=col>statusDate</th><th scope=col>COD</th><th scope=col>notes</th><th scope=col>transferDate</th><th scope=col>transfer</th><th scope=col>entryDate</th></tr>\n",
       "\t<tr><th scope=col>&lt;dbl&gt;</th><th scope=col>&lt;chr&gt;</th><th scope=col>&lt;chr&gt;</th><th scope=col>&lt;chr&gt;</th><th scope=col>&lt;chr&gt;</th><th scope=col>&lt;chr&gt;</th><th scope=col>&lt;chr&gt;</th><th scope=col>&lt;chr&gt;</th><th scope=col>&lt;date&gt;</th><th scope=col>&lt;chr&gt;</th><th scope=col>...</th><th scope=col>&lt;chr&gt;</th><th scope=col>&lt;chr&gt;</th><th scope=col>&lt;chr&gt;</th><th scope=col>&lt;chr&gt;</th><th scope=col>&lt;date&gt;</th><th scope=col>&lt;chr&gt;</th><th scope=col>&lt;chr&gt;</th><th scope=col>&lt;date&gt;</th><th scope=col>&lt;chr&gt;</th><th scope=col>&lt;date&gt;</th></tr>\n",
       "</thead>\n",
       "<tbody>\n",
       "\t<tr><td>1</td><td>Bottlenose</td><td>NOA0004614, AZA 428, MLF-428                                        </td><td>Dazzle  </td><td>F</td><td>a</td><td>1989</td><td>Born</td><td>1989-04-07</td><td>Marineland Florida     </td><td>...</td><td>NA                                                                                                                                                                                                                                                                                                                                                                                                                                                                                                 </td><td>Marineland Florida     </td><td>US</td><td>Alive</td><td>NA</td><td>NA</td><td>NA</td><td>NA</td><td>US</td><td>1989-04-07</td></tr>\n",
       "\t<tr><td>2</td><td>Bottlenose</td><td>NOA0004386, AZA 138, IDR-73-1                                       </td><td>Tursi   </td><td>F</td><td>a</td><td>1973</td><td>Born</td><td>1973-11-26</td><td>Dolphin Research Center</td><td>...</td><td>NA                                                                                                                                                                                                                                                                                                                                                                                                                                                                                                 </td><td>Dolphin Research Center</td><td>US</td><td>Alive</td><td>NA</td><td>NA</td><td>NA</td><td>NA</td><td>US</td><td>1973-11-26</td></tr>\n",
       "\t<tr><td>3</td><td>Bottlenose</td><td><span style=white-space:pre-wrap>NOA0002137, SWC-TTG-7816                                            </span></td><td>Starbuck</td><td>M</td><td>a</td><td>1978</td><td>Born</td><td>1978-05-13</td><td><span style=white-space:pre-wrap>SeaWorld San Diego     </span></td><td>...</td><td>SeaWorld San Diego to SeaWorld Aurora (??-???-1983) to SeaWorld San Diego (??-???-1983) to SeaWorld Aurora (??-???-1985) to SeaWorld San Diego (??-???-1985) to SeaWorld Orlando (&lt; Nov 1987) to SeaWorld San Antonio (&lt; 1991) to Busch Gardens Tampa (1991 / 1992) to National Aquarium in Baltimore (11-Oct-1992) to SeaWorld Aurora (22-Oct-1997) to SeaWorld San Antonio (26-Apr-1998) to SeaWorld Orlando (03-Apr-2000) to Busch Gardens Tampa (28-Sep-2000) to SeaWorld Orlando (19-Apr-2001)</td><td><span style=white-space:pre-wrap>SeaWorld Orlando       </span></td><td>US</td><td>Alive</td><td>NA</td><td>NA</td><td>NA</td><td>NA</td><td>US</td><td>1978-05-13</td></tr>\n",
       "\t<tr><td>4</td><td>Bottlenose</td><td><span style=white-space:pre-wrap>NOA0002690, SWF-TT-7903                                             </span></td><td><span style=white-space:pre-wrap>Sandy   </span></td><td>F</td><td>a</td><td>1979</td><td>Born</td><td>1979-02-03</td><td><span style=white-space:pre-wrap>SeaWorld Orlando       </span></td><td>...</td><td><span style=white-space:pre-wrap>SeaWorld Orlando to SeaWorld San Diego (&lt; Aug 1986)                                                                                                                                                                                                                                                                                                                                                                                                                                                </span></td><td><span style=white-space:pre-wrap>SeaWorld San Diego     </span></td><td>US</td><td>Alive</td><td>NA</td><td>NA</td><td>NA</td><td>NA</td><td>US</td><td>1979-02-03</td></tr>\n",
       "\t<tr><td>5</td><td>Bottlenose</td><td>NOA0004418, AZA 242, SWF-TT-7904, MH-82-36-TT (New England Aquarium)</td><td>Sandy   </td><td>M</td><td>a</td><td>1979</td><td>Born</td><td>1979-08-15</td><td>SeaWorld Orlando       </td><td>...</td><td>SeaWorld Orlando to New England Aquarium (22-Feb-1982) to Dolphin Research Center (23-Oct-1991)                                                                                                                                                                                                                                                                                                                                                                                                    </td><td>Dolphin Research Center</td><td>US</td><td>Alive</td><td>NA</td><td>NA</td><td>NA</td><td>NA</td><td>US</td><td>1979-08-15</td></tr>\n",
       "\t<tr><td>6</td><td>Bottlenose</td><td><span style=white-space:pre-wrap>NOA0002725, SWC-TT-8014                                             </span></td><td><span style=white-space:pre-wrap>Nacha   </span></td><td>F</td><td>a</td><td>1980</td><td>Born</td><td>1980-10-10</td><td><span style=white-space:pre-wrap>SeaWorld San Diego     </span></td><td>...</td><td><span style=white-space:pre-wrap>SeaWorld San Diego to SeaWorld Aurora (&lt; 1987) to SeaWorld San Antonio (13-Oct-1990?)                                                                                                                                                                                                                                                                                                                                                                                                              </span></td><td><span style=white-space:pre-wrap>SeaWorld San Antonio   </span></td><td>US</td><td>Alive</td><td>NA</td><td>NA</td><td>NA</td><td>NA</td><td>US</td><td>1980-10-10</td></tr>\n",
       "</tbody>\n",
       "</table>\n"
      ],
      "text/latex": [
       "A tibble: 6 × 22\n",
       "\\begin{tabular}{r|llllllllllllllllllllll}\n",
       " X1 & species & id & name & sex & accuracy & birthYear & acquisition & originDate & originLocation & mother & father & transfers & currently & region & status & statusDate & COD & notes & transferDate & transfer & entryDate\\\\\n",
       " <dbl> & <chr> & <chr> & <chr> & <chr> & <chr> & <chr> & <chr> & <date> & <chr> & <chr> & <chr> & <chr> & <chr> & <chr> & <chr> & <date> & <chr> & <chr> & <date> & <chr> & <date>\\\\\n",
       "\\hline\n",
       "\t 1 & Bottlenose & NOA0004614, AZA 428, MLF-428                                         & Dazzle   & F & a & 1989 & Born & 1989-04-07 & Marineland Florida      & Betty III          & Davy II             & NA                                                                                                                                                                                                                                                                                                                                                                                                                                                                                                  & Marineland Florida      & US & Alive & NA & NA & NA & NA & US & 1989-04-07\\\\\n",
       "\t 2 & Bottlenose & NOA0004386, AZA 138, IDR-73-1                                        & Tursi    & F & a & 1973 & Born & 1973-11-26 & Dolphin Research Center & Little Bit         & Mr. Gipper          & NA                                                                                                                                                                                                                                                                                                                                                                                                                                                                                                  & Dolphin Research Center & US & Alive & NA & NA & NA & NA & US & 1973-11-26\\\\\n",
       "\t 3 & Bottlenose & NOA0002137, SWC-TTG-7816                                             & Starbuck & M & a & 1978 & Born & 1978-05-13 & SeaWorld San Diego      & Cindy (T.t. gilli) & Sambo               & SeaWorld San Diego to SeaWorld Aurora (??-???-1983) to SeaWorld San Diego (??-???-1983) to SeaWorld Aurora (??-???-1985) to SeaWorld San Diego (??-???-1985) to SeaWorld Orlando (< Nov 1987) to SeaWorld San Antonio (< 1991) to Busch Gardens Tampa (1991 / 1992) to National Aquarium in Baltimore (11-Oct-1992) to SeaWorld Aurora (22-Oct-1997) to SeaWorld San Antonio (26-Apr-1998) to SeaWorld Orlando (03-Apr-2000) to Busch Gardens Tampa (28-Sep-2000) to SeaWorld Orlando (19-Apr-2001) & SeaWorld Orlando        & US & Alive & NA & NA & NA & NA & US & 1978-05-13\\\\\n",
       "\t 4 & Bottlenose & NOA0002690, SWF-TT-7903                                              & Sandy    & F & a & 1979 & Born & 1979-02-03 & SeaWorld Orlando        & Gigi               & NA                  & SeaWorld Orlando to SeaWorld San Diego (< Aug 1986)                                                                                                                                                                                                                                                                                                                                                                                                                                                 & SeaWorld San Diego      & US & Alive & NA & NA & NA & NA & US & 1979-02-03\\\\\n",
       "\t 5 & Bottlenose & NOA0004418, AZA 242, SWF-TT-7904, MH-82-36-TT (New England Aquarium) & Sandy    & M & a & 1979 & Born & 1979-08-15 & SeaWorld Orlando        & Wendy              & NA                  & SeaWorld Orlando to New England Aquarium (22-Feb-1982) to Dolphin Research Center (23-Oct-1991)                                                                                                                                                                                                                                                                                                                                                                                                     & Dolphin Research Center & US & Alive & NA & NA & NA & NA & US & 1979-08-15\\\\\n",
       "\t 6 & Bottlenose & NOA0002725, SWC-TT-8014                                              & Nacha    & F & a & 1980 & Born & 1980-10-10 & SeaWorld San Diego      & Notchfin           & Jethro (T.t. gilli) & SeaWorld San Diego to SeaWorld Aurora (< 1987) to SeaWorld San Antonio (13-Oct-1990?)                                                                                                                                                                                                                                                                                                                                                                                                               & SeaWorld San Antonio    & US & Alive & NA & NA & NA & NA & US & 1980-10-10\\\\\n",
       "\\end{tabular}\n"
      ],
      "text/markdown": [
       "\n",
       "A tibble: 6 × 22\n",
       "\n",
       "| X1 &lt;dbl&gt; | species &lt;chr&gt; | id &lt;chr&gt; | name &lt;chr&gt; | sex &lt;chr&gt; | accuracy &lt;chr&gt; | birthYear &lt;chr&gt; | acquisition &lt;chr&gt; | originDate &lt;date&gt; | originLocation &lt;chr&gt; | ... ... | transfers &lt;chr&gt; | currently &lt;chr&gt; | region &lt;chr&gt; | status &lt;chr&gt; | statusDate &lt;date&gt; | COD &lt;chr&gt; | notes &lt;chr&gt; | transferDate &lt;date&gt; | transfer &lt;chr&gt; | entryDate &lt;date&gt; |\n",
       "|---|---|---|---|---|---|---|---|---|---|---|---|---|---|---|---|---|---|---|---|---|\n",
       "| 1 | Bottlenose | NOA0004614, AZA 428, MLF-428                                         | Dazzle   | F | a | 1989 | Born | 1989-04-07 | Marineland Florida      | ... | NA                                                                                                                                                                                                                                                                                                                                                                                                                                                                                                  | Marineland Florida      | US | Alive | NA | NA | NA | NA | US | 1989-04-07 |\n",
       "| 2 | Bottlenose | NOA0004386, AZA 138, IDR-73-1                                        | Tursi    | F | a | 1973 | Born | 1973-11-26 | Dolphin Research Center | ... | NA                                                                                                                                                                                                                                                                                                                                                                                                                                                                                                  | Dolphin Research Center | US | Alive | NA | NA | NA | NA | US | 1973-11-26 |\n",
       "| 3 | Bottlenose | NOA0002137, SWC-TTG-7816                                             | Starbuck | M | a | 1978 | Born | 1978-05-13 | SeaWorld San Diego      | ... | SeaWorld San Diego to SeaWorld Aurora (??-???-1983) to SeaWorld San Diego (??-???-1983) to SeaWorld Aurora (??-???-1985) to SeaWorld San Diego (??-???-1985) to SeaWorld Orlando (&lt; Nov 1987) to SeaWorld San Antonio (&lt; 1991) to Busch Gardens Tampa (1991 / 1992) to National Aquarium in Baltimore (11-Oct-1992) to SeaWorld Aurora (22-Oct-1997) to SeaWorld San Antonio (26-Apr-1998) to SeaWorld Orlando (03-Apr-2000) to Busch Gardens Tampa (28-Sep-2000) to SeaWorld Orlando (19-Apr-2001) | SeaWorld Orlando        | US | Alive | NA | NA | NA | NA | US | 1978-05-13 |\n",
       "| 4 | Bottlenose | NOA0002690, SWF-TT-7903                                              | Sandy    | F | a | 1979 | Born | 1979-02-03 | SeaWorld Orlando        | ... | SeaWorld Orlando to SeaWorld San Diego (&lt; Aug 1986)                                                                                                                                                                                                                                                                                                                                                                                                                                                 | SeaWorld San Diego      | US | Alive | NA | NA | NA | NA | US | 1979-02-03 |\n",
       "| 5 | Bottlenose | NOA0004418, AZA 242, SWF-TT-7904, MH-82-36-TT (New England Aquarium) | Sandy    | M | a | 1979 | Born | 1979-08-15 | SeaWorld Orlando        | ... | SeaWorld Orlando to New England Aquarium (22-Feb-1982) to Dolphin Research Center (23-Oct-1991)                                                                                                                                                                                                                                                                                                                                                                                                     | Dolphin Research Center | US | Alive | NA | NA | NA | NA | US | 1979-08-15 |\n",
       "| 6 | Bottlenose | NOA0002725, SWC-TT-8014                                              | Nacha    | F | a | 1980 | Born | 1980-10-10 | SeaWorld San Diego      | ... | SeaWorld San Diego to SeaWorld Aurora (&lt; 1987) to SeaWorld San Antonio (13-Oct-1990?)                                                                                                                                                                                                                                                                                                                                                                                                               | SeaWorld San Antonio    | US | Alive | NA | NA | NA | NA | US | 1980-10-10 |\n",
       "\n"
      ],
      "text/plain": [
       "  X1 species   \n",
       "1 1  Bottlenose\n",
       "2 2  Bottlenose\n",
       "3 3  Bottlenose\n",
       "4 4  Bottlenose\n",
       "5 5  Bottlenose\n",
       "6 6  Bottlenose\n",
       "  id                                                                   name    \n",
       "1 NOA0004614, AZA 428, MLF-428                                         Dazzle  \n",
       "2 NOA0004386, AZA 138, IDR-73-1                                        Tursi   \n",
       "3 NOA0002137, SWC-TTG-7816                                             Starbuck\n",
       "4 NOA0002690, SWF-TT-7903                                              Sandy   \n",
       "5 NOA0004418, AZA 242, SWF-TT-7904, MH-82-36-TT (New England Aquarium) Sandy   \n",
       "6 NOA0002725, SWC-TT-8014                                              Nacha   \n",
       "  sex accuracy birthYear acquisition originDate originLocation          ...\n",
       "1 F   a        1989      Born        1989-04-07 Marineland Florida      ...\n",
       "2 F   a        1973      Born        1973-11-26 Dolphin Research Center ...\n",
       "3 M   a        1978      Born        1978-05-13 SeaWorld San Diego      ...\n",
       "4 F   a        1979      Born        1979-02-03 SeaWorld Orlando        ...\n",
       "5 M   a        1979      Born        1979-08-15 SeaWorld Orlando        ...\n",
       "6 F   a        1980      Born        1980-10-10 SeaWorld San Diego      ...\n",
       "  transfers                                                                                                                                                                                                                                                                                                                                                                                                                                                                                          \n",
       "1 NA                                                                                                                                                                                                                                                                                                                                                                                                                                                                                                 \n",
       "2 NA                                                                                                                                                                                                                                                                                                                                                                                                                                                                                                 \n",
       "3 SeaWorld San Diego to SeaWorld Aurora (??-???-1983) to SeaWorld San Diego (??-???-1983) to SeaWorld Aurora (??-???-1985) to SeaWorld San Diego (??-???-1985) to SeaWorld Orlando (< Nov 1987) to SeaWorld San Antonio (< 1991) to Busch Gardens Tampa (1991 / 1992) to National Aquarium in Baltimore (11-Oct-1992) to SeaWorld Aurora (22-Oct-1997) to SeaWorld San Antonio (26-Apr-1998) to SeaWorld Orlando (03-Apr-2000) to Busch Gardens Tampa (28-Sep-2000) to SeaWorld Orlando (19-Apr-2001)\n",
       "4 SeaWorld Orlando to SeaWorld San Diego (< Aug 1986)                                                                                                                                                                                                                                                                                                                                                                                                                                                \n",
       "5 SeaWorld Orlando to New England Aquarium (22-Feb-1982) to Dolphin Research Center (23-Oct-1991)                                                                                                                                                                                                                                                                                                                                                                                                    \n",
       "6 SeaWorld San Diego to SeaWorld Aurora (< 1987) to SeaWorld San Antonio (13-Oct-1990?)                                                                                                                                                                                                                                                                                                                                                                                                              \n",
       "  currently               region status statusDate COD notes transferDate\n",
       "1 Marineland Florida      US     Alive  <NA>       NA  NA    <NA>        \n",
       "2 Dolphin Research Center US     Alive  <NA>       NA  NA    <NA>        \n",
       "3 SeaWorld Orlando        US     Alive  <NA>       NA  NA    <NA>        \n",
       "4 SeaWorld San Diego      US     Alive  <NA>       NA  NA    <NA>        \n",
       "5 Dolphin Research Center US     Alive  <NA>       NA  NA    <NA>        \n",
       "6 SeaWorld San Antonio    US     Alive  <NA>       NA  NA    <NA>        \n",
       "  transfer entryDate \n",
       "1 US       1989-04-07\n",
       "2 US       1973-11-26\n",
       "3 US       1978-05-13\n",
       "4 US       1979-02-03\n",
       "5 US       1979-08-15\n",
       "6 US       1980-10-10"
      ]
     },
     "metadata": {},
     "output_type": "display_data"
    }
   ],
   "source": [
    "class(cetaceans)\n",
    "cetaceans %>%  head()"
   ]
  },
  {
   "cell_type": "code",
   "execution_count": 6,
   "metadata": {},
   "outputs": [
    {
     "data": {
      "text/html": [
       "<table>\n",
       "<caption>A tibble: 10 × 22</caption>\n",
       "<thead>\n",
       "\t<tr><th scope=col>X1</th><th scope=col>species</th><th scope=col>id</th><th scope=col>name</th><th scope=col>sex</th><th scope=col>accuracy</th><th scope=col>birthYear</th><th scope=col>acquisition</th><th scope=col>originDate</th><th scope=col>originLocation</th><th scope=col>...</th><th scope=col>transfers</th><th scope=col>currently</th><th scope=col>region</th><th scope=col>status</th><th scope=col>statusDate</th><th scope=col>COD</th><th scope=col>notes</th><th scope=col>transferDate</th><th scope=col>transfer</th><th scope=col>entryDate</th></tr>\n",
       "\t<tr><th scope=col>&lt;dbl&gt;</th><th scope=col>&lt;chr&gt;</th><th scope=col>&lt;chr&gt;</th><th scope=col>&lt;chr&gt;</th><th scope=col>&lt;chr&gt;</th><th scope=col>&lt;chr&gt;</th><th scope=col>&lt;chr&gt;</th><th scope=col>&lt;chr&gt;</th><th scope=col>&lt;date&gt;</th><th scope=col>&lt;chr&gt;</th><th scope=col>...</th><th scope=col>&lt;chr&gt;</th><th scope=col>&lt;chr&gt;</th><th scope=col>&lt;chr&gt;</th><th scope=col>&lt;chr&gt;</th><th scope=col>&lt;date&gt;</th><th scope=col>&lt;chr&gt;</th><th scope=col>&lt;chr&gt;</th><th scope=col>&lt;date&gt;</th><th scope=col>&lt;chr&gt;</th><th scope=col>&lt;date&gt;</th></tr>\n",
       "</thead>\n",
       "<tbody>\n",
       "\t<tr><td> 1</td><td>Bottlenose</td><td>NOA0004614, AZA 428, MLF-428                                        </td><td>Dazzle  </td><td>F</td><td>a</td><td>1989</td><td>Born</td><td>1989-04-07</td><td>Marineland Florida     </td><td>...</td><td>NA                                                                                                                                                                                                                                                                                                                                                                                                                                                                                                 </td><td>Marineland Florida     </td><td>US</td><td>Alive</td><td>NA</td><td>NA</td><td>NA</td><td>NA</td><td>US</td><td>1989-04-07</td></tr>\n",
       "\t<tr><td> 2</td><td>Bottlenose</td><td>NOA0004386, AZA 138, IDR-73-1                                       </td><td>Tursi   </td><td>F</td><td>a</td><td>1973</td><td>Born</td><td>1973-11-26</td><td>Dolphin Research Center</td><td>...</td><td>NA                                                                                                                                                                                                                                                                                                                                                                                                                                                                                                 </td><td>Dolphin Research Center</td><td>US</td><td>Alive</td><td>NA</td><td>NA</td><td>NA</td><td>NA</td><td>US</td><td>1973-11-26</td></tr>\n",
       "\t<tr><td> 3</td><td>Bottlenose</td><td><span style=white-space:pre-wrap>NOA0002137, SWC-TTG-7816                                            </span></td><td>Starbuck</td><td>M</td><td>a</td><td>1978</td><td>Born</td><td>1978-05-13</td><td><span style=white-space:pre-wrap>SeaWorld San Diego     </span></td><td>...</td><td>SeaWorld San Diego to SeaWorld Aurora (??-???-1983) to SeaWorld San Diego (??-???-1983) to SeaWorld Aurora (??-???-1985) to SeaWorld San Diego (??-???-1985) to SeaWorld Orlando (&lt; Nov 1987) to SeaWorld San Antonio (&lt; 1991) to Busch Gardens Tampa (1991 / 1992) to National Aquarium in Baltimore (11-Oct-1992) to SeaWorld Aurora (22-Oct-1997) to SeaWorld San Antonio (26-Apr-1998) to SeaWorld Orlando (03-Apr-2000) to Busch Gardens Tampa (28-Sep-2000) to SeaWorld Orlando (19-Apr-2001)</td><td><span style=white-space:pre-wrap>SeaWorld Orlando       </span></td><td>US</td><td>Alive</td><td>NA</td><td>NA</td><td>NA</td><td>NA</td><td>US</td><td>1978-05-13</td></tr>\n",
       "\t<tr><td> 4</td><td>Bottlenose</td><td><span style=white-space:pre-wrap>NOA0002690, SWF-TT-7903                                             </span></td><td><span style=white-space:pre-wrap>Sandy   </span></td><td>F</td><td>a</td><td>1979</td><td>Born</td><td>1979-02-03</td><td><span style=white-space:pre-wrap>SeaWorld Orlando       </span></td><td>...</td><td><span style=white-space:pre-wrap>SeaWorld Orlando to SeaWorld San Diego (&lt; Aug 1986)                                                                                                                                                                                                                                                                                                                                                                                                                                                </span></td><td><span style=white-space:pre-wrap>SeaWorld San Diego     </span></td><td>US</td><td>Alive</td><td>NA</td><td>NA</td><td>NA</td><td>NA</td><td>US</td><td>1979-02-03</td></tr>\n",
       "\t<tr><td> 5</td><td>Bottlenose</td><td>NOA0004418, AZA 242, SWF-TT-7904, MH-82-36-TT (New England Aquarium)</td><td>Sandy   </td><td>M</td><td>a</td><td>1979</td><td>Born</td><td>1979-08-15</td><td>SeaWorld Orlando       </td><td>...</td><td>SeaWorld Orlando to New England Aquarium (22-Feb-1982) to Dolphin Research Center (23-Oct-1991)                                                                                                                                                                                                                                                                                                                                                                                                    </td><td>Dolphin Research Center</td><td>US</td><td>Alive</td><td>NA</td><td>NA</td><td>NA</td><td>NA</td><td>US</td><td>1979-08-15</td></tr>\n",
       "\t<tr><td> 6</td><td>Bottlenose</td><td><span style=white-space:pre-wrap>NOA0002725, SWC-TT-8014                                             </span></td><td><span style=white-space:pre-wrap>Nacha   </span></td><td>F</td><td>a</td><td>1980</td><td>Born</td><td>1980-10-10</td><td><span style=white-space:pre-wrap>SeaWorld San Diego     </span></td><td>...</td><td><span style=white-space:pre-wrap>SeaWorld San Diego to SeaWorld Aurora (&lt; 1987) to SeaWorld San Antonio (13-Oct-1990?)                                                                                                                                                                                                                                                                                                                                                                                                              </span></td><td><span style=white-space:pre-wrap>SeaWorld San Antonio   </span></td><td>US</td><td>Alive</td><td>NA</td><td>NA</td><td>NA</td><td>NA</td><td>US</td><td>1980-10-10</td></tr>\n",
       "\t<tr><td> 7</td><td>Bottlenose</td><td>NOA0005036, MH-86-181-TT                                            </td><td>Kama    </td><td>M</td><td>a</td><td>1981</td><td>Born</td><td>1981-03-27</td><td>SeaWorld San Diego     </td><td>...</td><td>SeaWorld San Diego to New England Aquarium (22-Oct-1986) to U.S. Navy MMP (17-Nov-1987)                                                                                                                                                                                                                                                                                                                                                                                                            </td><td>U.S. Navy              </td><td>US</td><td>Alive</td><td>NA</td><td>NA</td><td>NA</td><td>NA</td><td>US</td><td>1981-03-27</td></tr>\n",
       "\t<tr><td> 8</td><td>Bottlenose</td><td><span style=white-space:pre-wrap>NOA0002746, SWF-TT-8106                                             </span></td><td>Jenever </td><td>F</td><td>a</td><td>1981</td><td>Born</td><td>1981-10-20</td><td><span style=white-space:pre-wrap>SeaWorld Orlando       </span></td><td>...</td><td><span style=white-space:pre-wrap>SeaWorld Orlando to SeaWorld San Antonio (&lt; 1991) to SeaWorld Orlando (03-Apr-2000)                                                                                                                                                                                                                                                                                                                                                                                                                </span></td><td><span style=white-space:pre-wrap>SeaWorld Orlando       </span></td><td>US</td><td>Alive</td><td>NA</td><td>NA</td><td>NA</td><td>NA</td><td>US</td><td>1981-10-20</td></tr>\n",
       "\t<tr><td> 9</td><td>Bottlenose</td><td>NOA0002766, AZA 313, SWC-TT-8228                                    </td><td>Duffy   </td><td>M</td><td>a</td><td>1982</td><td>Born</td><td>1982-10-16</td><td>SeaWorld San Diego     </td><td>...</td><td>SeaWorld San Diego to SeaWorld Aurora (15-Apr-2000) to SeaWorld Orlando (17-Feb-2001) to Theater of the Sea (28-Jun-2005)                                                                                                                                                                                                                                                                                                                                                                          </td><td>Theater of the Sea     </td><td>US</td><td>Alive</td><td>NA</td><td>NA</td><td>NA</td><td>NA</td><td>US</td><td>1982-10-16</td></tr>\n",
       "\t<tr><td>10</td><td>Bottlenose</td><td>NOA0002784, AZA 334, SWC-TTG-8326                                   </td><td>Astra   </td><td>F</td><td>a</td><td>1983</td><td>Born</td><td>1983-03-07</td><td>SeaWorld San Diego     </td><td>...</td><td>SeaWorld San Diego to SeaWorld Aurora (??-???-????) to Unknown History (SeaWorld) to SeaWorld Orlando (??-???-????) to Discovery Cove (~ Feb 2000)                                                                                                                                                                                                                                                                                                                                                 </td><td>Discovery Cove         </td><td>US</td><td>Alive</td><td>NA</td><td>NA</td><td>NA</td><td>NA</td><td>US</td><td>1983-03-07</td></tr>\n",
       "</tbody>\n",
       "</table>\n"
      ],
      "text/latex": [
       "A tibble: 10 × 22\n",
       "\\begin{tabular}{r|llllllllllllllllllllll}\n",
       " X1 & species & id & name & sex & accuracy & birthYear & acquisition & originDate & originLocation & mother & father & transfers & currently & region & status & statusDate & COD & notes & transferDate & transfer & entryDate\\\\\n",
       " <dbl> & <chr> & <chr> & <chr> & <chr> & <chr> & <chr> & <chr> & <date> & <chr> & <chr> & <chr> & <chr> & <chr> & <chr> & <chr> & <date> & <chr> & <chr> & <date> & <chr> & <date>\\\\\n",
       "\\hline\n",
       "\t  1 & Bottlenose & NOA0004614, AZA 428, MLF-428                                         & Dazzle   & F & a & 1989 & Born & 1989-04-07 & Marineland Florida      & Betty III          & Davy II             & NA                                                                                                                                                                                                                                                                                                                                                                                                                                                                                                  & Marineland Florida      & US & Alive & NA & NA & NA & NA & US & 1989-04-07\\\\\n",
       "\t  2 & Bottlenose & NOA0004386, AZA 138, IDR-73-1                                        & Tursi    & F & a & 1973 & Born & 1973-11-26 & Dolphin Research Center & Little Bit         & Mr. Gipper          & NA                                                                                                                                                                                                                                                                                                                                                                                                                                                                                                  & Dolphin Research Center & US & Alive & NA & NA & NA & NA & US & 1973-11-26\\\\\n",
       "\t  3 & Bottlenose & NOA0002137, SWC-TTG-7816                                             & Starbuck & M & a & 1978 & Born & 1978-05-13 & SeaWorld San Diego      & Cindy (T.t. gilli) & Sambo               & SeaWorld San Diego to SeaWorld Aurora (??-???-1983) to SeaWorld San Diego (??-???-1983) to SeaWorld Aurora (??-???-1985) to SeaWorld San Diego (??-???-1985) to SeaWorld Orlando (< Nov 1987) to SeaWorld San Antonio (< 1991) to Busch Gardens Tampa (1991 / 1992) to National Aquarium in Baltimore (11-Oct-1992) to SeaWorld Aurora (22-Oct-1997) to SeaWorld San Antonio (26-Apr-1998) to SeaWorld Orlando (03-Apr-2000) to Busch Gardens Tampa (28-Sep-2000) to SeaWorld Orlando (19-Apr-2001) & SeaWorld Orlando        & US & Alive & NA & NA & NA & NA & US & 1978-05-13\\\\\n",
       "\t  4 & Bottlenose & NOA0002690, SWF-TT-7903                                              & Sandy    & F & a & 1979 & Born & 1979-02-03 & SeaWorld Orlando        & Gigi               & NA                  & SeaWorld Orlando to SeaWorld San Diego (< Aug 1986)                                                                                                                                                                                                                                                                                                                                                                                                                                                 & SeaWorld San Diego      & US & Alive & NA & NA & NA & NA & US & 1979-02-03\\\\\n",
       "\t  5 & Bottlenose & NOA0004418, AZA 242, SWF-TT-7904, MH-82-36-TT (New England Aquarium) & Sandy    & M & a & 1979 & Born & 1979-08-15 & SeaWorld Orlando        & Wendy              & NA                  & SeaWorld Orlando to New England Aquarium (22-Feb-1982) to Dolphin Research Center (23-Oct-1991)                                                                                                                                                                                                                                                                                                                                                                                                     & Dolphin Research Center & US & Alive & NA & NA & NA & NA & US & 1979-08-15\\\\\n",
       "\t  6 & Bottlenose & NOA0002725, SWC-TT-8014                                              & Nacha    & F & a & 1980 & Born & 1980-10-10 & SeaWorld San Diego      & Notchfin           & Jethro (T.t. gilli) & SeaWorld San Diego to SeaWorld Aurora (< 1987) to SeaWorld San Antonio (13-Oct-1990?)                                                                                                                                                                                                                                                                                                                                                                                                               & SeaWorld San Antonio    & US & Alive & NA & NA & NA & NA & US & 1980-10-10\\\\\n",
       "\t  7 & Bottlenose & NOA0005036, MH-86-181-TT                                             & Kama     & M & a & 1981 & Born & 1981-03-27 & SeaWorld San Diego      & Jiffy              & Jethro (T.t. gilli) & SeaWorld San Diego to New England Aquarium (22-Oct-1986) to U.S. Navy MMP (17-Nov-1987)                                                                                                                                                                                                                                                                                                                                                                                                             & U.S. Navy               & US & Alive & NA & NA & NA & NA & US & 1981-03-27\\\\\n",
       "\t  8 & Bottlenose & NOA0002746, SWF-TT-8106                                              & Jenever  & F & a & 1981 & Born & 1981-10-20 & SeaWorld Orlando        & Wendy              & NA                  & SeaWorld Orlando to SeaWorld San Antonio (< 1991) to SeaWorld Orlando (03-Apr-2000)                                                                                                                                                                                                                                                                                                                                                                                                                 & SeaWorld Orlando        & US & Alive & NA & NA & NA & NA & US & 1981-10-20\\\\\n",
       "\t  9 & Bottlenose & NOA0002766, AZA 313, SWC-TT-8228                                     & Duffy    & M & a & 1982 & Born & 1982-10-16 & SeaWorld San Diego      & Priscilla          & Clicker             & SeaWorld San Diego to SeaWorld Aurora (15-Apr-2000) to SeaWorld Orlando (17-Feb-2001) to Theater of the Sea (28-Jun-2005)                                                                                                                                                                                                                                                                                                                                                                           & Theater of the Sea      & US & Alive & NA & NA & NA & NA & US & 1982-10-16\\\\\n",
       "\t 10 & Bottlenose & NOA0002784, AZA 334, SWC-TTG-8326                                    & Astra    & F & a & 1983 & Born & 1983-03-07 & SeaWorld San Diego      & Cindy              & Clicker             & SeaWorld San Diego to SeaWorld Aurora (??-???-????) to Unknown History (SeaWorld) to SeaWorld Orlando (??-???-????) to Discovery Cove (\\textasciitilde{} Feb 2000)                                                                                                                                                                                                                                                                                                                                                  & Discovery Cove          & US & Alive & NA & NA & NA & NA & US & 1983-03-07\\\\\n",
       "\\end{tabular}\n"
      ],
      "text/markdown": [
       "\n",
       "A tibble: 10 × 22\n",
       "\n",
       "| X1 &lt;dbl&gt; | species &lt;chr&gt; | id &lt;chr&gt; | name &lt;chr&gt; | sex &lt;chr&gt; | accuracy &lt;chr&gt; | birthYear &lt;chr&gt; | acquisition &lt;chr&gt; | originDate &lt;date&gt; | originLocation &lt;chr&gt; | ... ... | transfers &lt;chr&gt; | currently &lt;chr&gt; | region &lt;chr&gt; | status &lt;chr&gt; | statusDate &lt;date&gt; | COD &lt;chr&gt; | notes &lt;chr&gt; | transferDate &lt;date&gt; | transfer &lt;chr&gt; | entryDate &lt;date&gt; |\n",
       "|---|---|---|---|---|---|---|---|---|---|---|---|---|---|---|---|---|---|---|---|---|\n",
       "|  1 | Bottlenose | NOA0004614, AZA 428, MLF-428                                         | Dazzle   | F | a | 1989 | Born | 1989-04-07 | Marineland Florida      | ... | NA                                                                                                                                                                                                                                                                                                                                                                                                                                                                                                  | Marineland Florida      | US | Alive | NA | NA | NA | NA | US | 1989-04-07 |\n",
       "|  2 | Bottlenose | NOA0004386, AZA 138, IDR-73-1                                        | Tursi    | F | a | 1973 | Born | 1973-11-26 | Dolphin Research Center | ... | NA                                                                                                                                                                                                                                                                                                                                                                                                                                                                                                  | Dolphin Research Center | US | Alive | NA | NA | NA | NA | US | 1973-11-26 |\n",
       "|  3 | Bottlenose | NOA0002137, SWC-TTG-7816                                             | Starbuck | M | a | 1978 | Born | 1978-05-13 | SeaWorld San Diego      | ... | SeaWorld San Diego to SeaWorld Aurora (??-???-1983) to SeaWorld San Diego (??-???-1983) to SeaWorld Aurora (??-???-1985) to SeaWorld San Diego (??-???-1985) to SeaWorld Orlando (&lt; Nov 1987) to SeaWorld San Antonio (&lt; 1991) to Busch Gardens Tampa (1991 / 1992) to National Aquarium in Baltimore (11-Oct-1992) to SeaWorld Aurora (22-Oct-1997) to SeaWorld San Antonio (26-Apr-1998) to SeaWorld Orlando (03-Apr-2000) to Busch Gardens Tampa (28-Sep-2000) to SeaWorld Orlando (19-Apr-2001) | SeaWorld Orlando        | US | Alive | NA | NA | NA | NA | US | 1978-05-13 |\n",
       "|  4 | Bottlenose | NOA0002690, SWF-TT-7903                                              | Sandy    | F | a | 1979 | Born | 1979-02-03 | SeaWorld Orlando        | ... | SeaWorld Orlando to SeaWorld San Diego (&lt; Aug 1986)                                                                                                                                                                                                                                                                                                                                                                                                                                                 | SeaWorld San Diego      | US | Alive | NA | NA | NA | NA | US | 1979-02-03 |\n",
       "|  5 | Bottlenose | NOA0004418, AZA 242, SWF-TT-7904, MH-82-36-TT (New England Aquarium) | Sandy    | M | a | 1979 | Born | 1979-08-15 | SeaWorld Orlando        | ... | SeaWorld Orlando to New England Aquarium (22-Feb-1982) to Dolphin Research Center (23-Oct-1991)                                                                                                                                                                                                                                                                                                                                                                                                     | Dolphin Research Center | US | Alive | NA | NA | NA | NA | US | 1979-08-15 |\n",
       "|  6 | Bottlenose | NOA0002725, SWC-TT-8014                                              | Nacha    | F | a | 1980 | Born | 1980-10-10 | SeaWorld San Diego      | ... | SeaWorld San Diego to SeaWorld Aurora (&lt; 1987) to SeaWorld San Antonio (13-Oct-1990?)                                                                                                                                                                                                                                                                                                                                                                                                               | SeaWorld San Antonio    | US | Alive | NA | NA | NA | NA | US | 1980-10-10 |\n",
       "|  7 | Bottlenose | NOA0005036, MH-86-181-TT                                             | Kama     | M | a | 1981 | Born | 1981-03-27 | SeaWorld San Diego      | ... | SeaWorld San Diego to New England Aquarium (22-Oct-1986) to U.S. Navy MMP (17-Nov-1987)                                                                                                                                                                                                                                                                                                                                                                                                             | U.S. Navy               | US | Alive | NA | NA | NA | NA | US | 1981-03-27 |\n",
       "|  8 | Bottlenose | NOA0002746, SWF-TT-8106                                              | Jenever  | F | a | 1981 | Born | 1981-10-20 | SeaWorld Orlando        | ... | SeaWorld Orlando to SeaWorld San Antonio (&lt; 1991) to SeaWorld Orlando (03-Apr-2000)                                                                                                                                                                                                                                                                                                                                                                                                                 | SeaWorld Orlando        | US | Alive | NA | NA | NA | NA | US | 1981-10-20 |\n",
       "|  9 | Bottlenose | NOA0002766, AZA 313, SWC-TT-8228                                     | Duffy    | M | a | 1982 | Born | 1982-10-16 | SeaWorld San Diego      | ... | SeaWorld San Diego to SeaWorld Aurora (15-Apr-2000) to SeaWorld Orlando (17-Feb-2001) to Theater of the Sea (28-Jun-2005)                                                                                                                                                                                                                                                                                                                                                                           | Theater of the Sea      | US | Alive | NA | NA | NA | NA | US | 1982-10-16 |\n",
       "| 10 | Bottlenose | NOA0002784, AZA 334, SWC-TTG-8326                                    | Astra    | F | a | 1983 | Born | 1983-03-07 | SeaWorld San Diego      | ... | SeaWorld San Diego to SeaWorld Aurora (??-???-????) to Unknown History (SeaWorld) to SeaWorld Orlando (??-???-????) to Discovery Cove (~ Feb 2000)                                                                                                                                                                                                                                                                                                                                                  | Discovery Cove          | US | Alive | NA | NA | NA | NA | US | 1983-03-07 |\n",
       "\n"
      ],
      "text/plain": [
       "   X1 species   \n",
       "1   1 Bottlenose\n",
       "2   2 Bottlenose\n",
       "3   3 Bottlenose\n",
       "4   4 Bottlenose\n",
       "5   5 Bottlenose\n",
       "6   6 Bottlenose\n",
       "7   7 Bottlenose\n",
       "8   8 Bottlenose\n",
       "9   9 Bottlenose\n",
       "10 10 Bottlenose\n",
       "   id                                                                  \n",
       "1  NOA0004614, AZA 428, MLF-428                                        \n",
       "2  NOA0004386, AZA 138, IDR-73-1                                       \n",
       "3  NOA0002137, SWC-TTG-7816                                            \n",
       "4  NOA0002690, SWF-TT-7903                                             \n",
       "5  NOA0004418, AZA 242, SWF-TT-7904, MH-82-36-TT (New England Aquarium)\n",
       "6  NOA0002725, SWC-TT-8014                                             \n",
       "7  NOA0005036, MH-86-181-TT                                            \n",
       "8  NOA0002746, SWF-TT-8106                                             \n",
       "9  NOA0002766, AZA 313, SWC-TT-8228                                    \n",
       "10 NOA0002784, AZA 334, SWC-TTG-8326                                   \n",
       "   name     sex accuracy birthYear acquisition originDate\n",
       "1  Dazzle   F   a        1989      Born        1989-04-07\n",
       "2  Tursi    F   a        1973      Born        1973-11-26\n",
       "3  Starbuck M   a        1978      Born        1978-05-13\n",
       "4  Sandy    F   a        1979      Born        1979-02-03\n",
       "5  Sandy    M   a        1979      Born        1979-08-15\n",
       "6  Nacha    F   a        1980      Born        1980-10-10\n",
       "7  Kama     M   a        1981      Born        1981-03-27\n",
       "8  Jenever  F   a        1981      Born        1981-10-20\n",
       "9  Duffy    M   a        1982      Born        1982-10-16\n",
       "10 Astra    F   a        1983      Born        1983-03-07\n",
       "   originLocation          ...\n",
       "1  Marineland Florida      ...\n",
       "2  Dolphin Research Center ...\n",
       "3  SeaWorld San Diego      ...\n",
       "4  SeaWorld Orlando        ...\n",
       "5  SeaWorld Orlando        ...\n",
       "6  SeaWorld San Diego      ...\n",
       "7  SeaWorld San Diego      ...\n",
       "8  SeaWorld Orlando        ...\n",
       "9  SeaWorld San Diego      ...\n",
       "10 SeaWorld San Diego      ...\n",
       "   transfers                                                                                                                                                                                                                                                                                                                                                                                                                                                                                          \n",
       "1  NA                                                                                                                                                                                                                                                                                                                                                                                                                                                                                                 \n",
       "2  NA                                                                                                                                                                                                                                                                                                                                                                                                                                                                                                 \n",
       "3  SeaWorld San Diego to SeaWorld Aurora (??-???-1983) to SeaWorld San Diego (??-???-1983) to SeaWorld Aurora (??-???-1985) to SeaWorld San Diego (??-???-1985) to SeaWorld Orlando (< Nov 1987) to SeaWorld San Antonio (< 1991) to Busch Gardens Tampa (1991 / 1992) to National Aquarium in Baltimore (11-Oct-1992) to SeaWorld Aurora (22-Oct-1997) to SeaWorld San Antonio (26-Apr-1998) to SeaWorld Orlando (03-Apr-2000) to Busch Gardens Tampa (28-Sep-2000) to SeaWorld Orlando (19-Apr-2001)\n",
       "4  SeaWorld Orlando to SeaWorld San Diego (< Aug 1986)                                                                                                                                                                                                                                                                                                                                                                                                                                                \n",
       "5  SeaWorld Orlando to New England Aquarium (22-Feb-1982) to Dolphin Research Center (23-Oct-1991)                                                                                                                                                                                                                                                                                                                                                                                                    \n",
       "6  SeaWorld San Diego to SeaWorld Aurora (< 1987) to SeaWorld San Antonio (13-Oct-1990?)                                                                                                                                                                                                                                                                                                                                                                                                              \n",
       "7  SeaWorld San Diego to New England Aquarium (22-Oct-1986) to U.S. Navy MMP (17-Nov-1987)                                                                                                                                                                                                                                                                                                                                                                                                            \n",
       "8  SeaWorld Orlando to SeaWorld San Antonio (< 1991) to SeaWorld Orlando (03-Apr-2000)                                                                                                                                                                                                                                                                                                                                                                                                                \n",
       "9  SeaWorld San Diego to SeaWorld Aurora (15-Apr-2000) to SeaWorld Orlando (17-Feb-2001) to Theater of the Sea (28-Jun-2005)                                                                                                                                                                                                                                                                                                                                                                          \n",
       "10 SeaWorld San Diego to SeaWorld Aurora (??-???-????) to Unknown History (SeaWorld) to SeaWorld Orlando (??-???-????) to Discovery Cove (~ Feb 2000)                                                                                                                                                                                                                                                                                                                                                 \n",
       "   currently               region status statusDate COD notes transferDate\n",
       "1  Marineland Florida      US     Alive  <NA>       NA  NA    <NA>        \n",
       "2  Dolphin Research Center US     Alive  <NA>       NA  NA    <NA>        \n",
       "3  SeaWorld Orlando        US     Alive  <NA>       NA  NA    <NA>        \n",
       "4  SeaWorld San Diego      US     Alive  <NA>       NA  NA    <NA>        \n",
       "5  Dolphin Research Center US     Alive  <NA>       NA  NA    <NA>        \n",
       "6  SeaWorld San Antonio    US     Alive  <NA>       NA  NA    <NA>        \n",
       "7  U.S. Navy               US     Alive  <NA>       NA  NA    <NA>        \n",
       "8  SeaWorld Orlando        US     Alive  <NA>       NA  NA    <NA>        \n",
       "9  Theater of the Sea      US     Alive  <NA>       NA  NA    <NA>        \n",
       "10 Discovery Cove          US     Alive  <NA>       NA  NA    <NA>        \n",
       "   transfer entryDate \n",
       "1  US       1989-04-07\n",
       "2  US       1973-11-26\n",
       "3  US       1978-05-13\n",
       "4  US       1979-02-03\n",
       "5  US       1979-08-15\n",
       "6  US       1980-10-10\n",
       "7  US       1981-03-27\n",
       "8  US       1981-10-20\n",
       "9  US       1982-10-16\n",
       "10 US       1983-03-07"
      ]
     },
     "metadata": {},
     "output_type": "display_data"
    }
   ],
   "source": [
    "cetaceans  %>%  \n",
    "head(10)"
   ]
  },
  {
   "cell_type": "code",
   "execution_count": 7,
   "metadata": {},
   "outputs": [
    {
     "name": "stdout",
     "output_type": "stream",
     "text": [
      "Observations: 2,194\n",
      "Variables: 22\n",
      "$ X1             <dbl> 1, 2, 3, 4, 5, 6, 7, 8, 9, 10, 11, 12, 13, 14, 15, 1...\n",
      "$ species        <chr> \"Bottlenose\", \"Bottlenose\", \"Bottlenose\", \"Bottlenos...\n",
      "$ id             <chr> \"NOA0004614, AZA 428, MLF-428\", \"NOA0004386, AZA 138...\n",
      "$ name           <chr> \"Dazzle\", \"Tursi\", \"Starbuck\", \"Sandy\", \"Sandy\", \"Na...\n",
      "$ sex            <chr> \"F\", \"F\", \"M\", \"F\", \"M\", \"F\", \"M\", \"F\", \"M\", \"F\", \"M...\n",
      "$ accuracy       <chr> \"a\", \"a\", \"a\", \"a\", \"a\", \"a\", \"a\", \"a\", \"a\", \"a\", \"a...\n",
      "$ birthYear      <chr> \"1989\", \"1973\", \"1978\", \"1979\", \"1979\", \"1980\", \"198...\n",
      "$ acquisition    <chr> \"Born\", \"Born\", \"Born\", \"Born\", \"Born\", \"Born\", \"Bor...\n",
      "$ originDate     <date> 1989-04-07, 1973-11-26, 1978-05-13, 1979-02-03, 197...\n",
      "$ originLocation <chr> \"Marineland Florida\", \"Dolphin Research Center\", \"Se...\n",
      "$ mother         <chr> \"Betty III\", \"Little Bit\", \"Cindy (T.t. gilli)\", \"Gi...\n",
      "$ father         <chr> \"Davy II\", \"Mr. Gipper\", \"Sambo\", NA, NA, \"Jethro (T...\n",
      "$ transfers      <chr> NA, NA, \"SeaWorld San Diego to SeaWorld Aurora (??-?...\n",
      "$ currently      <chr> \"Marineland Florida\", \"Dolphin Research Center\", \"Se...\n",
      "$ region         <chr> \"US\", \"US\", \"US\", \"US\", \"US\", \"US\", \"US\", \"US\", \"US\"...\n",
      "$ status         <chr> \"Alive\", \"Alive\", \"Alive\", \"Alive\", \"Alive\", \"Alive\"...\n",
      "$ statusDate     <date> NA, NA, NA, NA, NA, NA, NA, NA, NA, NA, NA, NA, NA,...\n",
      "$ COD            <chr> NA, NA, NA, NA, NA, NA, NA, NA, NA, NA, NA, NA, NA, ...\n",
      "$ notes          <chr> NA, NA, NA, NA, NA, NA, NA, NA, NA, NA, \"Sunny was o...\n",
      "$ transferDate   <date> NA, NA, NA, NA, NA, NA, NA, NA, NA, NA, NA, NA, NA,...\n",
      "$ transfer       <chr> \"US\", \"US\", \"US\", \"US\", \"US\", \"US\", \"US\", \"US\", \"US\"...\n",
      "$ entryDate      <date> 1989-04-07, 1973-11-26, 1978-05-13, 1979-02-03, 197...\n"
     ]
    }
   ],
   "source": [
    "cetaceans  %>% \n",
    "glimpse()"
   ]
  },
  {
   "cell_type": "code",
   "execution_count": 8,
   "metadata": {},
   "outputs": [
    {
     "name": "stdout",
     "output_type": "stream",
     "text": [
      "Classes 'spec_tbl_df', 'tbl_df', 'tbl' and 'data.frame':\t2194 obs. of  22 variables:\n",
      " $ X1            : num  1 2 3 4 5 6 7 8 9 10 ...\n",
      " $ species       : chr  \"Bottlenose\" \"Bottlenose\" \"Bottlenose\" \"Bottlenose\" ...\n",
      " $ id            : chr  \"NOA0004614, AZA 428, MLF-428\" \"NOA0004386, AZA 138, IDR-73-1\" \"NOA0002137, SWC-TTG-7816\" \"NOA0002690, SWF-TT-7903\" ...\n",
      " $ name          : chr  \"Dazzle\" \"Tursi\" \"Starbuck\" \"Sandy\" ...\n",
      " $ sex           : chr  \"F\" \"F\" \"M\" \"F\" ...\n",
      " $ accuracy      : chr  \"a\" \"a\" \"a\" \"a\" ...\n",
      " $ birthYear     : chr  \"1989\" \"1973\" \"1978\" \"1979\" ...\n",
      " $ acquisition   : chr  \"Born\" \"Born\" \"Born\" \"Born\" ...\n",
      " $ originDate    : Date, format: \"1989-04-07\" \"1973-11-26\" ...\n",
      " $ originLocation: chr  \"Marineland Florida\" \"Dolphin Research Center\" \"SeaWorld San Diego\" \"SeaWorld Orlando\" ...\n",
      " $ mother        : chr  \"Betty III\" \"Little Bit\" \"Cindy (T.t. gilli)\" \"Gigi\" ...\n",
      " $ father        : chr  \"Davy II\" \"Mr. Gipper\" \"Sambo\" NA ...\n",
      " $ transfers     : chr  NA NA \"SeaWorld San Diego to SeaWorld Aurora (??-???-1983) to SeaWorld San Diego (??-???-1983) to SeaWorld Aurora (??-\"| __truncated__ \"SeaWorld Orlando to SeaWorld San Diego (< Aug 1986)\" ...\n",
      " $ currently     : chr  \"Marineland Florida\" \"Dolphin Research Center\" \"SeaWorld Orlando\" \"SeaWorld San Diego\" ...\n",
      " $ region        : chr  \"US\" \"US\" \"US\" \"US\" ...\n",
      " $ status        : chr  \"Alive\" \"Alive\" \"Alive\" \"Alive\" ...\n",
      " $ statusDate    : Date, format: NA NA ...\n",
      " $ COD           : chr  NA NA NA NA ...\n",
      " $ notes         : chr  NA NA NA NA ...\n",
      " $ transferDate  : Date, format: NA NA ...\n",
      " $ transfer      : chr  \"US\" \"US\" \"US\" \"US\" ...\n",
      " $ entryDate     : Date, format: \"1989-04-07\" \"1973-11-26\" ...\n",
      " - attr(*, \"spec\")=\n",
      "  .. cols(\n",
      "  ..   X1 = col_double(),\n",
      "  ..   species = col_character(),\n",
      "  ..   id = col_character(),\n",
      "  ..   name = col_character(),\n",
      "  ..   sex = col_character(),\n",
      "  ..   accuracy = col_character(),\n",
      "  ..   birthYear = col_character(),\n",
      "  ..   acquisition = col_character(),\n",
      "  ..   originDate = col_date(format = \"\"),\n",
      "  ..   originLocation = col_character(),\n",
      "  ..   mother = col_character(),\n",
      "  ..   father = col_character(),\n",
      "  ..   transfers = col_character(),\n",
      "  ..   currently = col_character(),\n",
      "  ..   region = col_character(),\n",
      "  ..   status = col_character(),\n",
      "  ..   statusDate = col_date(format = \"\"),\n",
      "  ..   COD = col_character(),\n",
      "  ..   notes = col_character(),\n",
      "  ..   transferDate = col_date(format = \"\"),\n",
      "  ..   transfer = col_character(),\n",
      "  ..   entryDate = col_date(format = \"\")\n",
      "  .. )\n"
     ]
    }
   ],
   "source": [
    "str(cetaceans)"
   ]
  },
  {
   "cell_type": "markdown",
   "metadata": {},
   "source": [
    "## separate - separate one column into several"
   ]
  },
  {
   "cell_type": "code",
   "execution_count": 9,
   "metadata": {},
   "outputs": [
    {
     "data": {
      "text/html": [
       "<table>\n",
       "<caption>A tibble: 10 × 4</caption>\n",
       "<thead>\n",
       "\t<tr><th scope=col>originDate</th><th scope=col>originYear</th><th scope=col>originMonth</th><th scope=col>originDay</th></tr>\n",
       "\t<tr><th scope=col>&lt;date&gt;</th><th scope=col>&lt;chr&gt;</th><th scope=col>&lt;chr&gt;</th><th scope=col>&lt;chr&gt;</th></tr>\n",
       "</thead>\n",
       "<tbody>\n",
       "\t<tr><td>1989-04-07</td><td>1989</td><td>04</td><td>07</td></tr>\n",
       "\t<tr><td>1973-11-26</td><td>1973</td><td>11</td><td>26</td></tr>\n",
       "\t<tr><td>1978-05-13</td><td>1978</td><td>05</td><td>13</td></tr>\n",
       "\t<tr><td>1979-02-03</td><td>1979</td><td>02</td><td>03</td></tr>\n",
       "\t<tr><td>1979-08-15</td><td>1979</td><td>08</td><td>15</td></tr>\n",
       "\t<tr><td>1980-10-10</td><td>1980</td><td>10</td><td>10</td></tr>\n",
       "\t<tr><td>1981-03-27</td><td>1981</td><td>03</td><td>27</td></tr>\n",
       "\t<tr><td>1981-10-20</td><td>1981</td><td>10</td><td>20</td></tr>\n",
       "\t<tr><td>1982-10-16</td><td>1982</td><td>10</td><td>16</td></tr>\n",
       "\t<tr><td>1983-03-07</td><td>1983</td><td>03</td><td>07</td></tr>\n",
       "</tbody>\n",
       "</table>\n"
      ],
      "text/latex": [
       "A tibble: 10 × 4\n",
       "\\begin{tabular}{r|llll}\n",
       " originDate & originYear & originMonth & originDay\\\\\n",
       " <date> & <chr> & <chr> & <chr>\\\\\n",
       "\\hline\n",
       "\t 1989-04-07 & 1989 & 04 & 07\\\\\n",
       "\t 1973-11-26 & 1973 & 11 & 26\\\\\n",
       "\t 1978-05-13 & 1978 & 05 & 13\\\\\n",
       "\t 1979-02-03 & 1979 & 02 & 03\\\\\n",
       "\t 1979-08-15 & 1979 & 08 & 15\\\\\n",
       "\t 1980-10-10 & 1980 & 10 & 10\\\\\n",
       "\t 1981-03-27 & 1981 & 03 & 27\\\\\n",
       "\t 1981-10-20 & 1981 & 10 & 20\\\\\n",
       "\t 1982-10-16 & 1982 & 10 & 16\\\\\n",
       "\t 1983-03-07 & 1983 & 03 & 07\\\\\n",
       "\\end{tabular}\n"
      ],
      "text/markdown": [
       "\n",
       "A tibble: 10 × 4\n",
       "\n",
       "| originDate &lt;date&gt; | originYear &lt;chr&gt; | originMonth &lt;chr&gt; | originDay &lt;chr&gt; |\n",
       "|---|---|---|---|\n",
       "| 1989-04-07 | 1989 | 04 | 07 |\n",
       "| 1973-11-26 | 1973 | 11 | 26 |\n",
       "| 1978-05-13 | 1978 | 05 | 13 |\n",
       "| 1979-02-03 | 1979 | 02 | 03 |\n",
       "| 1979-08-15 | 1979 | 08 | 15 |\n",
       "| 1980-10-10 | 1980 | 10 | 10 |\n",
       "| 1981-03-27 | 1981 | 03 | 27 |\n",
       "| 1981-10-20 | 1981 | 10 | 20 |\n",
       "| 1982-10-16 | 1982 | 10 | 16 |\n",
       "| 1983-03-07 | 1983 | 03 | 07 |\n",
       "\n"
      ],
      "text/plain": [
       "   originDate originYear originMonth originDay\n",
       "1  1989-04-07 1989       04          07       \n",
       "2  1973-11-26 1973       11          26       \n",
       "3  1978-05-13 1978       05          13       \n",
       "4  1979-02-03 1979       02          03       \n",
       "5  1979-08-15 1979       08          15       \n",
       "6  1980-10-10 1980       10          10       \n",
       "7  1981-03-27 1981       03          27       \n",
       "8  1981-10-20 1981       10          20       \n",
       "9  1982-10-16 1982       10          16       \n",
       "10 1983-03-07 1983       03          07       "
      ]
     },
     "metadata": {},
     "output_type": "display_data"
    }
   ],
   "source": [
    "# The separate function is telling R to seperate the “originDate” column into “originYear”,“originMonth”, and “originDay”.\n",
    "# remove = TRUE deletes the original column, but remove = FALSE retains it.\n",
    "cetaceans  %>% \n",
    "    separate(originDate, into=c('originYear','originMonth','originDay'),\n",
    "            sep='-', remove=FALSE)  %>% \n",
    "    select(originDate, originYear, originMonth, originDay)  %>% \n",
    "    head(10)"
   ]
  },
  {
   "cell_type": "markdown",
   "metadata": {},
   "source": [
    "gather - gather columns into rows (make a long dataset)"
   ]
  },
  {
   "cell_type": "markdown",
   "metadata": {},
   "source": [
    "supplementary info\n",
    "https://blog.csdn.net/six66667/article/details/84888644"
   ]
  },
  {
   "cell_type": "code",
   "execution_count": 10,
   "metadata": {},
   "outputs": [
    {
     "name": "stderr",
     "output_type": "stream",
     "text": [
      "Warning message:\n",
      "\"package 'tidyr' is in use and will not be installed\""
     ]
    }
   ],
   "source": [
    "install.packages('tidyr')\n",
    "library(tidyr)"
   ]
  },
  {
   "cell_type": "code",
   "execution_count": 13,
   "metadata": {},
   "outputs": [
    {
     "data": {
      "text/html": [
       "<table>\n",
       "<caption>A data.frame: 5 × 3</caption>\n",
       "<thead>\n",
       "\t<tr><th scope=col>grade</th><th scope=col>female</th><th scope=col>male</th></tr>\n",
       "\t<tr><th scope=col>&lt;fct&gt;</th><th scope=col>&lt;dbl&gt;</th><th scope=col>&lt;dbl&gt;</th></tr>\n",
       "</thead>\n",
       "<tbody>\n",
       "\t<tr><td>A</td><td>5</td><td>1</td></tr>\n",
       "\t<tr><td>B</td><td>4</td><td>2</td></tr>\n",
       "\t<tr><td>C</td><td>1</td><td>3</td></tr>\n",
       "\t<tr><td>D</td><td>2</td><td>4</td></tr>\n",
       "\t<tr><td>E</td><td>3</td><td>5</td></tr>\n",
       "</tbody>\n",
       "</table>\n"
      ],
      "text/latex": [
       "A data.frame: 5 × 3\n",
       "\\begin{tabular}{r|lll}\n",
       " grade & female & male\\\\\n",
       " <fct> & <dbl> & <dbl>\\\\\n",
       "\\hline\n",
       "\t A & 5 & 1\\\\\n",
       "\t B & 4 & 2\\\\\n",
       "\t C & 1 & 3\\\\\n",
       "\t D & 2 & 4\\\\\n",
       "\t E & 3 & 5\\\\\n",
       "\\end{tabular}\n"
      ],
      "text/markdown": [
       "\n",
       "A data.frame: 5 × 3\n",
       "\n",
       "| grade &lt;fct&gt; | female &lt;dbl&gt; | male &lt;dbl&gt; |\n",
       "|---|---|---|\n",
       "| A | 5 | 1 |\n",
       "| B | 4 | 2 |\n",
       "| C | 1 | 3 |\n",
       "| D | 2 | 4 |\n",
       "| E | 3 | 5 |\n",
       "\n"
      ],
      "text/plain": [
       "  grade female male\n",
       "1 A     5      1   \n",
       "2 B     4      2   \n",
       "3 C     1      3   \n",
       "4 D     2      4   \n",
       "5 E     3      5   "
      ]
     },
     "metadata": {},
     "output_type": "display_data"
    }
   ],
   "source": [
    "# gather() \n",
    "stu<-data.frame(grade=c(\"A\",\"B\",\"C\",\"D\",\"E\"), \n",
    "                female=c(5, 4, 1, 2, 3),\n",
    "                male=c(1, 2, 3, 4, 5))\n",
    "stu"
   ]
  },
  {
   "cell_type": "code",
   "execution_count": 17,
   "metadata": {},
   "outputs": [
    {
     "data": {
      "text/html": [
       "<table>\n",
       "<caption>A data.frame: 10 × 3</caption>\n",
       "<thead>\n",
       "\t<tr><th scope=col>grade</th><th scope=col>gender</th><th scope=col>count</th></tr>\n",
       "\t<tr><th scope=col>&lt;fct&gt;</th><th scope=col>&lt;chr&gt;</th><th scope=col>&lt;dbl&gt;</th></tr>\n",
       "</thead>\n",
       "<tbody>\n",
       "\t<tr><td>A</td><td>female</td><td>5</td></tr>\n",
       "\t<tr><td>B</td><td>female</td><td>4</td></tr>\n",
       "\t<tr><td>C</td><td>female</td><td>1</td></tr>\n",
       "\t<tr><td>D</td><td>female</td><td>2</td></tr>\n",
       "\t<tr><td>E</td><td>female</td><td>3</td></tr>\n",
       "\t<tr><td>A</td><td>male  </td><td>1</td></tr>\n",
       "\t<tr><td>B</td><td>male  </td><td>2</td></tr>\n",
       "\t<tr><td>C</td><td>male  </td><td>3</td></tr>\n",
       "\t<tr><td>D</td><td>male  </td><td>4</td></tr>\n",
       "\t<tr><td>E</td><td>male  </td><td>5</td></tr>\n",
       "</tbody>\n",
       "</table>\n"
      ],
      "text/latex": [
       "A data.frame: 10 × 3\n",
       "\\begin{tabular}{r|lll}\n",
       " grade & gender & count\\\\\n",
       " <fct> & <chr> & <dbl>\\\\\n",
       "\\hline\n",
       "\t A & female & 5\\\\\n",
       "\t B & female & 4\\\\\n",
       "\t C & female & 1\\\\\n",
       "\t D & female & 2\\\\\n",
       "\t E & female & 3\\\\\n",
       "\t A & male   & 1\\\\\n",
       "\t B & male   & 2\\\\\n",
       "\t C & male   & 3\\\\\n",
       "\t D & male   & 4\\\\\n",
       "\t E & male   & 5\\\\\n",
       "\\end{tabular}\n"
      ],
      "text/markdown": [
       "\n",
       "A data.frame: 10 × 3\n",
       "\n",
       "| grade &lt;fct&gt; | gender &lt;chr&gt; | count &lt;dbl&gt; |\n",
       "|---|---|---|\n",
       "| A | female | 5 |\n",
       "| B | female | 4 |\n",
       "| C | female | 1 |\n",
       "| D | female | 2 |\n",
       "| E | female | 3 |\n",
       "| A | male   | 1 |\n",
       "| B | male   | 2 |\n",
       "| C | male   | 3 |\n",
       "| D | male   | 4 |\n",
       "| E | male   | 5 |\n",
       "\n"
      ],
      "text/plain": [
       "   grade gender count\n",
       "1  A     female 5    \n",
       "2  B     female 4    \n",
       "3  C     female 1    \n",
       "4  D     female 2    \n",
       "5  E     female 3    \n",
       "6  A     male   1    \n",
       "7  B     male   2    \n",
       "8  C     male   3    \n",
       "9  D     male   4    \n",
       "10 E     male   5    "
      ]
     },
     "metadata": {},
     "output_type": "display_data"
    }
   ],
   "source": [
    "gather(stu, gender, count, -grade)"
   ]
  },
  {
   "cell_type": "code",
   "execution_count": 18,
   "metadata": {},
   "outputs": [
    {
     "data": {
      "text/html": [
       "<table>\n",
       "<caption>A data.frame: 5 × 5</caption>\n",
       "<thead>\n",
       "\t<tr><th scope=col>grade</th><th scope=col>female_1</th><th scope=col>male_1</th><th scope=col>female_2</th><th scope=col>male_2</th></tr>\n",
       "\t<tr><th scope=col>&lt;fct&gt;</th><th scope=col>&lt;dbl&gt;</th><th scope=col>&lt;dbl&gt;</th><th scope=col>&lt;dbl&gt;</th><th scope=col>&lt;dbl&gt;</th></tr>\n",
       "</thead>\n",
       "<tbody>\n",
       "\t<tr><td>A</td><td>5</td><td>1</td><td>4</td><td>0</td></tr>\n",
       "\t<tr><td>B</td><td>4</td><td>2</td><td>5</td><td>2</td></tr>\n",
       "\t<tr><td>C</td><td>1</td><td>3</td><td>1</td><td>3</td></tr>\n",
       "\t<tr><td>D</td><td>2</td><td>4</td><td>2</td><td>4</td></tr>\n",
       "\t<tr><td>E</td><td>3</td><td>5</td><td>3</td><td>6</td></tr>\n",
       "</tbody>\n",
       "</table>\n"
      ],
      "text/latex": [
       "A data.frame: 5 × 5\n",
       "\\begin{tabular}{r|lllll}\n",
       " grade & female\\_1 & male\\_1 & female\\_2 & male\\_2\\\\\n",
       " <fct> & <dbl> & <dbl> & <dbl> & <dbl>\\\\\n",
       "\\hline\n",
       "\t A & 5 & 1 & 4 & 0\\\\\n",
       "\t B & 4 & 2 & 5 & 2\\\\\n",
       "\t C & 1 & 3 & 1 & 3\\\\\n",
       "\t D & 2 & 4 & 2 & 4\\\\\n",
       "\t E & 3 & 5 & 3 & 6\\\\\n",
       "\\end{tabular}\n"
      ],
      "text/markdown": [
       "\n",
       "A data.frame: 5 × 5\n",
       "\n",
       "| grade &lt;fct&gt; | female_1 &lt;dbl&gt; | male_1 &lt;dbl&gt; | female_2 &lt;dbl&gt; | male_2 &lt;dbl&gt; |\n",
       "|---|---|---|---|---|\n",
       "| A | 5 | 1 | 4 | 0 |\n",
       "| B | 4 | 2 | 5 | 2 |\n",
       "| C | 1 | 3 | 1 | 3 |\n",
       "| D | 2 | 4 | 2 | 4 |\n",
       "| E | 3 | 5 | 3 | 6 |\n",
       "\n"
      ],
      "text/plain": [
       "  grade female_1 male_1 female_2 male_2\n",
       "1 A     5        1      4        0     \n",
       "2 B     4        2      5        2     \n",
       "3 C     1        3      1        3     \n",
       "4 D     2        4      2        4     \n",
       "5 E     3        5      3        6     "
      ]
     },
     "metadata": {},
     "output_type": "display_data"
    }
   ],
   "source": [
    "# separate() \n",
    "# separate负责分割数据，把一个变量中就包含两个变量的数据分来\n",
    "stu2<-data.frame(grade=c(\"A\",\"B\",\"C\",\"D\",\"E\"), \n",
    "                 female_1=c(5, 4, 1, 2, 3), \n",
    "                 male_1=c(1, 2, 3, 4, 5),\n",
    "                 female_2=c(4, 5, 1, 2, 3), \n",
    "                 male_2=c(0, 2, 3, 4, 6))\n",
    "\n",
    "stu2"
   ]
  },
  {
   "cell_type": "code",
   "execution_count": 20,
   "metadata": {},
   "outputs": [
    {
     "data": {
      "text/html": [
       "<table>\n",
       "<caption>A data.frame: 20 × 3</caption>\n",
       "<thead>\n",
       "\t<tr><th scope=col>grade</th><th scope=col>gender_class</th><th scope=col>count</th></tr>\n",
       "\t<tr><th scope=col>&lt;fct&gt;</th><th scope=col>&lt;chr&gt;</th><th scope=col>&lt;dbl&gt;</th></tr>\n",
       "</thead>\n",
       "<tbody>\n",
       "\t<tr><td>A</td><td>female_1</td><td>5</td></tr>\n",
       "\t<tr><td>B</td><td>female_1</td><td>4</td></tr>\n",
       "\t<tr><td>C</td><td>female_1</td><td>1</td></tr>\n",
       "\t<tr><td>D</td><td>female_1</td><td>2</td></tr>\n",
       "\t<tr><td>E</td><td>female_1</td><td>3</td></tr>\n",
       "\t<tr><td>A</td><td>male_1  </td><td>1</td></tr>\n",
       "\t<tr><td>B</td><td>male_1  </td><td>2</td></tr>\n",
       "\t<tr><td>C</td><td>male_1  </td><td>3</td></tr>\n",
       "\t<tr><td>D</td><td>male_1  </td><td>4</td></tr>\n",
       "\t<tr><td>E</td><td>male_1  </td><td>5</td></tr>\n",
       "\t<tr><td>A</td><td>female_2</td><td>4</td></tr>\n",
       "\t<tr><td>B</td><td>female_2</td><td>5</td></tr>\n",
       "\t<tr><td>C</td><td>female_2</td><td>1</td></tr>\n",
       "\t<tr><td>D</td><td>female_2</td><td>2</td></tr>\n",
       "\t<tr><td>E</td><td>female_2</td><td>3</td></tr>\n",
       "\t<tr><td>A</td><td>male_2  </td><td>0</td></tr>\n",
       "\t<tr><td>B</td><td>male_2  </td><td>2</td></tr>\n",
       "\t<tr><td>C</td><td>male_2  </td><td>3</td></tr>\n",
       "\t<tr><td>D</td><td>male_2  </td><td>4</td></tr>\n",
       "\t<tr><td>E</td><td>male_2  </td><td>6</td></tr>\n",
       "</tbody>\n",
       "</table>\n"
      ],
      "text/latex": [
       "A data.frame: 20 × 3\n",
       "\\begin{tabular}{r|lll}\n",
       " grade & gender\\_class & count\\\\\n",
       " <fct> & <chr> & <dbl>\\\\\n",
       "\\hline\n",
       "\t A & female\\_1 & 5\\\\\n",
       "\t B & female\\_1 & 4\\\\\n",
       "\t C & female\\_1 & 1\\\\\n",
       "\t D & female\\_1 & 2\\\\\n",
       "\t E & female\\_1 & 3\\\\\n",
       "\t A & male\\_1   & 1\\\\\n",
       "\t B & male\\_1   & 2\\\\\n",
       "\t C & male\\_1   & 3\\\\\n",
       "\t D & male\\_1   & 4\\\\\n",
       "\t E & male\\_1   & 5\\\\\n",
       "\t A & female\\_2 & 4\\\\\n",
       "\t B & female\\_2 & 5\\\\\n",
       "\t C & female\\_2 & 1\\\\\n",
       "\t D & female\\_2 & 2\\\\\n",
       "\t E & female\\_2 & 3\\\\\n",
       "\t A & male\\_2   & 0\\\\\n",
       "\t B & male\\_2   & 2\\\\\n",
       "\t C & male\\_2   & 3\\\\\n",
       "\t D & male\\_2   & 4\\\\\n",
       "\t E & male\\_2   & 6\\\\\n",
       "\\end{tabular}\n"
      ],
      "text/markdown": [
       "\n",
       "A data.frame: 20 × 3\n",
       "\n",
       "| grade &lt;fct&gt; | gender_class &lt;chr&gt; | count &lt;dbl&gt; |\n",
       "|---|---|---|\n",
       "| A | female_1 | 5 |\n",
       "| B | female_1 | 4 |\n",
       "| C | female_1 | 1 |\n",
       "| D | female_1 | 2 |\n",
       "| E | female_1 | 3 |\n",
       "| A | male_1   | 1 |\n",
       "| B | male_1   | 2 |\n",
       "| C | male_1   | 3 |\n",
       "| D | male_1   | 4 |\n",
       "| E | male_1   | 5 |\n",
       "| A | female_2 | 4 |\n",
       "| B | female_2 | 5 |\n",
       "| C | female_2 | 1 |\n",
       "| D | female_2 | 2 |\n",
       "| E | female_2 | 3 |\n",
       "| A | male_2   | 0 |\n",
       "| B | male_2   | 2 |\n",
       "| C | male_2   | 3 |\n",
       "| D | male_2   | 4 |\n",
       "| E | male_2   | 6 |\n",
       "\n"
      ],
      "text/plain": [
       "   grade gender_class count\n",
       "1  A     female_1     5    \n",
       "2  B     female_1     4    \n",
       "3  C     female_1     1    \n",
       "4  D     female_1     2    \n",
       "5  E     female_1     3    \n",
       "6  A     male_1       1    \n",
       "7  B     male_1       2    \n",
       "8  C     male_1       3    \n",
       "9  D     male_1       4    \n",
       "10 E     male_1       5    \n",
       "11 A     female_2     4    \n",
       "12 B     female_2     5    \n",
       "13 C     female_2     1    \n",
       "14 D     female_2     2    \n",
       "15 E     female_2     3    \n",
       "16 A     male_2       0    \n",
       "17 B     male_2       2    \n",
       "18 C     male_2       3    \n",
       "19 D     male_2       4    \n",
       "20 E     male_2       6    "
      ]
     },
     "metadata": {},
     "output_type": "display_data"
    }
   ],
   "source": [
    "stu2_new<-gather(stu2,gender_class,count,-grade)\n",
    "\n",
    "stu2_new"
   ]
  },
  {
   "cell_type": "code",
   "execution_count": 21,
   "metadata": {},
   "outputs": [
    {
     "data": {
      "text/html": [
       "<table>\n",
       "<caption>A data.frame: 20 × 4</caption>\n",
       "<thead>\n",
       "\t<tr><th scope=col>grade</th><th scope=col>gender</th><th scope=col>class</th><th scope=col>count</th></tr>\n",
       "\t<tr><th scope=col>&lt;fct&gt;</th><th scope=col>&lt;chr&gt;</th><th scope=col>&lt;chr&gt;</th><th scope=col>&lt;dbl&gt;</th></tr>\n",
       "</thead>\n",
       "<tbody>\n",
       "\t<tr><td>A</td><td>female</td><td>1</td><td>5</td></tr>\n",
       "\t<tr><td>B</td><td>female</td><td>1</td><td>4</td></tr>\n",
       "\t<tr><td>C</td><td>female</td><td>1</td><td>1</td></tr>\n",
       "\t<tr><td>D</td><td>female</td><td>1</td><td>2</td></tr>\n",
       "\t<tr><td>E</td><td>female</td><td>1</td><td>3</td></tr>\n",
       "\t<tr><td>A</td><td>male  </td><td>1</td><td>1</td></tr>\n",
       "\t<tr><td>B</td><td>male  </td><td>1</td><td>2</td></tr>\n",
       "\t<tr><td>C</td><td>male  </td><td>1</td><td>3</td></tr>\n",
       "\t<tr><td>D</td><td>male  </td><td>1</td><td>4</td></tr>\n",
       "\t<tr><td>E</td><td>male  </td><td>1</td><td>5</td></tr>\n",
       "\t<tr><td>A</td><td>female</td><td>2</td><td>4</td></tr>\n",
       "\t<tr><td>B</td><td>female</td><td>2</td><td>5</td></tr>\n",
       "\t<tr><td>C</td><td>female</td><td>2</td><td>1</td></tr>\n",
       "\t<tr><td>D</td><td>female</td><td>2</td><td>2</td></tr>\n",
       "\t<tr><td>E</td><td>female</td><td>2</td><td>3</td></tr>\n",
       "\t<tr><td>A</td><td>male  </td><td>2</td><td>0</td></tr>\n",
       "\t<tr><td>B</td><td>male  </td><td>2</td><td>2</td></tr>\n",
       "\t<tr><td>C</td><td>male  </td><td>2</td><td>3</td></tr>\n",
       "\t<tr><td>D</td><td>male  </td><td>2</td><td>4</td></tr>\n",
       "\t<tr><td>E</td><td>male  </td><td>2</td><td>6</td></tr>\n",
       "</tbody>\n",
       "</table>\n"
      ],
      "text/latex": [
       "A data.frame: 20 × 4\n",
       "\\begin{tabular}{r|llll}\n",
       " grade & gender & class & count\\\\\n",
       " <fct> & <chr> & <chr> & <dbl>\\\\\n",
       "\\hline\n",
       "\t A & female & 1 & 5\\\\\n",
       "\t B & female & 1 & 4\\\\\n",
       "\t C & female & 1 & 1\\\\\n",
       "\t D & female & 1 & 2\\\\\n",
       "\t E & female & 1 & 3\\\\\n",
       "\t A & male   & 1 & 1\\\\\n",
       "\t B & male   & 1 & 2\\\\\n",
       "\t C & male   & 1 & 3\\\\\n",
       "\t D & male   & 1 & 4\\\\\n",
       "\t E & male   & 1 & 5\\\\\n",
       "\t A & female & 2 & 4\\\\\n",
       "\t B & female & 2 & 5\\\\\n",
       "\t C & female & 2 & 1\\\\\n",
       "\t D & female & 2 & 2\\\\\n",
       "\t E & female & 2 & 3\\\\\n",
       "\t A & male   & 2 & 0\\\\\n",
       "\t B & male   & 2 & 2\\\\\n",
       "\t C & male   & 2 & 3\\\\\n",
       "\t D & male   & 2 & 4\\\\\n",
       "\t E & male   & 2 & 6\\\\\n",
       "\\end{tabular}\n"
      ],
      "text/markdown": [
       "\n",
       "A data.frame: 20 × 4\n",
       "\n",
       "| grade &lt;fct&gt; | gender &lt;chr&gt; | class &lt;chr&gt; | count &lt;dbl&gt; |\n",
       "|---|---|---|---|\n",
       "| A | female | 1 | 5 |\n",
       "| B | female | 1 | 4 |\n",
       "| C | female | 1 | 1 |\n",
       "| D | female | 1 | 2 |\n",
       "| E | female | 1 | 3 |\n",
       "| A | male   | 1 | 1 |\n",
       "| B | male   | 1 | 2 |\n",
       "| C | male   | 1 | 3 |\n",
       "| D | male   | 1 | 4 |\n",
       "| E | male   | 1 | 5 |\n",
       "| A | female | 2 | 4 |\n",
       "| B | female | 2 | 5 |\n",
       "| C | female | 2 | 1 |\n",
       "| D | female | 2 | 2 |\n",
       "| E | female | 2 | 3 |\n",
       "| A | male   | 2 | 0 |\n",
       "| B | male   | 2 | 2 |\n",
       "| C | male   | 2 | 3 |\n",
       "| D | male   | 2 | 4 |\n",
       "| E | male   | 2 | 6 |\n",
       "\n"
      ],
      "text/plain": [
       "   grade gender class count\n",
       "1  A     female 1     5    \n",
       "2  B     female 1     4    \n",
       "3  C     female 1     1    \n",
       "4  D     female 1     2    \n",
       "5  E     female 1     3    \n",
       "6  A     male   1     1    \n",
       "7  B     male   1     2    \n",
       "8  C     male   1     3    \n",
       "9  D     male   1     4    \n",
       "10 E     male   1     5    \n",
       "11 A     female 2     4    \n",
       "12 B     female 2     5    \n",
       "13 C     female 2     1    \n",
       "14 D     female 2     2    \n",
       "15 E     female 2     3    \n",
       "16 A     male   2     0    \n",
       "17 B     male   2     2    \n",
       "18 C     male   2     3    \n",
       "19 D     male   2     4    \n",
       "20 E     male   2     6    "
      ]
     },
     "metadata": {},
     "output_type": "display_data"
    }
   ],
   "source": [
    "separate(stu2_new,\n",
    "         gender_class,c(\"gender\",\"class\"))"
   ]
  },
  {
   "cell_type": "code",
   "execution_count": 22,
   "metadata": {},
   "outputs": [
    {
     "data": {
      "text/html": [
       "<table>\n",
       "<caption>A data.frame: 10 × 7</caption>\n",
       "<thead>\n",
       "\t<tr><th scope=col>name</th><th scope=col>test</th><th scope=col>class1</th><th scope=col>class2</th><th scope=col>class3</th><th scope=col>class4</th><th scope=col>class5</th></tr>\n",
       "\t<tr><th scope=col>&lt;fct&gt;</th><th scope=col>&lt;fct&gt;</th><th scope=col>&lt;fct&gt;</th><th scope=col>&lt;fct&gt;</th><th scope=col>&lt;fct&gt;</th><th scope=col>&lt;fct&gt;</th><th scope=col>&lt;fct&gt;</th></tr>\n",
       "</thead>\n",
       "<tbody>\n",
       "\t<tr><td>Sally</td><td>midterm</td><td>A </td><td>NA</td><td>B </td><td>NA</td><td>NA</td></tr>\n",
       "\t<tr><td>Sally</td><td>final  </td><td>C </td><td>NA</td><td>C </td><td>NA</td><td>NA</td></tr>\n",
       "\t<tr><td>Jeff </td><td>midterm</td><td>NA</td><td>D </td><td>NA</td><td>A </td><td>NA</td></tr>\n",
       "\t<tr><td>Jeff </td><td>final  </td><td>NA</td><td>E </td><td>NA</td><td>C </td><td>NA</td></tr>\n",
       "\t<tr><td>Roger</td><td>midterm</td><td>NA</td><td>C </td><td>NA</td><td>NA</td><td>B </td></tr>\n",
       "\t<tr><td>Roger</td><td>final  </td><td>NA</td><td>A </td><td>NA</td><td>NA</td><td>A </td></tr>\n",
       "\t<tr><td>Karen</td><td>midterm</td><td>NA</td><td>NA</td><td>C </td><td>A </td><td>NA</td></tr>\n",
       "\t<tr><td>Karen</td><td>final  </td><td>NA</td><td>NA</td><td>C </td><td>A </td><td>NA</td></tr>\n",
       "\t<tr><td>Brain</td><td>midterm</td><td>B </td><td>NA</td><td>NA</td><td>NA</td><td>A </td></tr>\n",
       "\t<tr><td>Brain</td><td>final  </td><td>B </td><td>NA</td><td>NA</td><td>NA</td><td>C </td></tr>\n",
       "</tbody>\n",
       "</table>\n"
      ],
      "text/latex": [
       "A data.frame: 10 × 7\n",
       "\\begin{tabular}{r|lllllll}\n",
       " name & test & class1 & class2 & class3 & class4 & class5\\\\\n",
       " <fct> & <fct> & <fct> & <fct> & <fct> & <fct> & <fct>\\\\\n",
       "\\hline\n",
       "\t Sally & midterm & A  & NA & B  & NA & NA\\\\\n",
       "\t Sally & final   & C  & NA & C  & NA & NA\\\\\n",
       "\t Jeff  & midterm & NA & D  & NA & A  & NA\\\\\n",
       "\t Jeff  & final   & NA & E  & NA & C  & NA\\\\\n",
       "\t Roger & midterm & NA & C  & NA & NA & B \\\\\n",
       "\t Roger & final   & NA & A  & NA & NA & A \\\\\n",
       "\t Karen & midterm & NA & NA & C  & A  & NA\\\\\n",
       "\t Karen & final   & NA & NA & C  & A  & NA\\\\\n",
       "\t Brain & midterm & B  & NA & NA & NA & A \\\\\n",
       "\t Brain & final   & B  & NA & NA & NA & C \\\\\n",
       "\\end{tabular}\n"
      ],
      "text/markdown": [
       "\n",
       "A data.frame: 10 × 7\n",
       "\n",
       "| name &lt;fct&gt; | test &lt;fct&gt; | class1 &lt;fct&gt; | class2 &lt;fct&gt; | class3 &lt;fct&gt; | class4 &lt;fct&gt; | class5 &lt;fct&gt; |\n",
       "|---|---|---|---|---|---|---|\n",
       "| Sally | midterm | A  | NA | B  | NA | NA |\n",
       "| Sally | final   | C  | NA | C  | NA | NA |\n",
       "| Jeff  | midterm | NA | D  | NA | A  | NA |\n",
       "| Jeff  | final   | NA | E  | NA | C  | NA |\n",
       "| Roger | midterm | NA | C  | NA | NA | B  |\n",
       "| Roger | final   | NA | A  | NA | NA | A  |\n",
       "| Karen | midterm | NA | NA | C  | A  | NA |\n",
       "| Karen | final   | NA | NA | C  | A  | NA |\n",
       "| Brain | midterm | B  | NA | NA | NA | A  |\n",
       "| Brain | final   | B  | NA | NA | NA | C  |\n",
       "\n"
      ],
      "text/plain": [
       "   name  test    class1 class2 class3 class4 class5\n",
       "1  Sally midterm A      NA     B      NA     NA    \n",
       "2  Sally final   C      NA     C      NA     NA    \n",
       "3  Jeff  midterm NA     D      NA     A      NA    \n",
       "4  Jeff  final   NA     E      NA     C      NA    \n",
       "5  Roger midterm NA     C      NA     NA     B     \n",
       "6  Roger final   NA     A      NA     NA     A     \n",
       "7  Karen midterm NA     NA     C      A      NA    \n",
       "8  Karen final   NA     NA     C      A      NA    \n",
       "9  Brain midterm B      NA     NA     NA     A     \n",
       "10 Brain final   B      NA     NA     NA     C     "
      ]
     },
     "metadata": {},
     "output_type": "display_data"
    }
   ],
   "source": [
    "# spread\n",
    "\n",
    "name<-rep(c(\"Sally\",\"Jeff\",\"Roger\",\"Karen\",\"Brain\"),c(2,2,2,2,2))\n",
    "test<-rep(c(\"midterm\",\"final\"),5)\n",
    "class1<-c(\"A\",\"C\",NA,NA,NA,NA,NA,NA,\"B\",\"B\")\n",
    "class2<-c(NA,NA,\"D\",\"E\",\"C\",\"A\",NA,NA,NA,NA)\n",
    "class3<-c(\"B\",\"C\",NA,NA,NA,NA,\"C\",\"C\",NA,NA)\n",
    "class4<-c(NA,NA,\"A\",\"C\",NA,NA,\"A\",\"A\",NA,NA)\n",
    "class5<-c(NA,NA,NA,NA,\"B\",\"A\",NA,NA,\"A\",\"C\")\n",
    "stu3<-data.frame(name,test,class1,class2,class3,class4,class5)\n",
    "\n",
    "stu3"
   ]
  },
  {
   "cell_type": "code",
   "execution_count": 24,
   "metadata": {},
   "outputs": [
    {
     "name": "stderr",
     "output_type": "stream",
     "text": [
      "Your code contains a unicode char which cannot be displayed in your\n",
      "current locale and R will silently convert it to an escaped form when the\n",
      "R kernel executes this code. This can lead to subtle errors if you use\n",
      "such chars to do comparisons. For more information, please see\n",
      "https://github.com/IRkernel/repr/wiki/Problems-with-unicode-on-windowsWarning message:\n",
      "\"attributes are not identical across measure variables;\n",
      "they will be dropped\""
     ]
    },
    {
     "data": {
      "text/html": [
       "<table>\n",
       "<caption>A data.frame: 20 × 4</caption>\n",
       "<thead>\n",
       "\t<tr><th></th><th scope=col>name</th><th scope=col>test</th><th scope=col>class</th><th scope=col>grade</th></tr>\n",
       "\t<tr><th></th><th scope=col>&lt;fct&gt;</th><th scope=col>&lt;fct&gt;</th><th scope=col>&lt;chr&gt;</th><th scope=col>&lt;chr&gt;</th></tr>\n",
       "</thead>\n",
       "<tbody>\n",
       "\t<tr><th scope=row>1</th><td>Sally</td><td>midterm</td><td>class1</td><td>A</td></tr>\n",
       "\t<tr><th scope=row>2</th><td>Sally</td><td>final  </td><td>class1</td><td>C</td></tr>\n",
       "\t<tr><th scope=row>9</th><td>Brain</td><td>midterm</td><td>class1</td><td>B</td></tr>\n",
       "\t<tr><th scope=row>10</th><td>Brain</td><td>final  </td><td>class1</td><td>B</td></tr>\n",
       "\t<tr><th scope=row>13</th><td>Jeff </td><td>midterm</td><td>class2</td><td>D</td></tr>\n",
       "\t<tr><th scope=row>14</th><td>Jeff </td><td>final  </td><td>class2</td><td>E</td></tr>\n",
       "\t<tr><th scope=row>15</th><td>Roger</td><td>midterm</td><td>class2</td><td>C</td></tr>\n",
       "\t<tr><th scope=row>16</th><td>Roger</td><td>final  </td><td>class2</td><td>A</td></tr>\n",
       "\t<tr><th scope=row>21</th><td>Sally</td><td>midterm</td><td>class3</td><td>B</td></tr>\n",
       "\t<tr><th scope=row>22</th><td>Sally</td><td>final  </td><td>class3</td><td>C</td></tr>\n",
       "\t<tr><th scope=row>27</th><td>Karen</td><td>midterm</td><td>class3</td><td>C</td></tr>\n",
       "\t<tr><th scope=row>28</th><td>Karen</td><td>final  </td><td>class3</td><td>C</td></tr>\n",
       "\t<tr><th scope=row>33</th><td>Jeff </td><td>midterm</td><td>class4</td><td>A</td></tr>\n",
       "\t<tr><th scope=row>34</th><td>Jeff </td><td>final  </td><td>class4</td><td>C</td></tr>\n",
       "\t<tr><th scope=row>37</th><td>Karen</td><td>midterm</td><td>class4</td><td>A</td></tr>\n",
       "\t<tr><th scope=row>38</th><td>Karen</td><td>final  </td><td>class4</td><td>A</td></tr>\n",
       "\t<tr><th scope=row>45</th><td>Roger</td><td>midterm</td><td>class5</td><td>B</td></tr>\n",
       "\t<tr><th scope=row>46</th><td>Roger</td><td>final  </td><td>class5</td><td>A</td></tr>\n",
       "\t<tr><th scope=row>49</th><td>Brain</td><td>midterm</td><td>class5</td><td>A</td></tr>\n",
       "\t<tr><th scope=row>50</th><td>Brain</td><td>final  </td><td>class5</td><td>C</td></tr>\n",
       "</tbody>\n",
       "</table>\n"
      ],
      "text/latex": [
       "A data.frame: 20 × 4\n",
       "\\begin{tabular}{r|llll}\n",
       "  & name & test & class & grade\\\\\n",
       "  & <fct> & <fct> & <chr> & <chr>\\\\\n",
       "\\hline\n",
       "\t1 & Sally & midterm & class1 & A\\\\\n",
       "\t2 & Sally & final   & class1 & C\\\\\n",
       "\t9 & Brain & midterm & class1 & B\\\\\n",
       "\t10 & Brain & final   & class1 & B\\\\\n",
       "\t13 & Jeff  & midterm & class2 & D\\\\\n",
       "\t14 & Jeff  & final   & class2 & E\\\\\n",
       "\t15 & Roger & midterm & class2 & C\\\\\n",
       "\t16 & Roger & final   & class2 & A\\\\\n",
       "\t21 & Sally & midterm & class3 & B\\\\\n",
       "\t22 & Sally & final   & class3 & C\\\\\n",
       "\t27 & Karen & midterm & class3 & C\\\\\n",
       "\t28 & Karen & final   & class3 & C\\\\\n",
       "\t33 & Jeff  & midterm & class4 & A\\\\\n",
       "\t34 & Jeff  & final   & class4 & C\\\\\n",
       "\t37 & Karen & midterm & class4 & A\\\\\n",
       "\t38 & Karen & final   & class4 & A\\\\\n",
       "\t45 & Roger & midterm & class5 & B\\\\\n",
       "\t46 & Roger & final   & class5 & A\\\\\n",
       "\t49 & Brain & midterm & class5 & A\\\\\n",
       "\t50 & Brain & final   & class5 & C\\\\\n",
       "\\end{tabular}\n"
      ],
      "text/markdown": [
       "\n",
       "A data.frame: 20 × 4\n",
       "\n",
       "| <!--/--> | name &lt;fct&gt; | test &lt;fct&gt; | class &lt;chr&gt; | grade &lt;chr&gt; |\n",
       "|---|---|---|---|---|\n",
       "| 1 | Sally | midterm | class1 | A |\n",
       "| 2 | Sally | final   | class1 | C |\n",
       "| 9 | Brain | midterm | class1 | B |\n",
       "| 10 | Brain | final   | class1 | B |\n",
       "| 13 | Jeff  | midterm | class2 | D |\n",
       "| 14 | Jeff  | final   | class2 | E |\n",
       "| 15 | Roger | midterm | class2 | C |\n",
       "| 16 | Roger | final   | class2 | A |\n",
       "| 21 | Sally | midterm | class3 | B |\n",
       "| 22 | Sally | final   | class3 | C |\n",
       "| 27 | Karen | midterm | class3 | C |\n",
       "| 28 | Karen | final   | class3 | C |\n",
       "| 33 | Jeff  | midterm | class4 | A |\n",
       "| 34 | Jeff  | final   | class4 | C |\n",
       "| 37 | Karen | midterm | class4 | A |\n",
       "| 38 | Karen | final   | class4 | A |\n",
       "| 45 | Roger | midterm | class5 | B |\n",
       "| 46 | Roger | final   | class5 | A |\n",
       "| 49 | Brain | midterm | class5 | A |\n",
       "| 50 | Brain | final   | class5 | C |\n",
       "\n"
      ],
      "text/plain": [
       "   name  test    class  grade\n",
       "1  Sally midterm class1 A    \n",
       "2  Sally final   class1 C    \n",
       "9  Brain midterm class1 B    \n",
       "10 Brain final   class1 B    \n",
       "13 Jeff  midterm class2 D    \n",
       "14 Jeff  final   class2 E    \n",
       "15 Roger midterm class2 C    \n",
       "16 Roger final   class2 A    \n",
       "21 Sally midterm class3 B    \n",
       "22 Sally final   class3 C    \n",
       "27 Karen midterm class3 C    \n",
       "28 Karen final   class3 C    \n",
       "33 Jeff  midterm class4 A    \n",
       "34 Jeff  final   class4 C    \n",
       "37 Karen midterm class4 A    \n",
       "38 Karen final   class4 A    \n",
       "45 Roger midterm class5 B    \n",
       "46 Roger final   class5 A    \n",
       "49 Brain midterm class5 A    \n",
       "50 Brain final   class5 C    "
      ]
     },
     "metadata": {},
     "output_type": "display_data"
    }
   ],
   "source": [
    "# na.rm=TRUE参数，自动去除有缺失值的记录（一条记录就是一行）：\n",
    "gather(stu3, class, grade, class1:class5, na.rm=TRUE)"
   ]
  },
  {
   "cell_type": "code",
   "execution_count": null,
   "metadata": {
    "collapsed": true
   },
   "outputs": [],
   "source": []
  },
  {
   "cell_type": "code",
   "execution_count": null,
   "metadata": {
    "collapsed": true
   },
   "outputs": [],
   "source": []
  },
  {
   "cell_type": "code",
   "execution_count": null,
   "metadata": {
    "collapsed": true
   },
   "outputs": [],
   "source": []
  },
  {
   "cell_type": "code",
   "execution_count": null,
   "metadata": {
    "collapsed": true
   },
   "outputs": [],
   "source": []
  },
  {
   "cell_type": "code",
   "execution_count": null,
   "metadata": {
    "collapsed": true
   },
   "outputs": [],
   "source": []
  },
  {
   "cell_type": "code",
   "execution_count": null,
   "metadata": {
    "collapsed": true
   },
   "outputs": [],
   "source": []
  },
  {
   "cell_type": "code",
   "execution_count": null,
   "metadata": {
    "collapsed": true
   },
   "outputs": [],
   "source": []
  },
  {
   "cell_type": "code",
   "execution_count": null,
   "metadata": {
    "collapsed": true
   },
   "outputs": [],
   "source": []
  },
  {
   "cell_type": "code",
   "execution_count": null,
   "metadata": {
    "collapsed": true
   },
   "outputs": [],
   "source": []
  },
  {
   "cell_type": "code",
   "execution_count": null,
   "metadata": {
    "collapsed": true
   },
   "outputs": [],
   "source": []
  }
 ],
 "metadata": {
  "kernelspec": {
   "display_name": "R",
   "language": "R",
   "name": "ir"
  },
  "language_info": {
   "codemirror_mode": "r",
   "file_extension": ".r",
   "mimetype": "text/x-r-source",
   "name": "R",
   "pygments_lexer": "r",
   "version": "3.6.0"
  }
 },
 "nbformat": 4,
 "nbformat_minor": 2
}
