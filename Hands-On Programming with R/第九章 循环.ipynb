{
 "cells": [
  {
   "cell_type": "markdown",
   "metadata": {},
   "source": [
    "# 第九章 循环"
   ]
  },
  {
   "cell_type": "markdown",
   "metadata": {},
   "source": [
    "## 9.1 期望值"
   ]
  },
  {
   "cell_type": "code",
   "execution_count": 1,
   "metadata": {},
   "outputs": [],
   "source": [
    "die <- c(1,2,3,4,5,6)\n"
   ]
  },
  {
   "cell_type": "code",
   "execution_count": null,
   "metadata": {},
   "outputs": [],
   "source": []
  },
  {
   "cell_type": "markdown",
   "metadata": {},
   "source": [
    "## 9.2 expand.grid "
   ]
  },
  {
   "cell_type": "code",
   "execution_count": 2,
   "metadata": {},
   "outputs": [
    {
     "data": {
      "text/html": [
       "<table>\n",
       "<caption>A data.frame: 36 × 2</caption>\n",
       "<thead>\n",
       "\t<tr><th scope=col>Var1</th><th scope=col>Var2</th></tr>\n",
       "\t<tr><th scope=col>&lt;dbl&gt;</th><th scope=col>&lt;dbl&gt;</th></tr>\n",
       "</thead>\n",
       "<tbody>\n",
       "\t<tr><td>1</td><td>1</td></tr>\n",
       "\t<tr><td>2</td><td>1</td></tr>\n",
       "\t<tr><td>3</td><td>1</td></tr>\n",
       "\t<tr><td>4</td><td>1</td></tr>\n",
       "\t<tr><td>5</td><td>1</td></tr>\n",
       "\t<tr><td>6</td><td>1</td></tr>\n",
       "\t<tr><td>1</td><td>2</td></tr>\n",
       "\t<tr><td>2</td><td>2</td></tr>\n",
       "\t<tr><td>3</td><td>2</td></tr>\n",
       "\t<tr><td>4</td><td>2</td></tr>\n",
       "\t<tr><td>5</td><td>2</td></tr>\n",
       "\t<tr><td>6</td><td>2</td></tr>\n",
       "\t<tr><td>1</td><td>3</td></tr>\n",
       "\t<tr><td>2</td><td>3</td></tr>\n",
       "\t<tr><td>3</td><td>3</td></tr>\n",
       "\t<tr><td>4</td><td>3</td></tr>\n",
       "\t<tr><td>5</td><td>3</td></tr>\n",
       "\t<tr><td>6</td><td>3</td></tr>\n",
       "\t<tr><td>1</td><td>4</td></tr>\n",
       "\t<tr><td>2</td><td>4</td></tr>\n",
       "\t<tr><td>3</td><td>4</td></tr>\n",
       "\t<tr><td>4</td><td>4</td></tr>\n",
       "\t<tr><td>5</td><td>4</td></tr>\n",
       "\t<tr><td>6</td><td>4</td></tr>\n",
       "\t<tr><td>1</td><td>5</td></tr>\n",
       "\t<tr><td>2</td><td>5</td></tr>\n",
       "\t<tr><td>3</td><td>5</td></tr>\n",
       "\t<tr><td>4</td><td>5</td></tr>\n",
       "\t<tr><td>5</td><td>5</td></tr>\n",
       "\t<tr><td>6</td><td>5</td></tr>\n",
       "\t<tr><td>1</td><td>6</td></tr>\n",
       "\t<tr><td>2</td><td>6</td></tr>\n",
       "\t<tr><td>3</td><td>6</td></tr>\n",
       "\t<tr><td>4</td><td>6</td></tr>\n",
       "\t<tr><td>5</td><td>6</td></tr>\n",
       "\t<tr><td>6</td><td>6</td></tr>\n",
       "</tbody>\n",
       "</table>\n"
      ],
      "text/latex": [
       "A data.frame: 36 × 2\n",
       "\\begin{tabular}{r|ll}\n",
       " Var1 & Var2\\\\\n",
       " <dbl> & <dbl>\\\\\n",
       "\\hline\n",
       "\t 1 & 1\\\\\n",
       "\t 2 & 1\\\\\n",
       "\t 3 & 1\\\\\n",
       "\t 4 & 1\\\\\n",
       "\t 5 & 1\\\\\n",
       "\t 6 & 1\\\\\n",
       "\t 1 & 2\\\\\n",
       "\t 2 & 2\\\\\n",
       "\t 3 & 2\\\\\n",
       "\t 4 & 2\\\\\n",
       "\t 5 & 2\\\\\n",
       "\t 6 & 2\\\\\n",
       "\t 1 & 3\\\\\n",
       "\t 2 & 3\\\\\n",
       "\t 3 & 3\\\\\n",
       "\t 4 & 3\\\\\n",
       "\t 5 & 3\\\\\n",
       "\t 6 & 3\\\\\n",
       "\t 1 & 4\\\\\n",
       "\t 2 & 4\\\\\n",
       "\t 3 & 4\\\\\n",
       "\t 4 & 4\\\\\n",
       "\t 5 & 4\\\\\n",
       "\t 6 & 4\\\\\n",
       "\t 1 & 5\\\\\n",
       "\t 2 & 5\\\\\n",
       "\t 3 & 5\\\\\n",
       "\t 4 & 5\\\\\n",
       "\t 5 & 5\\\\\n",
       "\t 6 & 5\\\\\n",
       "\t 1 & 6\\\\\n",
       "\t 2 & 6\\\\\n",
       "\t 3 & 6\\\\\n",
       "\t 4 & 6\\\\\n",
       "\t 5 & 6\\\\\n",
       "\t 6 & 6\\\\\n",
       "\\end{tabular}\n"
      ],
      "text/markdown": [
       "\n",
       "A data.frame: 36 × 2\n",
       "\n",
       "| Var1 &lt;dbl&gt; | Var2 &lt;dbl&gt; |\n",
       "|---|---|\n",
       "| 1 | 1 |\n",
       "| 2 | 1 |\n",
       "| 3 | 1 |\n",
       "| 4 | 1 |\n",
       "| 5 | 1 |\n",
       "| 6 | 1 |\n",
       "| 1 | 2 |\n",
       "| 2 | 2 |\n",
       "| 3 | 2 |\n",
       "| 4 | 2 |\n",
       "| 5 | 2 |\n",
       "| 6 | 2 |\n",
       "| 1 | 3 |\n",
       "| 2 | 3 |\n",
       "| 3 | 3 |\n",
       "| 4 | 3 |\n",
       "| 5 | 3 |\n",
       "| 6 | 3 |\n",
       "| 1 | 4 |\n",
       "| 2 | 4 |\n",
       "| 3 | 4 |\n",
       "| 4 | 4 |\n",
       "| 5 | 4 |\n",
       "| 6 | 4 |\n",
       "| 1 | 5 |\n",
       "| 2 | 5 |\n",
       "| 3 | 5 |\n",
       "| 4 | 5 |\n",
       "| 5 | 5 |\n",
       "| 6 | 5 |\n",
       "| 1 | 6 |\n",
       "| 2 | 6 |\n",
       "| 3 | 6 |\n",
       "| 4 | 6 |\n",
       "| 5 | 6 |\n",
       "| 6 | 6 |\n",
       "\n"
      ],
      "text/plain": [
       "   Var1 Var2\n",
       "1  1    1   \n",
       "2  2    1   \n",
       "3  3    1   \n",
       "4  4    1   \n",
       "5  5    1   \n",
       "6  6    1   \n",
       "7  1    2   \n",
       "8  2    2   \n",
       "9  3    2   \n",
       "10 4    2   \n",
       "11 5    2   \n",
       "12 6    2   \n",
       "13 1    3   \n",
       "14 2    3   \n",
       "15 3    3   \n",
       "16 4    3   \n",
       "17 5    3   \n",
       "18 6    3   \n",
       "19 1    4   \n",
       "20 2    4   \n",
       "21 3    4   \n",
       "22 4    4   \n",
       "23 5    4   \n",
       "24 6    4   \n",
       "25 1    5   \n",
       "26 2    5   \n",
       "27 3    5   \n",
       "28 4    5   \n",
       "29 5    5   \n",
       "30 6    5   \n",
       "31 1    6   \n",
       "32 2    6   \n",
       "33 3    6   \n",
       "34 4    6   \n",
       "35 5    6   \n",
       "36 6    6   "
      ]
     },
     "metadata": {},
     "output_type": "display_data"
    }
   ],
   "source": [
    "rolls<- expand.grid(die, die)\n",
    "\n",
    "rolls"
   ]
  },
  {
   "cell_type": "code",
   "execution_count": 3,
   "metadata": {},
   "outputs": [
    {
     "data": {
      "text/html": [
       "<ol class=list-inline>\n",
       "\t<li>'Var1'</li>\n",
       "\t<li>'Var2'</li>\n",
       "</ol>\n"
      ],
      "text/latex": [
       "\\begin{enumerate*}\n",
       "\\item 'Var1'\n",
       "\\item 'Var2'\n",
       "\\end{enumerate*}\n"
      ],
      "text/markdown": [
       "1. 'Var1'\n",
       "2. 'Var2'\n",
       "\n",
       "\n"
      ],
      "text/plain": [
       "[1] \"Var1\" \"Var2\""
      ]
     },
     "metadata": {},
     "output_type": "display_data"
    }
   ],
   "source": [
    "names(rolls)"
   ]
  },
  {
   "cell_type": "code",
   "execution_count": 5,
   "metadata": {},
   "outputs": [
    {
     "data": {
      "text/html": [
       "<table>\n",
       "<caption>A data.frame: 36 × 3</caption>\n",
       "<thead>\n",
       "\t<tr><th scope=col>Var1</th><th scope=col>Var2</th><th scope=col>value</th></tr>\n",
       "\t<tr><th scope=col>&lt;dbl&gt;</th><th scope=col>&lt;dbl&gt;</th><th scope=col>&lt;dbl&gt;</th></tr>\n",
       "</thead>\n",
       "<tbody>\n",
       "\t<tr><td>1</td><td>1</td><td> 2</td></tr>\n",
       "\t<tr><td>2</td><td>1</td><td> 3</td></tr>\n",
       "\t<tr><td>3</td><td>1</td><td> 4</td></tr>\n",
       "\t<tr><td>4</td><td>1</td><td> 5</td></tr>\n",
       "\t<tr><td>5</td><td>1</td><td> 6</td></tr>\n",
       "\t<tr><td>6</td><td>1</td><td> 7</td></tr>\n",
       "\t<tr><td>1</td><td>2</td><td> 3</td></tr>\n",
       "\t<tr><td>2</td><td>2</td><td> 4</td></tr>\n",
       "\t<tr><td>3</td><td>2</td><td> 5</td></tr>\n",
       "\t<tr><td>4</td><td>2</td><td> 6</td></tr>\n",
       "\t<tr><td>5</td><td>2</td><td> 7</td></tr>\n",
       "\t<tr><td>6</td><td>2</td><td> 8</td></tr>\n",
       "\t<tr><td>1</td><td>3</td><td> 4</td></tr>\n",
       "\t<tr><td>2</td><td>3</td><td> 5</td></tr>\n",
       "\t<tr><td>3</td><td>3</td><td> 6</td></tr>\n",
       "\t<tr><td>4</td><td>3</td><td> 7</td></tr>\n",
       "\t<tr><td>5</td><td>3</td><td> 8</td></tr>\n",
       "\t<tr><td>6</td><td>3</td><td> 9</td></tr>\n",
       "\t<tr><td>1</td><td>4</td><td> 5</td></tr>\n",
       "\t<tr><td>2</td><td>4</td><td> 6</td></tr>\n",
       "\t<tr><td>3</td><td>4</td><td> 7</td></tr>\n",
       "\t<tr><td>4</td><td>4</td><td> 8</td></tr>\n",
       "\t<tr><td>5</td><td>4</td><td> 9</td></tr>\n",
       "\t<tr><td>6</td><td>4</td><td>10</td></tr>\n",
       "\t<tr><td>1</td><td>5</td><td> 6</td></tr>\n",
       "\t<tr><td>2</td><td>5</td><td> 7</td></tr>\n",
       "\t<tr><td>3</td><td>5</td><td> 8</td></tr>\n",
       "\t<tr><td>4</td><td>5</td><td> 9</td></tr>\n",
       "\t<tr><td>5</td><td>5</td><td>10</td></tr>\n",
       "\t<tr><td>6</td><td>5</td><td>11</td></tr>\n",
       "\t<tr><td>1</td><td>6</td><td> 7</td></tr>\n",
       "\t<tr><td>2</td><td>6</td><td> 8</td></tr>\n",
       "\t<tr><td>3</td><td>6</td><td> 9</td></tr>\n",
       "\t<tr><td>4</td><td>6</td><td>10</td></tr>\n",
       "\t<tr><td>5</td><td>6</td><td>11</td></tr>\n",
       "\t<tr><td>6</td><td>6</td><td>12</td></tr>\n",
       "</tbody>\n",
       "</table>\n"
      ],
      "text/latex": [
       "A data.frame: 36 × 3\n",
       "\\begin{tabular}{r|lll}\n",
       " Var1 & Var2 & value\\\\\n",
       " <dbl> & <dbl> & <dbl>\\\\\n",
       "\\hline\n",
       "\t 1 & 1 &  2\\\\\n",
       "\t 2 & 1 &  3\\\\\n",
       "\t 3 & 1 &  4\\\\\n",
       "\t 4 & 1 &  5\\\\\n",
       "\t 5 & 1 &  6\\\\\n",
       "\t 6 & 1 &  7\\\\\n",
       "\t 1 & 2 &  3\\\\\n",
       "\t 2 & 2 &  4\\\\\n",
       "\t 3 & 2 &  5\\\\\n",
       "\t 4 & 2 &  6\\\\\n",
       "\t 5 & 2 &  7\\\\\n",
       "\t 6 & 2 &  8\\\\\n",
       "\t 1 & 3 &  4\\\\\n",
       "\t 2 & 3 &  5\\\\\n",
       "\t 3 & 3 &  6\\\\\n",
       "\t 4 & 3 &  7\\\\\n",
       "\t 5 & 3 &  8\\\\\n",
       "\t 6 & 3 &  9\\\\\n",
       "\t 1 & 4 &  5\\\\\n",
       "\t 2 & 4 &  6\\\\\n",
       "\t 3 & 4 &  7\\\\\n",
       "\t 4 & 4 &  8\\\\\n",
       "\t 5 & 4 &  9\\\\\n",
       "\t 6 & 4 & 10\\\\\n",
       "\t 1 & 5 &  6\\\\\n",
       "\t 2 & 5 &  7\\\\\n",
       "\t 3 & 5 &  8\\\\\n",
       "\t 4 & 5 &  9\\\\\n",
       "\t 5 & 5 & 10\\\\\n",
       "\t 6 & 5 & 11\\\\\n",
       "\t 1 & 6 &  7\\\\\n",
       "\t 2 & 6 &  8\\\\\n",
       "\t 3 & 6 &  9\\\\\n",
       "\t 4 & 6 & 10\\\\\n",
       "\t 5 & 6 & 11\\\\\n",
       "\t 6 & 6 & 12\\\\\n",
       "\\end{tabular}\n"
      ],
      "text/markdown": [
       "\n",
       "A data.frame: 36 × 3\n",
       "\n",
       "| Var1 &lt;dbl&gt; | Var2 &lt;dbl&gt; | value &lt;dbl&gt; |\n",
       "|---|---|---|\n",
       "| 1 | 1 |  2 |\n",
       "| 2 | 1 |  3 |\n",
       "| 3 | 1 |  4 |\n",
       "| 4 | 1 |  5 |\n",
       "| 5 | 1 |  6 |\n",
       "| 6 | 1 |  7 |\n",
       "| 1 | 2 |  3 |\n",
       "| 2 | 2 |  4 |\n",
       "| 3 | 2 |  5 |\n",
       "| 4 | 2 |  6 |\n",
       "| 5 | 2 |  7 |\n",
       "| 6 | 2 |  8 |\n",
       "| 1 | 3 |  4 |\n",
       "| 2 | 3 |  5 |\n",
       "| 3 | 3 |  6 |\n",
       "| 4 | 3 |  7 |\n",
       "| 5 | 3 |  8 |\n",
       "| 6 | 3 |  9 |\n",
       "| 1 | 4 |  5 |\n",
       "| 2 | 4 |  6 |\n",
       "| 3 | 4 |  7 |\n",
       "| 4 | 4 |  8 |\n",
       "| 5 | 4 |  9 |\n",
       "| 6 | 4 | 10 |\n",
       "| 1 | 5 |  6 |\n",
       "| 2 | 5 |  7 |\n",
       "| 3 | 5 |  8 |\n",
       "| 4 | 5 |  9 |\n",
       "| 5 | 5 | 10 |\n",
       "| 6 | 5 | 11 |\n",
       "| 1 | 6 |  7 |\n",
       "| 2 | 6 |  8 |\n",
       "| 3 | 6 |  9 |\n",
       "| 4 | 6 | 10 |\n",
       "| 5 | 6 | 11 |\n",
       "| 6 | 6 | 12 |\n",
       "\n"
      ],
      "text/plain": [
       "   Var1 Var2 value\n",
       "1  1    1     2   \n",
       "2  2    1     3   \n",
       "3  3    1     4   \n",
       "4  4    1     5   \n",
       "5  5    1     6   \n",
       "6  6    1     7   \n",
       "7  1    2     3   \n",
       "8  2    2     4   \n",
       "9  3    2     5   \n",
       "10 4    2     6   \n",
       "11 5    2     7   \n",
       "12 6    2     8   \n",
       "13 1    3     4   \n",
       "14 2    3     5   \n",
       "15 3    3     6   \n",
       "16 4    3     7   \n",
       "17 5    3     8   \n",
       "18 6    3     9   \n",
       "19 1    4     5   \n",
       "20 2    4     6   \n",
       "21 3    4     7   \n",
       "22 4    4     8   \n",
       "23 5    4     9   \n",
       "24 6    4    10   \n",
       "25 1    5     6   \n",
       "26 2    5     7   \n",
       "27 3    5     8   \n",
       "28 4    5     9   \n",
       "29 5    5    10   \n",
       "30 6    5    11   \n",
       "31 1    6     7   \n",
       "32 2    6     8   \n",
       "33 3    6     9   \n",
       "34 4    6    10   \n",
       "35 5    6    11   \n",
       "36 6    6    12   "
      ]
     },
     "metadata": {},
     "output_type": "display_data"
    }
   ],
   "source": [
    "rolls$value <- rolls$Var1 + rolls$Var2\n",
    "\n",
    "rolls"
   ]
  },
  {
   "cell_type": "code",
   "execution_count": null,
   "metadata": {},
   "outputs": [],
   "source": []
  },
  {
   "cell_type": "markdown",
   "metadata": {},
   "source": [
    "## 9.3 for 循环"
   ]
  },
  {
   "cell_type": "code",
   "execution_count": 6,
   "metadata": {},
   "outputs": [
    {
     "name": "stdout",
     "output_type": "stream",
     "text": [
      "[1] \"one run\"\n",
      "[1] \"one run\"\n",
      "[1] \"one run\"\n",
      "[1] \"one run\"\n"
     ]
    }
   ],
   "source": [
    "for (value in c(\"my\",\"first\",\"for\",\"loop\")){\n",
    "    print(\"one run\")\n",
    "}"
   ]
  },
  {
   "cell_type": "code",
   "execution_count": 7,
   "metadata": {},
   "outputs": [
    {
     "name": "stdout",
     "output_type": "stream",
     "text": [
      "[1] \"my\"\n",
      "[1] \"first\"\n",
      "[1] \"for\"\n",
      "[1] \"loop\"\n"
     ]
    }
   ],
   "source": [
    "for (value in c(\"my\",\"first\",\"for\",\"loop\")){\n",
    "    print(value)\n",
    "}"
   ]
  },
  {
   "cell_type": "code",
   "execution_count": null,
   "metadata": {},
   "outputs": [],
   "source": []
  },
  {
   "cell_type": "code",
   "execution_count": 8,
   "metadata": {},
   "outputs": [
    {
     "name": "stderr",
     "output_type": "stream",
     "text": [
      "Your code contains a unicode char which cannot be displayed in your\n",
      "current locale and R will silently convert it to an escaped form when the\n",
      "R kernel executes this code. This can lead to subtle errors if you use\n",
      "such chars to do comparisons. For more information, please see\n",
      "https://github.com/IRkernel/repr/wiki/Problems-with-unicode-on-windows"
     ]
    },
    {
     "data": {
      "text/html": [
       "<ol class=list-inline>\n",
       "\t<li>FALSE</li>\n",
       "\t<li>FALSE</li>\n",
       "\t<li>FALSE</li>\n",
       "\t<li>FALSE</li>\n",
       "</ol>\n"
      ],
      "text/latex": [
       "\\begin{enumerate*}\n",
       "\\item FALSE\n",
       "\\item FALSE\n",
       "\\item FALSE\n",
       "\\item FALSE\n",
       "\\end{enumerate*}\n"
      ],
      "text/markdown": [
       "1. FALSE\n",
       "2. FALSE\n",
       "3. FALSE\n",
       "4. FALSE\n",
       "\n",
       "\n"
      ],
      "text/plain": [
       "[1] FALSE FALSE FALSE FALSE"
      ]
     },
     "metadata": {},
     "output_type": "display_data"
    }
   ],
   "source": [
    "# 创建一个长度为 4 的 空向量\n",
    "\n",
    "chars <- vector(length=4)\n",
    "\n",
    "chars"
   ]
  },
  {
   "cell_type": "code",
   "execution_count": 9,
   "metadata": {},
   "outputs": [
    {
     "data": {
      "text/html": [
       "<ol class=list-inline>\n",
       "\t<li>'my'</li>\n",
       "\t<li>'first'</li>\n",
       "\t<li>'for'</li>\n",
       "\t<li>'loop'</li>\n",
       "</ol>\n"
      ],
      "text/latex": [
       "\\begin{enumerate*}\n",
       "\\item 'my'\n",
       "\\item 'first'\n",
       "\\item 'for'\n",
       "\\item 'loop'\n",
       "\\end{enumerate*}\n"
      ],
      "text/markdown": [
       "1. 'my'\n",
       "2. 'first'\n",
       "3. 'for'\n",
       "4. 'loop'\n",
       "\n",
       "\n"
      ],
      "text/plain": [
       "[1] \"my\"    \"first\" \"for\"   \"loop\" "
      ]
     },
     "metadata": {},
     "output_type": "display_data"
    }
   ],
   "source": [
    "words <- c(\"my\", \"first\",\"for\", \"loop\")\n",
    "\n",
    "for (i in c(1:4)){\n",
    "    chars[i]= words[i]\n",
    "}\n",
    "\n",
    "chars"
   ]
  },
  {
   "cell_type": "code",
   "execution_count": null,
   "metadata": {},
   "outputs": [],
   "source": []
  },
  {
   "cell_type": "markdown",
   "metadata": {},
   "source": [
    "## 9.4 while 循环"
   ]
  },
  {
   "cell_type": "code",
   "execution_count": 10,
   "metadata": {},
   "outputs": [
    {
     "name": "stdout",
     "output_type": "stream",
     "text": [
      "[1] 9\n",
      "[1] 8\n",
      "[1] 7\n",
      "[1] 6\n",
      "[1] 5\n",
      "[1] 4\n",
      "[1] 3\n",
      "[1] 2\n",
      "[1] 1\n",
      "[1] 0\n"
     ]
    }
   ],
   "source": [
    "cash = 10 \n",
    "\n",
    "while(cash>0){\n",
    "    cash<- cash-1 \n",
    "    print(cash)\n",
    "}"
   ]
  },
  {
   "cell_type": "code",
   "execution_count": null,
   "metadata": {},
   "outputs": [],
   "source": []
  }
 ],
 "metadata": {
  "kernelspec": {
   "display_name": "R",
   "language": "R",
   "name": "ir"
  },
  "language_info": {
   "codemirror_mode": "r",
   "file_extension": ".r",
   "mimetype": "text/x-r-source",
   "name": "R",
   "pygments_lexer": "r",
   "version": "3.5.3"
  }
 },
 "nbformat": 4,
 "nbformat_minor": 2
}
