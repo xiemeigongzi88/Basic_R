{
 "cells": [
  {
   "cell_type": "markdown",
   "metadata": {},
   "source": [
    "# 第五章 对象改值"
   ]
  },
  {
   "cell_type": "code",
   "execution_count": 1,
   "metadata": {},
   "outputs": [
    {
     "data": {
      "text/html": [
       "<table>\n",
       "<caption>A data.frame: 52 × 3</caption>\n",
       "<thead>\n",
       "\t<tr><th scope=col>face</th><th scope=col>suit</th><th scope=col>value</th></tr>\n",
       "\t<tr><th scope=col>&lt;fct&gt;</th><th scope=col>&lt;fct&gt;</th><th scope=col>&lt;dbl&gt;</th></tr>\n",
       "</thead>\n",
       "<tbody>\n",
       "\t<tr><td>king </td><td>spades  </td><td>13</td></tr>\n",
       "\t<tr><td>queen</td><td>spades  </td><td>12</td></tr>\n",
       "\t<tr><td>jack </td><td>spades  </td><td>11</td></tr>\n",
       "\t<tr><td>ten  </td><td>spades  </td><td>10</td></tr>\n",
       "\t<tr><td>nine </td><td>spades  </td><td> 9</td></tr>\n",
       "\t<tr><td>eight</td><td>spades  </td><td> 8</td></tr>\n",
       "\t<tr><td>seven</td><td>spades  </td><td> 7</td></tr>\n",
       "\t<tr><td>six  </td><td>spades  </td><td> 6</td></tr>\n",
       "\t<tr><td>five </td><td>spades  </td><td> 5</td></tr>\n",
       "\t<tr><td>four </td><td>spades  </td><td> 4</td></tr>\n",
       "\t<tr><td>three</td><td>spades  </td><td> 3</td></tr>\n",
       "\t<tr><td>two  </td><td>spades  </td><td> 2</td></tr>\n",
       "\t<tr><td>ace  </td><td>spades  </td><td> 1</td></tr>\n",
       "\t<tr><td>king </td><td>clubs   </td><td>13</td></tr>\n",
       "\t<tr><td>queen</td><td>clubs   </td><td>12</td></tr>\n",
       "\t<tr><td>jack </td><td>clubs   </td><td>11</td></tr>\n",
       "\t<tr><td>ten  </td><td>clubs   </td><td>10</td></tr>\n",
       "\t<tr><td>nine </td><td>clubs   </td><td> 9</td></tr>\n",
       "\t<tr><td>eight</td><td>clubs   </td><td> 8</td></tr>\n",
       "\t<tr><td>seven</td><td>clubs   </td><td> 7</td></tr>\n",
       "\t<tr><td>six  </td><td>clubs   </td><td> 6</td></tr>\n",
       "\t<tr><td>five </td><td>clubs   </td><td> 5</td></tr>\n",
       "\t<tr><td>four </td><td>clubs   </td><td> 4</td></tr>\n",
       "\t<tr><td>three</td><td>clubs   </td><td> 3</td></tr>\n",
       "\t<tr><td>two  </td><td>clubs   </td><td> 2</td></tr>\n",
       "\t<tr><td>ace  </td><td>clubs   </td><td> 1</td></tr>\n",
       "\t<tr><td>king </td><td>diamonds</td><td>13</td></tr>\n",
       "\t<tr><td>queen</td><td>diamonds</td><td>12</td></tr>\n",
       "\t<tr><td>jack </td><td>diamonds</td><td>11</td></tr>\n",
       "\t<tr><td>ten  </td><td>diamonds</td><td>10</td></tr>\n",
       "\t<tr><td>nine </td><td>diamonds</td><td> 9</td></tr>\n",
       "\t<tr><td>eight</td><td>diamonds</td><td> 8</td></tr>\n",
       "\t<tr><td>seven</td><td>diamonds</td><td> 7</td></tr>\n",
       "\t<tr><td>six  </td><td>diamonds</td><td> 6</td></tr>\n",
       "\t<tr><td>five </td><td>diamonds</td><td> 5</td></tr>\n",
       "\t<tr><td>four </td><td>diamonds</td><td> 4</td></tr>\n",
       "\t<tr><td>three</td><td>diamonds</td><td> 3</td></tr>\n",
       "\t<tr><td>two  </td><td>diamonds</td><td> 2</td></tr>\n",
       "\t<tr><td>ace  </td><td>diamonds</td><td> 1</td></tr>\n",
       "\t<tr><td>king </td><td>hearts  </td><td>13</td></tr>\n",
       "\t<tr><td>queen</td><td>hearts  </td><td>12</td></tr>\n",
       "\t<tr><td>jack </td><td>hearts  </td><td>11</td></tr>\n",
       "\t<tr><td>ten  </td><td>hearts  </td><td>10</td></tr>\n",
       "\t<tr><td>nine </td><td>hearts  </td><td> 9</td></tr>\n",
       "\t<tr><td>eight</td><td>hearts  </td><td> 8</td></tr>\n",
       "\t<tr><td>seven</td><td>hearts  </td><td> 7</td></tr>\n",
       "\t<tr><td>six  </td><td>hearts  </td><td> 6</td></tr>\n",
       "\t<tr><td>five </td><td>hearts  </td><td> 5</td></tr>\n",
       "\t<tr><td>four </td><td>hearts  </td><td> 4</td></tr>\n",
       "\t<tr><td>three</td><td>hearts  </td><td> 3</td></tr>\n",
       "\t<tr><td>two  </td><td>hearts  </td><td> 2</td></tr>\n",
       "\t<tr><td>ace  </td><td>hearts  </td><td> 1</td></tr>\n",
       "</tbody>\n",
       "</table>\n"
      ],
      "text/latex": [
       "A data.frame: 52 × 3\n",
       "\\begin{tabular}{r|lll}\n",
       " face & suit & value\\\\\n",
       " <fct> & <fct> & <dbl>\\\\\n",
       "\\hline\n",
       "\t king  & spades   & 13\\\\\n",
       "\t queen & spades   & 12\\\\\n",
       "\t jack  & spades   & 11\\\\\n",
       "\t ten   & spades   & 10\\\\\n",
       "\t nine  & spades   &  9\\\\\n",
       "\t eight & spades   &  8\\\\\n",
       "\t seven & spades   &  7\\\\\n",
       "\t six   & spades   &  6\\\\\n",
       "\t five  & spades   &  5\\\\\n",
       "\t four  & spades   &  4\\\\\n",
       "\t three & spades   &  3\\\\\n",
       "\t two   & spades   &  2\\\\\n",
       "\t ace   & spades   &  1\\\\\n",
       "\t king  & clubs    & 13\\\\\n",
       "\t queen & clubs    & 12\\\\\n",
       "\t jack  & clubs    & 11\\\\\n",
       "\t ten   & clubs    & 10\\\\\n",
       "\t nine  & clubs    &  9\\\\\n",
       "\t eight & clubs    &  8\\\\\n",
       "\t seven & clubs    &  7\\\\\n",
       "\t six   & clubs    &  6\\\\\n",
       "\t five  & clubs    &  5\\\\\n",
       "\t four  & clubs    &  4\\\\\n",
       "\t three & clubs    &  3\\\\\n",
       "\t two   & clubs    &  2\\\\\n",
       "\t ace   & clubs    &  1\\\\\n",
       "\t king  & diamonds & 13\\\\\n",
       "\t queen & diamonds & 12\\\\\n",
       "\t jack  & diamonds & 11\\\\\n",
       "\t ten   & diamonds & 10\\\\\n",
       "\t nine  & diamonds &  9\\\\\n",
       "\t eight & diamonds &  8\\\\\n",
       "\t seven & diamonds &  7\\\\\n",
       "\t six   & diamonds &  6\\\\\n",
       "\t five  & diamonds &  5\\\\\n",
       "\t four  & diamonds &  4\\\\\n",
       "\t three & diamonds &  3\\\\\n",
       "\t two   & diamonds &  2\\\\\n",
       "\t ace   & diamonds &  1\\\\\n",
       "\t king  & hearts   & 13\\\\\n",
       "\t queen & hearts   & 12\\\\\n",
       "\t jack  & hearts   & 11\\\\\n",
       "\t ten   & hearts   & 10\\\\\n",
       "\t nine  & hearts   &  9\\\\\n",
       "\t eight & hearts   &  8\\\\\n",
       "\t seven & hearts   &  7\\\\\n",
       "\t six   & hearts   &  6\\\\\n",
       "\t five  & hearts   &  5\\\\\n",
       "\t four  & hearts   &  4\\\\\n",
       "\t three & hearts   &  3\\\\\n",
       "\t two   & hearts   &  2\\\\\n",
       "\t ace   & hearts   &  1\\\\\n",
       "\\end{tabular}\n"
      ],
      "text/markdown": [
       "\n",
       "A data.frame: 52 × 3\n",
       "\n",
       "| face &lt;fct&gt; | suit &lt;fct&gt; | value &lt;dbl&gt; |\n",
       "|---|---|---|\n",
       "| king  | spades   | 13 |\n",
       "| queen | spades   | 12 |\n",
       "| jack  | spades   | 11 |\n",
       "| ten   | spades   | 10 |\n",
       "| nine  | spades   |  9 |\n",
       "| eight | spades   |  8 |\n",
       "| seven | spades   |  7 |\n",
       "| six   | spades   |  6 |\n",
       "| five  | spades   |  5 |\n",
       "| four  | spades   |  4 |\n",
       "| three | spades   |  3 |\n",
       "| two   | spades   |  2 |\n",
       "| ace   | spades   |  1 |\n",
       "| king  | clubs    | 13 |\n",
       "| queen | clubs    | 12 |\n",
       "| jack  | clubs    | 11 |\n",
       "| ten   | clubs    | 10 |\n",
       "| nine  | clubs    |  9 |\n",
       "| eight | clubs    |  8 |\n",
       "| seven | clubs    |  7 |\n",
       "| six   | clubs    |  6 |\n",
       "| five  | clubs    |  5 |\n",
       "| four  | clubs    |  4 |\n",
       "| three | clubs    |  3 |\n",
       "| two   | clubs    |  2 |\n",
       "| ace   | clubs    |  1 |\n",
       "| king  | diamonds | 13 |\n",
       "| queen | diamonds | 12 |\n",
       "| jack  | diamonds | 11 |\n",
       "| ten   | diamonds | 10 |\n",
       "| nine  | diamonds |  9 |\n",
       "| eight | diamonds |  8 |\n",
       "| seven | diamonds |  7 |\n",
       "| six   | diamonds |  6 |\n",
       "| five  | diamonds |  5 |\n",
       "| four  | diamonds |  4 |\n",
       "| three | diamonds |  3 |\n",
       "| two   | diamonds |  2 |\n",
       "| ace   | diamonds |  1 |\n",
       "| king  | hearts   | 13 |\n",
       "| queen | hearts   | 12 |\n",
       "| jack  | hearts   | 11 |\n",
       "| ten   | hearts   | 10 |\n",
       "| nine  | hearts   |  9 |\n",
       "| eight | hearts   |  8 |\n",
       "| seven | hearts   |  7 |\n",
       "| six   | hearts   |  6 |\n",
       "| five  | hearts   |  5 |\n",
       "| four  | hearts   |  4 |\n",
       "| three | hearts   |  3 |\n",
       "| two   | hearts   |  2 |\n",
       "| ace   | hearts   |  1 |\n",
       "\n"
      ],
      "text/plain": [
       "   face  suit     value\n",
       "1  king  spades   13   \n",
       "2  queen spades   12   \n",
       "3  jack  spades   11   \n",
       "4  ten   spades   10   \n",
       "5  nine  spades    9   \n",
       "6  eight spades    8   \n",
       "7  seven spades    7   \n",
       "8  six   spades    6   \n",
       "9  five  spades    5   \n",
       "10 four  spades    4   \n",
       "11 three spades    3   \n",
       "12 two   spades    2   \n",
       "13 ace   spades    1   \n",
       "14 king  clubs    13   \n",
       "15 queen clubs    12   \n",
       "16 jack  clubs    11   \n",
       "17 ten   clubs    10   \n",
       "18 nine  clubs     9   \n",
       "19 eight clubs     8   \n",
       "20 seven clubs     7   \n",
       "21 six   clubs     6   \n",
       "22 five  clubs     5   \n",
       "23 four  clubs     4   \n",
       "24 three clubs     3   \n",
       "25 two   clubs     2   \n",
       "26 ace   clubs     1   \n",
       "27 king  diamonds 13   \n",
       "28 queen diamonds 12   \n",
       "29 jack  diamonds 11   \n",
       "30 ten   diamonds 10   \n",
       "31 nine  diamonds  9   \n",
       "32 eight diamonds  8   \n",
       "33 seven diamonds  7   \n",
       "34 six   diamonds  6   \n",
       "35 five  diamonds  5   \n",
       "36 four  diamonds  4   \n",
       "37 three diamonds  3   \n",
       "38 two   diamonds  2   \n",
       "39 ace   diamonds  1   \n",
       "40 king  hearts   13   \n",
       "41 queen hearts   12   \n",
       "42 jack  hearts   11   \n",
       "43 ten   hearts   10   \n",
       "44 nine  hearts    9   \n",
       "45 eight hearts    8   \n",
       "46 seven hearts    7   \n",
       "47 six   hearts    6   \n",
       "48 five  hearts    5   \n",
       "49 four  hearts    4   \n",
       "50 three hearts    3   \n",
       "51 two   hearts    2   \n",
       "52 ace   hearts    1   "
      ]
     },
     "metadata": {},
     "output_type": "display_data"
    }
   ],
   "source": [
    "deck <- data.frame(\n",
    "      face = c(\"king\", \"queen\", \"jack\", \"ten\", \"nine\", \"eight\", \"seven\", \"six\",\n",
    "        \"five\", \"four\", \"three\", \"two\", \"ace\", \"king\", \"queen\", \"jack\", \"ten\",\n",
    "        \"nine\", \"eight\", \"seven\", \"six\", \"five\", \"four\", \"three\", \"two\", \"ace\",\n",
    "        \"king\", \"queen\", \"jack\", \"ten\", \"nine\", \"eight\", \"seven\", \"six\", \"five\",\n",
    "        \"four\", \"three\", \"two\", \"ace\", \"king\", \"queen\", \"jack\", \"ten\", \"nine\",\n",
    "        \"eight\", \"seven\", \"six\", \"five\", \"four\", \"three\", \"two\", \"ace\"),\n",
    "      suit = c(\"spades\", \"spades\", \"spades\", \"spades\", \"spades\", \"spades\",\n",
    "        \"spades\", \"spades\", \"spades\", \"spades\", \"spades\", \"spades\", \"spades\",\n",
    "        \"clubs\", \"clubs\", \"clubs\", \"clubs\", \"clubs\", \"clubs\", \"clubs\", \"clubs\",\n",
    "        \"clubs\", \"clubs\", \"clubs\", \"clubs\", \"clubs\", \"diamonds\", \"diamonds\",\n",
    "        \"diamonds\", \"diamonds\", \"diamonds\", \"diamonds\", \"diamonds\", \"diamonds\",\n",
    "        \"diamonds\", \"diamonds\", \"diamonds\", \"diamonds\", \"diamonds\", \"hearts\",\n",
    "        \"hearts\", \"hearts\", \"hearts\", \"hearts\", \"hearts\", \"hearts\", \"hearts\",\n",
    "        \"hearts\", \"hearts\", \"hearts\", \"hearts\", \"hearts\"),\n",
    "value = c(13, 12, 11, 10, 9, 8, 7, 6, 5, 4, 3, 2, 1, 13, 12, 11, 10, 9, 8,  7, 6, 5, 4, 3, 2, 1, 13, 12, 11, 10, 9, 8, 7, 6, 5, 4, 3, 2, 1, 13, 12, 11,  10, 9, 8, 7, 6, 5, 4, 3, 2, 1)\n",
    ")\n",
    "\n",
    "deck"
   ]
  },
  {
   "cell_type": "code",
   "execution_count": null,
   "metadata": {},
   "outputs": [],
   "source": []
  },
  {
   "cell_type": "markdown",
   "metadata": {},
   "source": [
    "## 5.1 就地改值"
   ]
  },
  {
   "cell_type": "code",
   "execution_count": 2,
   "metadata": {},
   "outputs": [
    {
     "data": {
      "text/html": [
       "<ol class=list-inline>\n",
       "\t<li>0</li>\n",
       "\t<li>0</li>\n",
       "\t<li>0</li>\n",
       "\t<li>0</li>\n",
       "\t<li>0</li>\n",
       "\t<li>0</li>\n",
       "</ol>\n"
      ],
      "text/latex": [
       "\\begin{enumerate*}\n",
       "\\item 0\n",
       "\\item 0\n",
       "\\item 0\n",
       "\\item 0\n",
       "\\item 0\n",
       "\\item 0\n",
       "\\end{enumerate*}\n"
      ],
      "text/markdown": [
       "1. 0\n",
       "2. 0\n",
       "3. 0\n",
       "4. 0\n",
       "5. 0\n",
       "6. 0\n",
       "\n",
       "\n"
      ],
      "text/plain": [
       "[1] 0 0 0 0 0 0"
      ]
     },
     "metadata": {},
     "output_type": "display_data"
    }
   ],
   "source": [
    "vec <- c(0,0,0,0,0,0)\n",
    "\n",
    "vec"
   ]
  },
  {
   "cell_type": "code",
   "execution_count": 4,
   "metadata": {},
   "outputs": [
    {
     "data": {
      "text/html": [
       "<ol class=list-inline>\n",
       "\t<li>1000</li>\n",
       "\t<li>0</li>\n",
       "\t<li>0</li>\n",
       "\t<li>0</li>\n",
       "\t<li>0</li>\n",
       "\t<li>0</li>\n",
       "</ol>\n"
      ],
      "text/latex": [
       "\\begin{enumerate*}\n",
       "\\item 1000\n",
       "\\item 0\n",
       "\\item 0\n",
       "\\item 0\n",
       "\\item 0\n",
       "\\item 0\n",
       "\\end{enumerate*}\n"
      ],
      "text/markdown": [
       "1. 1000\n",
       "2. 0\n",
       "3. 0\n",
       "4. 0\n",
       "5. 0\n",
       "6. 0\n",
       "\n",
       "\n"
      ],
      "text/plain": [
       "[1] 1000    0    0    0    0    0"
      ]
     },
     "metadata": {},
     "output_type": "display_data"
    }
   ],
   "source": [
    "vec[1]<-1000\n",
    "\n",
    "vec"
   ]
  },
  {
   "cell_type": "code",
   "execution_count": 5,
   "metadata": {},
   "outputs": [
    {
     "data": {
      "text/html": [
       "<ol class=list-inline>\n",
       "\t<li>1</li>\n",
       "\t<li>0</li>\n",
       "\t<li>1</li>\n",
       "\t<li>0</li>\n",
       "\t<li>1</li>\n",
       "\t<li>0</li>\n",
       "</ol>\n"
      ],
      "text/latex": [
       "\\begin{enumerate*}\n",
       "\\item 1\n",
       "\\item 0\n",
       "\\item 1\n",
       "\\item 0\n",
       "\\item 1\n",
       "\\item 0\n",
       "\\end{enumerate*}\n"
      ],
      "text/markdown": [
       "1. 1\n",
       "2. 0\n",
       "3. 1\n",
       "4. 0\n",
       "5. 1\n",
       "6. 0\n",
       "\n",
       "\n"
      ],
      "text/plain": [
       "[1] 1 0 1 0 1 0"
      ]
     },
     "metadata": {},
     "output_type": "display_data"
    }
   ],
   "source": [
    "vec[c(1,3,5)]<- c(1,1,1)\n",
    "\n",
    "vec"
   ]
  },
  {
   "cell_type": "code",
   "execution_count": 6,
   "metadata": {},
   "outputs": [
    {
     "data": {
      "text/html": [
       "<ol class=list-inline>\n",
       "\t<li>1</li>\n",
       "\t<li>0</li>\n",
       "\t<li>1</li>\n",
       "\t<li>1</li>\n",
       "\t<li>2</li>\n",
       "\t<li>1</li>\n",
       "</ol>\n"
      ],
      "text/latex": [
       "\\begin{enumerate*}\n",
       "\\item 1\n",
       "\\item 0\n",
       "\\item 1\n",
       "\\item 1\n",
       "\\item 2\n",
       "\\item 1\n",
       "\\end{enumerate*}\n"
      ],
      "text/markdown": [
       "1. 1\n",
       "2. 0\n",
       "3. 1\n",
       "4. 1\n",
       "5. 2\n",
       "6. 1\n",
       "\n",
       "\n"
      ],
      "text/plain": [
       "[1] 1 0 1 1 2 1"
      ]
     },
     "metadata": {},
     "output_type": "display_data"
    }
   ],
   "source": [
    "vec[4:6]<- vec[4:6]+1 \n",
    "\n",
    "vec"
   ]
  },
  {
   "cell_type": "code",
   "execution_count": 7,
   "metadata": {},
   "outputs": [
    {
     "data": {
      "text/html": [
       "6"
      ],
      "text/latex": [
       "6"
      ],
      "text/markdown": [
       "6"
      ],
      "text/plain": [
       "[1] 6"
      ]
     },
     "metadata": {},
     "output_type": "display_data"
    }
   ],
   "source": [
    "length(vec)"
   ]
  },
  {
   "cell_type": "code",
   "execution_count": 8,
   "metadata": {},
   "outputs": [
    {
     "data": {
      "text/html": [
       "<ol class=list-inline>\n",
       "\t<li>1</li>\n",
       "\t<li>0</li>\n",
       "\t<li>1</li>\n",
       "\t<li>1</li>\n",
       "\t<li>2</li>\n",
       "\t<li>1</li>\n",
       "\t<li>100</li>\n",
       "</ol>\n"
      ],
      "text/latex": [
       "\\begin{enumerate*}\n",
       "\\item 1\n",
       "\\item 0\n",
       "\\item 1\n",
       "\\item 1\n",
       "\\item 2\n",
       "\\item 1\n",
       "\\item 100\n",
       "\\end{enumerate*}\n"
      ],
      "text/markdown": [
       "1. 1\n",
       "2. 0\n",
       "3. 1\n",
       "4. 1\n",
       "5. 2\n",
       "6. 1\n",
       "7. 100\n",
       "\n",
       "\n"
      ],
      "text/plain": [
       "[1]   1   0   1   1   2   1 100"
      ]
     },
     "metadata": {},
     "output_type": "display_data"
    },
    {
     "data": {
      "text/html": [
       "7"
      ],
      "text/latex": [
       "7"
      ],
      "text/markdown": [
       "7"
      ],
      "text/plain": [
       "[1] 7"
      ]
     },
     "metadata": {},
     "output_type": "display_data"
    }
   ],
   "source": [
    "vec[7]<-100\n",
    "\n",
    "vec\n",
    "\n",
    "length(vec)"
   ]
  },
  {
   "cell_type": "code",
   "execution_count": 9,
   "metadata": {},
   "outputs": [
    {
     "data": {
      "text/html": [
       "<table>\n",
       "<caption>A data.frame: 52 × 4</caption>\n",
       "<thead>\n",
       "\t<tr><th scope=col>face</th><th scope=col>suit</th><th scope=col>value</th><th scope=col>new</th></tr>\n",
       "\t<tr><th scope=col>&lt;fct&gt;</th><th scope=col>&lt;fct&gt;</th><th scope=col>&lt;dbl&gt;</th><th scope=col>&lt;int&gt;</th></tr>\n",
       "</thead>\n",
       "<tbody>\n",
       "\t<tr><td>king </td><td>spades  </td><td>13</td><td> 1</td></tr>\n",
       "\t<tr><td>queen</td><td>spades  </td><td>12</td><td> 2</td></tr>\n",
       "\t<tr><td>jack </td><td>spades  </td><td>11</td><td> 3</td></tr>\n",
       "\t<tr><td>ten  </td><td>spades  </td><td>10</td><td> 4</td></tr>\n",
       "\t<tr><td>nine </td><td>spades  </td><td> 9</td><td> 5</td></tr>\n",
       "\t<tr><td>eight</td><td>spades  </td><td> 8</td><td> 6</td></tr>\n",
       "\t<tr><td>seven</td><td>spades  </td><td> 7</td><td> 7</td></tr>\n",
       "\t<tr><td>six  </td><td>spades  </td><td> 6</td><td> 8</td></tr>\n",
       "\t<tr><td>five </td><td>spades  </td><td> 5</td><td> 9</td></tr>\n",
       "\t<tr><td>four </td><td>spades  </td><td> 4</td><td>10</td></tr>\n",
       "\t<tr><td>three</td><td>spades  </td><td> 3</td><td>11</td></tr>\n",
       "\t<tr><td>two  </td><td>spades  </td><td> 2</td><td>12</td></tr>\n",
       "\t<tr><td>ace  </td><td>spades  </td><td> 1</td><td>13</td></tr>\n",
       "\t<tr><td>king </td><td>clubs   </td><td>13</td><td>14</td></tr>\n",
       "\t<tr><td>queen</td><td>clubs   </td><td>12</td><td>15</td></tr>\n",
       "\t<tr><td>jack </td><td>clubs   </td><td>11</td><td>16</td></tr>\n",
       "\t<tr><td>ten  </td><td>clubs   </td><td>10</td><td>17</td></tr>\n",
       "\t<tr><td>nine </td><td>clubs   </td><td> 9</td><td>18</td></tr>\n",
       "\t<tr><td>eight</td><td>clubs   </td><td> 8</td><td>19</td></tr>\n",
       "\t<tr><td>seven</td><td>clubs   </td><td> 7</td><td>20</td></tr>\n",
       "\t<tr><td>six  </td><td>clubs   </td><td> 6</td><td>21</td></tr>\n",
       "\t<tr><td>five </td><td>clubs   </td><td> 5</td><td>22</td></tr>\n",
       "\t<tr><td>four </td><td>clubs   </td><td> 4</td><td>23</td></tr>\n",
       "\t<tr><td>three</td><td>clubs   </td><td> 3</td><td>24</td></tr>\n",
       "\t<tr><td>two  </td><td>clubs   </td><td> 2</td><td>25</td></tr>\n",
       "\t<tr><td>ace  </td><td>clubs   </td><td> 1</td><td>26</td></tr>\n",
       "\t<tr><td>king </td><td>diamonds</td><td>13</td><td>27</td></tr>\n",
       "\t<tr><td>queen</td><td>diamonds</td><td>12</td><td>28</td></tr>\n",
       "\t<tr><td>jack </td><td>diamonds</td><td>11</td><td>29</td></tr>\n",
       "\t<tr><td>ten  </td><td>diamonds</td><td>10</td><td>30</td></tr>\n",
       "\t<tr><td>nine </td><td>diamonds</td><td> 9</td><td>31</td></tr>\n",
       "\t<tr><td>eight</td><td>diamonds</td><td> 8</td><td>32</td></tr>\n",
       "\t<tr><td>seven</td><td>diamonds</td><td> 7</td><td>33</td></tr>\n",
       "\t<tr><td>six  </td><td>diamonds</td><td> 6</td><td>34</td></tr>\n",
       "\t<tr><td>five </td><td>diamonds</td><td> 5</td><td>35</td></tr>\n",
       "\t<tr><td>four </td><td>diamonds</td><td> 4</td><td>36</td></tr>\n",
       "\t<tr><td>three</td><td>diamonds</td><td> 3</td><td>37</td></tr>\n",
       "\t<tr><td>two  </td><td>diamonds</td><td> 2</td><td>38</td></tr>\n",
       "\t<tr><td>ace  </td><td>diamonds</td><td> 1</td><td>39</td></tr>\n",
       "\t<tr><td>king </td><td>hearts  </td><td>13</td><td>40</td></tr>\n",
       "\t<tr><td>queen</td><td>hearts  </td><td>12</td><td>41</td></tr>\n",
       "\t<tr><td>jack </td><td>hearts  </td><td>11</td><td>42</td></tr>\n",
       "\t<tr><td>ten  </td><td>hearts  </td><td>10</td><td>43</td></tr>\n",
       "\t<tr><td>nine </td><td>hearts  </td><td> 9</td><td>44</td></tr>\n",
       "\t<tr><td>eight</td><td>hearts  </td><td> 8</td><td>45</td></tr>\n",
       "\t<tr><td>seven</td><td>hearts  </td><td> 7</td><td>46</td></tr>\n",
       "\t<tr><td>six  </td><td>hearts  </td><td> 6</td><td>47</td></tr>\n",
       "\t<tr><td>five </td><td>hearts  </td><td> 5</td><td>48</td></tr>\n",
       "\t<tr><td>four </td><td>hearts  </td><td> 4</td><td>49</td></tr>\n",
       "\t<tr><td>three</td><td>hearts  </td><td> 3</td><td>50</td></tr>\n",
       "\t<tr><td>two  </td><td>hearts  </td><td> 2</td><td>51</td></tr>\n",
       "\t<tr><td>ace  </td><td>hearts  </td><td> 1</td><td>52</td></tr>\n",
       "</tbody>\n",
       "</table>\n"
      ],
      "text/latex": [
       "A data.frame: 52 × 4\n",
       "\\begin{tabular}{r|llll}\n",
       " face & suit & value & new\\\\\n",
       " <fct> & <fct> & <dbl> & <int>\\\\\n",
       "\\hline\n",
       "\t king  & spades   & 13 &  1\\\\\n",
       "\t queen & spades   & 12 &  2\\\\\n",
       "\t jack  & spades   & 11 &  3\\\\\n",
       "\t ten   & spades   & 10 &  4\\\\\n",
       "\t nine  & spades   &  9 &  5\\\\\n",
       "\t eight & spades   &  8 &  6\\\\\n",
       "\t seven & spades   &  7 &  7\\\\\n",
       "\t six   & spades   &  6 &  8\\\\\n",
       "\t five  & spades   &  5 &  9\\\\\n",
       "\t four  & spades   &  4 & 10\\\\\n",
       "\t three & spades   &  3 & 11\\\\\n",
       "\t two   & spades   &  2 & 12\\\\\n",
       "\t ace   & spades   &  1 & 13\\\\\n",
       "\t king  & clubs    & 13 & 14\\\\\n",
       "\t queen & clubs    & 12 & 15\\\\\n",
       "\t jack  & clubs    & 11 & 16\\\\\n",
       "\t ten   & clubs    & 10 & 17\\\\\n",
       "\t nine  & clubs    &  9 & 18\\\\\n",
       "\t eight & clubs    &  8 & 19\\\\\n",
       "\t seven & clubs    &  7 & 20\\\\\n",
       "\t six   & clubs    &  6 & 21\\\\\n",
       "\t five  & clubs    &  5 & 22\\\\\n",
       "\t four  & clubs    &  4 & 23\\\\\n",
       "\t three & clubs    &  3 & 24\\\\\n",
       "\t two   & clubs    &  2 & 25\\\\\n",
       "\t ace   & clubs    &  1 & 26\\\\\n",
       "\t king  & diamonds & 13 & 27\\\\\n",
       "\t queen & diamonds & 12 & 28\\\\\n",
       "\t jack  & diamonds & 11 & 29\\\\\n",
       "\t ten   & diamonds & 10 & 30\\\\\n",
       "\t nine  & diamonds &  9 & 31\\\\\n",
       "\t eight & diamonds &  8 & 32\\\\\n",
       "\t seven & diamonds &  7 & 33\\\\\n",
       "\t six   & diamonds &  6 & 34\\\\\n",
       "\t five  & diamonds &  5 & 35\\\\\n",
       "\t four  & diamonds &  4 & 36\\\\\n",
       "\t three & diamonds &  3 & 37\\\\\n",
       "\t two   & diamonds &  2 & 38\\\\\n",
       "\t ace   & diamonds &  1 & 39\\\\\n",
       "\t king  & hearts   & 13 & 40\\\\\n",
       "\t queen & hearts   & 12 & 41\\\\\n",
       "\t jack  & hearts   & 11 & 42\\\\\n",
       "\t ten   & hearts   & 10 & 43\\\\\n",
       "\t nine  & hearts   &  9 & 44\\\\\n",
       "\t eight & hearts   &  8 & 45\\\\\n",
       "\t seven & hearts   &  7 & 46\\\\\n",
       "\t six   & hearts   &  6 & 47\\\\\n",
       "\t five  & hearts   &  5 & 48\\\\\n",
       "\t four  & hearts   &  4 & 49\\\\\n",
       "\t three & hearts   &  3 & 50\\\\\n",
       "\t two   & hearts   &  2 & 51\\\\\n",
       "\t ace   & hearts   &  1 & 52\\\\\n",
       "\\end{tabular}\n"
      ],
      "text/markdown": [
       "\n",
       "A data.frame: 52 × 4\n",
       "\n",
       "| face &lt;fct&gt; | suit &lt;fct&gt; | value &lt;dbl&gt; | new &lt;int&gt; |\n",
       "|---|---|---|---|\n",
       "| king  | spades   | 13 |  1 |\n",
       "| queen | spades   | 12 |  2 |\n",
       "| jack  | spades   | 11 |  3 |\n",
       "| ten   | spades   | 10 |  4 |\n",
       "| nine  | spades   |  9 |  5 |\n",
       "| eight | spades   |  8 |  6 |\n",
       "| seven | spades   |  7 |  7 |\n",
       "| six   | spades   |  6 |  8 |\n",
       "| five  | spades   |  5 |  9 |\n",
       "| four  | spades   |  4 | 10 |\n",
       "| three | spades   |  3 | 11 |\n",
       "| two   | spades   |  2 | 12 |\n",
       "| ace   | spades   |  1 | 13 |\n",
       "| king  | clubs    | 13 | 14 |\n",
       "| queen | clubs    | 12 | 15 |\n",
       "| jack  | clubs    | 11 | 16 |\n",
       "| ten   | clubs    | 10 | 17 |\n",
       "| nine  | clubs    |  9 | 18 |\n",
       "| eight | clubs    |  8 | 19 |\n",
       "| seven | clubs    |  7 | 20 |\n",
       "| six   | clubs    |  6 | 21 |\n",
       "| five  | clubs    |  5 | 22 |\n",
       "| four  | clubs    |  4 | 23 |\n",
       "| three | clubs    |  3 | 24 |\n",
       "| two   | clubs    |  2 | 25 |\n",
       "| ace   | clubs    |  1 | 26 |\n",
       "| king  | diamonds | 13 | 27 |\n",
       "| queen | diamonds | 12 | 28 |\n",
       "| jack  | diamonds | 11 | 29 |\n",
       "| ten   | diamonds | 10 | 30 |\n",
       "| nine  | diamonds |  9 | 31 |\n",
       "| eight | diamonds |  8 | 32 |\n",
       "| seven | diamonds |  7 | 33 |\n",
       "| six   | diamonds |  6 | 34 |\n",
       "| five  | diamonds |  5 | 35 |\n",
       "| four  | diamonds |  4 | 36 |\n",
       "| three | diamonds |  3 | 37 |\n",
       "| two   | diamonds |  2 | 38 |\n",
       "| ace   | diamonds |  1 | 39 |\n",
       "| king  | hearts   | 13 | 40 |\n",
       "| queen | hearts   | 12 | 41 |\n",
       "| jack  | hearts   | 11 | 42 |\n",
       "| ten   | hearts   | 10 | 43 |\n",
       "| nine  | hearts   |  9 | 44 |\n",
       "| eight | hearts   |  8 | 45 |\n",
       "| seven | hearts   |  7 | 46 |\n",
       "| six   | hearts   |  6 | 47 |\n",
       "| five  | hearts   |  5 | 48 |\n",
       "| four  | hearts   |  4 | 49 |\n",
       "| three | hearts   |  3 | 50 |\n",
       "| two   | hearts   |  2 | 51 |\n",
       "| ace   | hearts   |  1 | 52 |\n",
       "\n"
      ],
      "text/plain": [
       "   face  suit     value new\n",
       "1  king  spades   13     1 \n",
       "2  queen spades   12     2 \n",
       "3  jack  spades   11     3 \n",
       "4  ten   spades   10     4 \n",
       "5  nine  spades    9     5 \n",
       "6  eight spades    8     6 \n",
       "7  seven spades    7     7 \n",
       "8  six   spades    6     8 \n",
       "9  five  spades    5     9 \n",
       "10 four  spades    4    10 \n",
       "11 three spades    3    11 \n",
       "12 two   spades    2    12 \n",
       "13 ace   spades    1    13 \n",
       "14 king  clubs    13    14 \n",
       "15 queen clubs    12    15 \n",
       "16 jack  clubs    11    16 \n",
       "17 ten   clubs    10    17 \n",
       "18 nine  clubs     9    18 \n",
       "19 eight clubs     8    19 \n",
       "20 seven clubs     7    20 \n",
       "21 six   clubs     6    21 \n",
       "22 five  clubs     5    22 \n",
       "23 four  clubs     4    23 \n",
       "24 three clubs     3    24 \n",
       "25 two   clubs     2    25 \n",
       "26 ace   clubs     1    26 \n",
       "27 king  diamonds 13    27 \n",
       "28 queen diamonds 12    28 \n",
       "29 jack  diamonds 11    29 \n",
       "30 ten   diamonds 10    30 \n",
       "31 nine  diamonds  9    31 \n",
       "32 eight diamonds  8    32 \n",
       "33 seven diamonds  7    33 \n",
       "34 six   diamonds  6    34 \n",
       "35 five  diamonds  5    35 \n",
       "36 four  diamonds  4    36 \n",
       "37 three diamonds  3    37 \n",
       "38 two   diamonds  2    38 \n",
       "39 ace   diamonds  1    39 \n",
       "40 king  hearts   13    40 \n",
       "41 queen hearts   12    41 \n",
       "42 jack  hearts   11    42 \n",
       "43 ten   hearts   10    43 \n",
       "44 nine  hearts    9    44 \n",
       "45 eight hearts    8    45 \n",
       "46 seven hearts    7    46 \n",
       "47 six   hearts    6    47 \n",
       "48 five  hearts    5    48 \n",
       "49 four  hearts    4    49 \n",
       "50 three hearts    3    50 \n",
       "51 two   hearts    2    51 \n",
       "52 ace   hearts    1    52 "
      ]
     },
     "metadata": {},
     "output_type": "display_data"
    }
   ],
   "source": [
    "deck$new <-1:52\n",
    "\n",
    "deck"
   ]
  },
  {
   "cell_type": "code",
   "execution_count": 10,
   "metadata": {},
   "outputs": [
    {
     "name": "stderr",
     "output_type": "stream",
     "text": [
      "Your code contains a unicode char which cannot be displayed in your\n",
      "current locale and R will silently convert it to an escaped form when the\n",
      "R kernel executes this code. This can lead to subtle errors if you use\n",
      "such chars to do comparisons. For more information, please see\n",
      "https://github.com/IRkernel/repr/wiki/Problems-with-unicode-on-windows"
     ]
    },
    {
     "data": {
      "text/html": [
       "<table>\n",
       "<caption>A data.frame: 52 × 4</caption>\n",
       "<thead>\n",
       "\t<tr><th scope=col>face</th><th scope=col>suit</th><th scope=col>value</th><th scope=col>new</th></tr>\n",
       "\t<tr><th scope=col>&lt;fct&gt;</th><th scope=col>&lt;fct&gt;</th><th scope=col>&lt;dbl&gt;</th><th scope=col>&lt;int&gt;</th></tr>\n",
       "</thead>\n",
       "<tbody>\n",
       "\t<tr><td>king </td><td>spades  </td><td>13</td><td> 1</td></tr>\n",
       "\t<tr><td>queen</td><td>spades  </td><td>12</td><td> 2</td></tr>\n",
       "\t<tr><td>jack </td><td>spades  </td><td>11</td><td> 3</td></tr>\n",
       "\t<tr><td>ten  </td><td>spades  </td><td>10</td><td> 4</td></tr>\n",
       "\t<tr><td>nine </td><td>spades  </td><td> 9</td><td> 5</td></tr>\n",
       "\t<tr><td>eight</td><td>spades  </td><td> 8</td><td> 6</td></tr>\n",
       "\t<tr><td>seven</td><td>spades  </td><td> 7</td><td> 7</td></tr>\n",
       "\t<tr><td>six  </td><td>spades  </td><td> 6</td><td> 8</td></tr>\n",
       "\t<tr><td>five </td><td>spades  </td><td> 5</td><td> 9</td></tr>\n",
       "\t<tr><td>four </td><td>spades  </td><td> 4</td><td>10</td></tr>\n",
       "\t<tr><td>three</td><td>spades  </td><td> 3</td><td>11</td></tr>\n",
       "\t<tr><td>two  </td><td>spades  </td><td> 2</td><td>12</td></tr>\n",
       "\t<tr><td>ace  </td><td>spades  </td><td> 1</td><td>13</td></tr>\n",
       "\t<tr><td>king </td><td>clubs   </td><td>13</td><td>14</td></tr>\n",
       "\t<tr><td>queen</td><td>clubs   </td><td>12</td><td>15</td></tr>\n",
       "\t<tr><td>jack </td><td>clubs   </td><td>11</td><td>16</td></tr>\n",
       "\t<tr><td>ten  </td><td>clubs   </td><td>10</td><td>17</td></tr>\n",
       "\t<tr><td>nine </td><td>clubs   </td><td> 9</td><td>18</td></tr>\n",
       "\t<tr><td>eight</td><td>clubs   </td><td> 8</td><td>19</td></tr>\n",
       "\t<tr><td>seven</td><td>clubs   </td><td> 7</td><td>20</td></tr>\n",
       "\t<tr><td>six  </td><td>clubs   </td><td> 6</td><td>21</td></tr>\n",
       "\t<tr><td>five </td><td>clubs   </td><td> 5</td><td>22</td></tr>\n",
       "\t<tr><td>four </td><td>clubs   </td><td> 4</td><td>23</td></tr>\n",
       "\t<tr><td>three</td><td>clubs   </td><td> 3</td><td>24</td></tr>\n",
       "\t<tr><td>two  </td><td>clubs   </td><td> 2</td><td>25</td></tr>\n",
       "\t<tr><td>ace  </td><td>clubs   </td><td> 1</td><td>26</td></tr>\n",
       "\t<tr><td>king </td><td>diamonds</td><td>13</td><td>27</td></tr>\n",
       "\t<tr><td>queen</td><td>diamonds</td><td>12</td><td>28</td></tr>\n",
       "\t<tr><td>jack </td><td>diamonds</td><td>11</td><td>29</td></tr>\n",
       "\t<tr><td>ten  </td><td>diamonds</td><td>10</td><td>30</td></tr>\n",
       "\t<tr><td>nine </td><td>diamonds</td><td> 9</td><td>31</td></tr>\n",
       "\t<tr><td>eight</td><td>diamonds</td><td> 8</td><td>32</td></tr>\n",
       "\t<tr><td>seven</td><td>diamonds</td><td> 7</td><td>33</td></tr>\n",
       "\t<tr><td>six  </td><td>diamonds</td><td> 6</td><td>34</td></tr>\n",
       "\t<tr><td>five </td><td>diamonds</td><td> 5</td><td>35</td></tr>\n",
       "\t<tr><td>four </td><td>diamonds</td><td> 4</td><td>36</td></tr>\n",
       "\t<tr><td>three</td><td>diamonds</td><td> 3</td><td>37</td></tr>\n",
       "\t<tr><td>two  </td><td>diamonds</td><td> 2</td><td>38</td></tr>\n",
       "\t<tr><td>ace  </td><td>diamonds</td><td> 1</td><td>39</td></tr>\n",
       "\t<tr><td>king </td><td>hearts  </td><td>13</td><td>40</td></tr>\n",
       "\t<tr><td>queen</td><td>hearts  </td><td>12</td><td>41</td></tr>\n",
       "\t<tr><td>jack </td><td>hearts  </td><td>11</td><td>42</td></tr>\n",
       "\t<tr><td>ten  </td><td>hearts  </td><td>10</td><td>43</td></tr>\n",
       "\t<tr><td>nine </td><td>hearts  </td><td> 9</td><td>44</td></tr>\n",
       "\t<tr><td>eight</td><td>hearts  </td><td> 8</td><td>45</td></tr>\n",
       "\t<tr><td>seven</td><td>hearts  </td><td> 7</td><td>46</td></tr>\n",
       "\t<tr><td>six  </td><td>hearts  </td><td> 6</td><td>47</td></tr>\n",
       "\t<tr><td>five </td><td>hearts  </td><td> 5</td><td>48</td></tr>\n",
       "\t<tr><td>four </td><td>hearts  </td><td> 4</td><td>49</td></tr>\n",
       "\t<tr><td>three</td><td>hearts  </td><td> 3</td><td>50</td></tr>\n",
       "\t<tr><td>two  </td><td>hearts  </td><td> 2</td><td>51</td></tr>\n",
       "\t<tr><td>ace  </td><td>hearts  </td><td> 1</td><td>52</td></tr>\n",
       "</tbody>\n",
       "</table>\n"
      ],
      "text/latex": [
       "A data.frame: 52 × 4\n",
       "\\begin{tabular}{r|llll}\n",
       " face & suit & value & new\\\\\n",
       " <fct> & <fct> & <dbl> & <int>\\\\\n",
       "\\hline\n",
       "\t king  & spades   & 13 &  1\\\\\n",
       "\t queen & spades   & 12 &  2\\\\\n",
       "\t jack  & spades   & 11 &  3\\\\\n",
       "\t ten   & spades   & 10 &  4\\\\\n",
       "\t nine  & spades   &  9 &  5\\\\\n",
       "\t eight & spades   &  8 &  6\\\\\n",
       "\t seven & spades   &  7 &  7\\\\\n",
       "\t six   & spades   &  6 &  8\\\\\n",
       "\t five  & spades   &  5 &  9\\\\\n",
       "\t four  & spades   &  4 & 10\\\\\n",
       "\t three & spades   &  3 & 11\\\\\n",
       "\t two   & spades   &  2 & 12\\\\\n",
       "\t ace   & spades   &  1 & 13\\\\\n",
       "\t king  & clubs    & 13 & 14\\\\\n",
       "\t queen & clubs    & 12 & 15\\\\\n",
       "\t jack  & clubs    & 11 & 16\\\\\n",
       "\t ten   & clubs    & 10 & 17\\\\\n",
       "\t nine  & clubs    &  9 & 18\\\\\n",
       "\t eight & clubs    &  8 & 19\\\\\n",
       "\t seven & clubs    &  7 & 20\\\\\n",
       "\t six   & clubs    &  6 & 21\\\\\n",
       "\t five  & clubs    &  5 & 22\\\\\n",
       "\t four  & clubs    &  4 & 23\\\\\n",
       "\t three & clubs    &  3 & 24\\\\\n",
       "\t two   & clubs    &  2 & 25\\\\\n",
       "\t ace   & clubs    &  1 & 26\\\\\n",
       "\t king  & diamonds & 13 & 27\\\\\n",
       "\t queen & diamonds & 12 & 28\\\\\n",
       "\t jack  & diamonds & 11 & 29\\\\\n",
       "\t ten   & diamonds & 10 & 30\\\\\n",
       "\t nine  & diamonds &  9 & 31\\\\\n",
       "\t eight & diamonds &  8 & 32\\\\\n",
       "\t seven & diamonds &  7 & 33\\\\\n",
       "\t six   & diamonds &  6 & 34\\\\\n",
       "\t five  & diamonds &  5 & 35\\\\\n",
       "\t four  & diamonds &  4 & 36\\\\\n",
       "\t three & diamonds &  3 & 37\\\\\n",
       "\t two   & diamonds &  2 & 38\\\\\n",
       "\t ace   & diamonds &  1 & 39\\\\\n",
       "\t king  & hearts   & 13 & 40\\\\\n",
       "\t queen & hearts   & 12 & 41\\\\\n",
       "\t jack  & hearts   & 11 & 42\\\\\n",
       "\t ten   & hearts   & 10 & 43\\\\\n",
       "\t nine  & hearts   &  9 & 44\\\\\n",
       "\t eight & hearts   &  8 & 45\\\\\n",
       "\t seven & hearts   &  7 & 46\\\\\n",
       "\t six   & hearts   &  6 & 47\\\\\n",
       "\t five  & hearts   &  5 & 48\\\\\n",
       "\t four  & hearts   &  4 & 49\\\\\n",
       "\t three & hearts   &  3 & 50\\\\\n",
       "\t two   & hearts   &  2 & 51\\\\\n",
       "\t ace   & hearts   &  1 & 52\\\\\n",
       "\\end{tabular}\n"
      ],
      "text/markdown": [
       "\n",
       "A data.frame: 52 × 4\n",
       "\n",
       "| face &lt;fct&gt; | suit &lt;fct&gt; | value &lt;dbl&gt; | new &lt;int&gt; |\n",
       "|---|---|---|---|\n",
       "| king  | spades   | 13 |  1 |\n",
       "| queen | spades   | 12 |  2 |\n",
       "| jack  | spades   | 11 |  3 |\n",
       "| ten   | spades   | 10 |  4 |\n",
       "| nine  | spades   |  9 |  5 |\n",
       "| eight | spades   |  8 |  6 |\n",
       "| seven | spades   |  7 |  7 |\n",
       "| six   | spades   |  6 |  8 |\n",
       "| five  | spades   |  5 |  9 |\n",
       "| four  | spades   |  4 | 10 |\n",
       "| three | spades   |  3 | 11 |\n",
       "| two   | spades   |  2 | 12 |\n",
       "| ace   | spades   |  1 | 13 |\n",
       "| king  | clubs    | 13 | 14 |\n",
       "| queen | clubs    | 12 | 15 |\n",
       "| jack  | clubs    | 11 | 16 |\n",
       "| ten   | clubs    | 10 | 17 |\n",
       "| nine  | clubs    |  9 | 18 |\n",
       "| eight | clubs    |  8 | 19 |\n",
       "| seven | clubs    |  7 | 20 |\n",
       "| six   | clubs    |  6 | 21 |\n",
       "| five  | clubs    |  5 | 22 |\n",
       "| four  | clubs    |  4 | 23 |\n",
       "| three | clubs    |  3 | 24 |\n",
       "| two   | clubs    |  2 | 25 |\n",
       "| ace   | clubs    |  1 | 26 |\n",
       "| king  | diamonds | 13 | 27 |\n",
       "| queen | diamonds | 12 | 28 |\n",
       "| jack  | diamonds | 11 | 29 |\n",
       "| ten   | diamonds | 10 | 30 |\n",
       "| nine  | diamonds |  9 | 31 |\n",
       "| eight | diamonds |  8 | 32 |\n",
       "| seven | diamonds |  7 | 33 |\n",
       "| six   | diamonds |  6 | 34 |\n",
       "| five  | diamonds |  5 | 35 |\n",
       "| four  | diamonds |  4 | 36 |\n",
       "| three | diamonds |  3 | 37 |\n",
       "| two   | diamonds |  2 | 38 |\n",
       "| ace   | diamonds |  1 | 39 |\n",
       "| king  | hearts   | 13 | 40 |\n",
       "| queen | hearts   | 12 | 41 |\n",
       "| jack  | hearts   | 11 | 42 |\n",
       "| ten   | hearts   | 10 | 43 |\n",
       "| nine  | hearts   |  9 | 44 |\n",
       "| eight | hearts   |  8 | 45 |\n",
       "| seven | hearts   |  7 | 46 |\n",
       "| six   | hearts   |  6 | 47 |\n",
       "| five  | hearts   |  5 | 48 |\n",
       "| four  | hearts   |  4 | 49 |\n",
       "| three | hearts   |  3 | 50 |\n",
       "| two   | hearts   |  2 | 51 |\n",
       "| ace   | hearts   |  1 | 52 |\n",
       "\n"
      ],
      "text/plain": [
       "   face  suit     value new\n",
       "1  king  spades   13     1 \n",
       "2  queen spades   12     2 \n",
       "3  jack  spades   11     3 \n",
       "4  ten   spades   10     4 \n",
       "5  nine  spades    9     5 \n",
       "6  eight spades    8     6 \n",
       "7  seven spades    7     7 \n",
       "8  six   spades    6     8 \n",
       "9  five  spades    5     9 \n",
       "10 four  spades    4    10 \n",
       "11 three spades    3    11 \n",
       "12 two   spades    2    12 \n",
       "13 ace   spades    1    13 \n",
       "14 king  clubs    13    14 \n",
       "15 queen clubs    12    15 \n",
       "16 jack  clubs    11    16 \n",
       "17 ten   clubs    10    17 \n",
       "18 nine  clubs     9    18 \n",
       "19 eight clubs     8    19 \n",
       "20 seven clubs     7    20 \n",
       "21 six   clubs     6    21 \n",
       "22 five  clubs     5    22 \n",
       "23 four  clubs     4    23 \n",
       "24 three clubs     3    24 \n",
       "25 two   clubs     2    25 \n",
       "26 ace   clubs     1    26 \n",
       "27 king  diamonds 13    27 \n",
       "28 queen diamonds 12    28 \n",
       "29 jack  diamonds 11    29 \n",
       "30 ten   diamonds 10    30 \n",
       "31 nine  diamonds  9    31 \n",
       "32 eight diamonds  8    32 \n",
       "33 seven diamonds  7    33 \n",
       "34 six   diamonds  6    34 \n",
       "35 five  diamonds  5    35 \n",
       "36 four  diamonds  4    36 \n",
       "37 three diamonds  3    37 \n",
       "38 two   diamonds  2    38 \n",
       "39 ace   diamonds  1    39 \n",
       "40 king  hearts   13    40 \n",
       "41 queen hearts   12    41 \n",
       "42 jack  hearts   11    42 \n",
       "43 ten   hearts   10    43 \n",
       "44 nine  hearts    9    44 \n",
       "45 eight hearts    8    45 \n",
       "46 seven hearts    7    46 \n",
       "47 six   hearts    6    47 \n",
       "48 five  hearts    5    48 \n",
       "49 four  hearts    4    49 \n",
       "50 three hearts    3    50 \n",
       "51 two   hearts    2    51 \n",
       "52 ace   hearts    1    52 "
      ]
     },
     "metadata": {},
     "output_type": "display_data"
    }
   ],
   "source": [
    "# 将某个变量从数据框中删除 \n",
    "\n",
    "deck"
   ]
  },
  {
   "cell_type": "code",
   "execution_count": 13,
   "metadata": {},
   "outputs": [
    {
     "data": {
      "text/html": [
       "<table>\n",
       "<caption>A data.frame: 6 × 3</caption>\n",
       "<thead>\n",
       "\t<tr><th scope=col>face</th><th scope=col>suit</th><th scope=col>value</th></tr>\n",
       "\t<tr><th scope=col>&lt;fct&gt;</th><th scope=col>&lt;fct&gt;</th><th scope=col>&lt;dbl&gt;</th></tr>\n",
       "</thead>\n",
       "<tbody>\n",
       "\t<tr><td>king </td><td>spades</td><td>13</td></tr>\n",
       "\t<tr><td>queen</td><td>spades</td><td>12</td></tr>\n",
       "\t<tr><td>jack </td><td>spades</td><td>11</td></tr>\n",
       "\t<tr><td>ten  </td><td>spades</td><td>10</td></tr>\n",
       "\t<tr><td>nine </td><td>spades</td><td> 9</td></tr>\n",
       "\t<tr><td>eight</td><td>spades</td><td> 8</td></tr>\n",
       "</tbody>\n",
       "</table>\n"
      ],
      "text/latex": [
       "A data.frame: 6 × 3\n",
       "\\begin{tabular}{r|lll}\n",
       " face & suit & value\\\\\n",
       " <fct> & <fct> & <dbl>\\\\\n",
       "\\hline\n",
       "\t king  & spades & 13\\\\\n",
       "\t queen & spades & 12\\\\\n",
       "\t jack  & spades & 11\\\\\n",
       "\t ten   & spades & 10\\\\\n",
       "\t nine  & spades &  9\\\\\n",
       "\t eight & spades &  8\\\\\n",
       "\\end{tabular}\n"
      ],
      "text/markdown": [
       "\n",
       "A data.frame: 6 × 3\n",
       "\n",
       "| face &lt;fct&gt; | suit &lt;fct&gt; | value &lt;dbl&gt; |\n",
       "|---|---|---|\n",
       "| king  | spades | 13 |\n",
       "| queen | spades | 12 |\n",
       "| jack  | spades | 11 |\n",
       "| ten   | spades | 10 |\n",
       "| nine  | spades |  9 |\n",
       "| eight | spades |  8 |\n",
       "\n"
      ],
      "text/plain": [
       "  face  suit   value\n",
       "1 king  spades 13   \n",
       "2 queen spades 12   \n",
       "3 jack  spades 11   \n",
       "4 ten   spades 10   \n",
       "5 nine  spades  9   \n",
       "6 eight spades  8   "
      ]
     },
     "metadata": {},
     "output_type": "display_data"
    }
   ],
   "source": [
    "deck$new <- NULL\n",
    "\n",
    "head(deck)"
   ]
  },
  {
   "cell_type": "code",
   "execution_count": 14,
   "metadata": {},
   "outputs": [
    {
     "name": "stderr",
     "output_type": "stream",
     "text": [
      "Your code contains a unicode char which cannot be displayed in your\n",
      "current locale and R will silently convert it to an escaped form when the\n",
      "R kernel executes this code. This can lead to subtle errors if you use\n",
      "such chars to do comparisons. For more information, please see\n",
      "https://github.com/IRkernel/repr/wiki/Problems-with-unicode-on-windows"
     ]
    },
    {
     "data": {
      "text/html": [
       "<ol class=list-inline>\n",
       "\t<li>1</li>\n",
       "\t<li>1</li>\n",
       "\t<li>1</li>\n",
       "\t<li>1</li>\n",
       "</ol>\n"
      ],
      "text/latex": [
       "\\begin{enumerate*}\n",
       "\\item 1\n",
       "\\item 1\n",
       "\\item 1\n",
       "\\item 1\n",
       "\\end{enumerate*}\n"
      ],
      "text/markdown": [
       "1. 1\n",
       "2. 1\n",
       "3. 1\n",
       "4. 1\n",
       "\n",
       "\n"
      ],
      "text/plain": [
       "[1] 1 1 1 1"
      ]
     },
     "metadata": {},
     "output_type": "display_data"
    },
    {
     "data": {
      "text/html": [
       "<ol class=list-inline>\n",
       "\t<li>1</li>\n",
       "\t<li>1</li>\n",
       "\t<li>1</li>\n",
       "\t<li>1</li>\n",
       "</ol>\n"
      ],
      "text/latex": [
       "\\begin{enumerate*}\n",
       "\\item 1\n",
       "\\item 1\n",
       "\\item 1\n",
       "\\item 1\n",
       "\\end{enumerate*}\n"
      ],
      "text/markdown": [
       "1. 1\n",
       "2. 1\n",
       "3. 1\n",
       "4. 1\n",
       "\n",
       "\n"
      ],
      "text/plain": [
       "[1] 1 1 1 1"
      ]
     },
     "metadata": {},
     "output_type": "display_data"
    }
   ],
   "source": [
    "# 等价方式\n",
    "\n",
    "deck[c(13,26,39, 52), 3]\n",
    "\n",
    "deck$value[c(13,26,39, 52)]"
   ]
  },
  {
   "cell_type": "code",
   "execution_count": 16,
   "metadata": {},
   "outputs": [],
   "source": [
    "deck$value[c(13,26,39, 52)]<-c(14,14,14,14)\n",
    "\n",
    "deck$value[c(13,26,39, 52)]<-14"
   ]
  },
  {
   "cell_type": "code",
   "execution_count": null,
   "metadata": {},
   "outputs": [],
   "source": []
  },
  {
   "cell_type": "markdown",
   "metadata": {},
   "source": [
    "## 5.2 逻辑值取子集"
   ]
  },
  {
   "cell_type": "code",
   "execution_count": 19,
   "metadata": {},
   "outputs": [
    {
     "data": {
      "text/html": [
       "<ol class=list-inline>\n",
       "\t<li>1</li>\n",
       "\t<li>0</li>\n",
       "\t<li>1</li>\n",
       "\t<li>1</li>\n",
       "\t<li>2</li>\n",
       "\t<li>1</li>\n",
       "\t<li>100</li>\n",
       "</ol>\n"
      ],
      "text/latex": [
       "\\begin{enumerate*}\n",
       "\\item 1\n",
       "\\item 0\n",
       "\\item 1\n",
       "\\item 1\n",
       "\\item 2\n",
       "\\item 1\n",
       "\\item 100\n",
       "\\end{enumerate*}\n"
      ],
      "text/markdown": [
       "1. 1\n",
       "2. 0\n",
       "3. 1\n",
       "4. 1\n",
       "5. 2\n",
       "6. 1\n",
       "7. 100\n",
       "\n",
       "\n"
      ],
      "text/plain": [
       "[1]   1   0   1   1   2   1 100"
      ]
     },
     "metadata": {},
     "output_type": "display_data"
    }
   ],
   "source": [
    "vec"
   ]
  },
  {
   "cell_type": "code",
   "execution_count": 20,
   "metadata": {},
   "outputs": [
    {
     "data": {
      "text/html": [
       "2"
      ],
      "text/latex": [
       "2"
      ],
      "text/markdown": [
       "2"
      ],
      "text/plain": [
       "[1] 2"
      ]
     },
     "metadata": {},
     "output_type": "display_data"
    }
   ],
   "source": [
    "vec[c(FALSE,FALSE,FALSE,FALSE,TRUE,FALSE,FALSE)]"
   ]
  },
  {
   "cell_type": "code",
   "execution_count": null,
   "metadata": {},
   "outputs": [],
   "source": []
  },
  {
   "cell_type": "markdown",
   "metadata": {},
   "source": [
    "### 5.2.1 逻辑测试 "
   ]
  },
  {
   "cell_type": "code",
   "execution_count": 21,
   "metadata": {},
   "outputs": [
    {
     "data": {
      "text/html": [
       "FALSE"
      ],
      "text/latex": [
       "FALSE"
      ],
      "text/markdown": [
       "FALSE"
      ],
      "text/plain": [
       "[1] FALSE"
      ]
     },
     "metadata": {},
     "output_type": "display_data"
    }
   ],
   "source": [
    "1>2"
   ]
  },
  {
   "cell_type": "code",
   "execution_count": 22,
   "metadata": {},
   "outputs": [
    {
     "data": {
      "text/html": [
       "<ol class=list-inline>\n",
       "\t<li>TRUE</li>\n",
       "\t<li>FALSE</li>\n",
       "\t<li>FALSE</li>\n",
       "</ol>\n"
      ],
      "text/latex": [
       "\\begin{enumerate*}\n",
       "\\item TRUE\n",
       "\\item FALSE\n",
       "\\item FALSE\n",
       "\\end{enumerate*}\n"
      ],
      "text/markdown": [
       "1. TRUE\n",
       "2. FALSE\n",
       "3. FALSE\n",
       "\n",
       "\n"
      ],
      "text/plain": [
       "[1]  TRUE FALSE FALSE"
      ]
     },
     "metadata": {},
     "output_type": "display_data"
    }
   ],
   "source": [
    "1> c(0,1,2)"
   ]
  },
  {
   "cell_type": "code",
   "execution_count": 23,
   "metadata": {},
   "outputs": [
    {
     "data": {
      "text/html": [
       "<ol class=list-inline>\n",
       "\t<li>FALSE</li>\n",
       "\t<li>TRUE</li>\n",
       "\t<li>FALSE</li>\n",
       "</ol>\n"
      ],
      "text/latex": [
       "\\begin{enumerate*}\n",
       "\\item FALSE\n",
       "\\item TRUE\n",
       "\\item FALSE\n",
       "\\end{enumerate*}\n"
      ],
      "text/markdown": [
       "1. FALSE\n",
       "2. TRUE\n",
       "3. FALSE\n",
       "\n",
       "\n"
      ],
      "text/plain": [
       "[1] FALSE  TRUE FALSE"
      ]
     },
     "metadata": {},
     "output_type": "display_data"
    }
   ],
   "source": [
    "c(1,2,3) == c(3,2,1)"
   ]
  },
  {
   "cell_type": "markdown",
   "metadata": {},
   "source": [
    "### %in% 是唯一不进行 一一对比的运算符    %in% 的作用是测试左边的值是否出现在右边 "
   ]
  },
  {
   "cell_type": "code",
   "execution_count": 24,
   "metadata": {},
   "outputs": [
    {
     "data": {
      "text/html": [
       "FALSE"
      ],
      "text/latex": [
       "FALSE"
      ],
      "text/markdown": [
       "FALSE"
      ],
      "text/plain": [
       "[1] FALSE"
      ]
     },
     "metadata": {},
     "output_type": "display_data"
    }
   ],
   "source": [
    "1 %in% c(3,4,5) "
   ]
  },
  {
   "cell_type": "code",
   "execution_count": 25,
   "metadata": {},
   "outputs": [
    {
     "data": {
      "text/html": [
       "<ol class=list-inline>\n",
       "\t<li>FALSE</li>\n",
       "\t<li>FALSE</li>\n",
       "</ol>\n"
      ],
      "text/latex": [
       "\\begin{enumerate*}\n",
       "\\item FALSE\n",
       "\\item FALSE\n",
       "\\end{enumerate*}\n"
      ],
      "text/markdown": [
       "1. FALSE\n",
       "2. FALSE\n",
       "\n",
       "\n"
      ],
      "text/plain": [
       "[1] FALSE FALSE"
      ]
     },
     "metadata": {},
     "output_type": "display_data"
    }
   ],
   "source": [
    "c(1,2) %in% c(3,4,5)"
   ]
  },
  {
   "cell_type": "code",
   "execution_count": 27,
   "metadata": {},
   "outputs": [
    {
     "data": {
      "text/html": [
       "<ol class=list-inline>\n",
       "\t<li>FALSE</li>\n",
       "\t<li>FALSE</li>\n",
       "\t<li>TRUE</li>\n",
       "</ol>\n"
      ],
      "text/latex": [
       "\\begin{enumerate*}\n",
       "\\item FALSE\n",
       "\\item FALSE\n",
       "\\item TRUE\n",
       "\\end{enumerate*}\n"
      ],
      "text/markdown": [
       "1. FALSE\n",
       "2. FALSE\n",
       "3. TRUE\n",
       "\n",
       "\n"
      ],
      "text/plain": [
       "[1] FALSE FALSE  TRUE"
      ]
     },
     "metadata": {},
     "output_type": "display_data"
    }
   ],
   "source": [
    "c(1,2,3) %in% c(3,4,5,6)"
   ]
  },
  {
   "cell_type": "code",
   "execution_count": 28,
   "metadata": {},
   "outputs": [
    {
     "data": {
      "text/html": [
       "<ol class=list-inline>\n",
       "\t<li>FALSE</li>\n",
       "\t<li>FALSE</li>\n",
       "\t<li>TRUE</li>\n",
       "\t<li>TRUE</li>\n",
       "</ol>\n"
      ],
      "text/latex": [
       "\\begin{enumerate*}\n",
       "\\item FALSE\n",
       "\\item FALSE\n",
       "\\item TRUE\n",
       "\\item TRUE\n",
       "\\end{enumerate*}\n"
      ],
      "text/markdown": [
       "1. FALSE\n",
       "2. FALSE\n",
       "3. TRUE\n",
       "4. TRUE\n",
       "\n",
       "\n"
      ],
      "text/plain": [
       "[1] FALSE FALSE  TRUE  TRUE"
      ]
     },
     "metadata": {},
     "output_type": "display_data"
    }
   ],
   "source": [
    "c(1,2,3,4) %in% c(3,4,5)"
   ]
  },
  {
   "cell_type": "code",
   "execution_count": 30,
   "metadata": {},
   "outputs": [
    {
     "data": {
      "text/html": [
       "<table>\n",
       "<caption>A data.frame: 6 × 3</caption>\n",
       "<thead>\n",
       "\t<tr><th scope=col>face</th><th scope=col>suit</th><th scope=col>value</th></tr>\n",
       "\t<tr><th scope=col>&lt;fct&gt;</th><th scope=col>&lt;fct&gt;</th><th scope=col>&lt;dbl&gt;</th></tr>\n",
       "</thead>\n",
       "<tbody>\n",
       "\t<tr><td>king </td><td>spades</td><td>13</td></tr>\n",
       "\t<tr><td>queen</td><td>spades</td><td>12</td></tr>\n",
       "\t<tr><td>jack </td><td>spades</td><td>11</td></tr>\n",
       "\t<tr><td>ten  </td><td>spades</td><td>10</td></tr>\n",
       "\t<tr><td>nine </td><td>spades</td><td> 9</td></tr>\n",
       "\t<tr><td>eight</td><td>spades</td><td> 8</td></tr>\n",
       "</tbody>\n",
       "</table>\n"
      ],
      "text/latex": [
       "A data.frame: 6 × 3\n",
       "\\begin{tabular}{r|lll}\n",
       " face & suit & value\\\\\n",
       " <fct> & <fct> & <dbl>\\\\\n",
       "\\hline\n",
       "\t king  & spades & 13\\\\\n",
       "\t queen & spades & 12\\\\\n",
       "\t jack  & spades & 11\\\\\n",
       "\t ten   & spades & 10\\\\\n",
       "\t nine  & spades &  9\\\\\n",
       "\t eight & spades &  8\\\\\n",
       "\\end{tabular}\n"
      ],
      "text/markdown": [
       "\n",
       "A data.frame: 6 × 3\n",
       "\n",
       "| face &lt;fct&gt; | suit &lt;fct&gt; | value &lt;dbl&gt; |\n",
       "|---|---|---|\n",
       "| king  | spades | 13 |\n",
       "| queen | spades | 12 |\n",
       "| jack  | spades | 11 |\n",
       "| ten   | spades | 10 |\n",
       "| nine  | spades |  9 |\n",
       "| eight | spades |  8 |\n",
       "\n"
      ],
      "text/plain": [
       "  face  suit   value\n",
       "1 king  spades 13   \n",
       "2 queen spades 12   \n",
       "3 jack  spades 11   \n",
       "4 ten   spades 10   \n",
       "5 nine  spades  9   \n",
       "6 eight spades  8   "
      ]
     },
     "metadata": {},
     "output_type": "display_data"
    }
   ],
   "source": [
    "head(deck)"
   ]
  },
  {
   "cell_type": "code",
   "execution_count": 31,
   "metadata": {},
   "outputs": [
    {
     "data": {
      "text/html": [
       "<ol class=list-inline>\n",
       "\t<li>'face'</li>\n",
       "\t<li>'suit'</li>\n",
       "\t<li>'value'</li>\n",
       "</ol>\n"
      ],
      "text/latex": [
       "\\begin{enumerate*}\n",
       "\\item 'face'\n",
       "\\item 'suit'\n",
       "\\item 'value'\n",
       "\\end{enumerate*}\n"
      ],
      "text/markdown": [
       "1. 'face'\n",
       "2. 'suit'\n",
       "3. 'value'\n",
       "\n",
       "\n"
      ],
      "text/plain": [
       "[1] \"face\"  \"suit\"  \"value\""
      ]
     },
     "metadata": {},
     "output_type": "display_data"
    }
   ],
   "source": [
    "names(deck)"
   ]
  },
  {
   "cell_type": "code",
   "execution_count": 32,
   "metadata": {},
   "outputs": [
    {
     "data": {
      "text/html": [
       "<ol class=list-inline>\n",
       "\t<li>FALSE</li>\n",
       "\t<li>FALSE</li>\n",
       "\t<li>FALSE</li>\n",
       "\t<li>FALSE</li>\n",
       "\t<li>FALSE</li>\n",
       "\t<li>FALSE</li>\n",
       "\t<li>FALSE</li>\n",
       "\t<li>FALSE</li>\n",
       "\t<li>FALSE</li>\n",
       "\t<li>FALSE</li>\n",
       "\t<li>FALSE</li>\n",
       "\t<li>FALSE</li>\n",
       "\t<li>TRUE</li>\n",
       "\t<li>FALSE</li>\n",
       "\t<li>FALSE</li>\n",
       "\t<li>FALSE</li>\n",
       "\t<li>FALSE</li>\n",
       "\t<li>FALSE</li>\n",
       "\t<li>FALSE</li>\n",
       "\t<li>FALSE</li>\n",
       "\t<li>FALSE</li>\n",
       "\t<li>FALSE</li>\n",
       "\t<li>FALSE</li>\n",
       "\t<li>FALSE</li>\n",
       "\t<li>FALSE</li>\n",
       "\t<li>TRUE</li>\n",
       "\t<li>FALSE</li>\n",
       "\t<li>FALSE</li>\n",
       "\t<li>FALSE</li>\n",
       "\t<li>FALSE</li>\n",
       "\t<li>FALSE</li>\n",
       "\t<li>FALSE</li>\n",
       "\t<li>FALSE</li>\n",
       "\t<li>FALSE</li>\n",
       "\t<li>FALSE</li>\n",
       "\t<li>FALSE</li>\n",
       "\t<li>FALSE</li>\n",
       "\t<li>FALSE</li>\n",
       "\t<li>TRUE</li>\n",
       "\t<li>FALSE</li>\n",
       "\t<li>FALSE</li>\n",
       "\t<li>FALSE</li>\n",
       "\t<li>FALSE</li>\n",
       "\t<li>FALSE</li>\n",
       "\t<li>FALSE</li>\n",
       "\t<li>FALSE</li>\n",
       "\t<li>FALSE</li>\n",
       "\t<li>FALSE</li>\n",
       "\t<li>FALSE</li>\n",
       "\t<li>FALSE</li>\n",
       "\t<li>FALSE</li>\n",
       "\t<li>TRUE</li>\n",
       "</ol>\n"
      ],
      "text/latex": [
       "\\begin{enumerate*}\n",
       "\\item FALSE\n",
       "\\item FALSE\n",
       "\\item FALSE\n",
       "\\item FALSE\n",
       "\\item FALSE\n",
       "\\item FALSE\n",
       "\\item FALSE\n",
       "\\item FALSE\n",
       "\\item FALSE\n",
       "\\item FALSE\n",
       "\\item FALSE\n",
       "\\item FALSE\n",
       "\\item TRUE\n",
       "\\item FALSE\n",
       "\\item FALSE\n",
       "\\item FALSE\n",
       "\\item FALSE\n",
       "\\item FALSE\n",
       "\\item FALSE\n",
       "\\item FALSE\n",
       "\\item FALSE\n",
       "\\item FALSE\n",
       "\\item FALSE\n",
       "\\item FALSE\n",
       "\\item FALSE\n",
       "\\item TRUE\n",
       "\\item FALSE\n",
       "\\item FALSE\n",
       "\\item FALSE\n",
       "\\item FALSE\n",
       "\\item FALSE\n",
       "\\item FALSE\n",
       "\\item FALSE\n",
       "\\item FALSE\n",
       "\\item FALSE\n",
       "\\item FALSE\n",
       "\\item FALSE\n",
       "\\item FALSE\n",
       "\\item TRUE\n",
       "\\item FALSE\n",
       "\\item FALSE\n",
       "\\item FALSE\n",
       "\\item FALSE\n",
       "\\item FALSE\n",
       "\\item FALSE\n",
       "\\item FALSE\n",
       "\\item FALSE\n",
       "\\item FALSE\n",
       "\\item FALSE\n",
       "\\item FALSE\n",
       "\\item FALSE\n",
       "\\item TRUE\n",
       "\\end{enumerate*}\n"
      ],
      "text/markdown": [
       "1. FALSE\n",
       "2. FALSE\n",
       "3. FALSE\n",
       "4. FALSE\n",
       "5. FALSE\n",
       "6. FALSE\n",
       "7. FALSE\n",
       "8. FALSE\n",
       "9. FALSE\n",
       "10. FALSE\n",
       "11. FALSE\n",
       "12. FALSE\n",
       "13. TRUE\n",
       "14. FALSE\n",
       "15. FALSE\n",
       "16. FALSE\n",
       "17. FALSE\n",
       "18. FALSE\n",
       "19. FALSE\n",
       "20. FALSE\n",
       "21. FALSE\n",
       "22. FALSE\n",
       "23. FALSE\n",
       "24. FALSE\n",
       "25. FALSE\n",
       "26. TRUE\n",
       "27. FALSE\n",
       "28. FALSE\n",
       "29. FALSE\n",
       "30. FALSE\n",
       "31. FALSE\n",
       "32. FALSE\n",
       "33. FALSE\n",
       "34. FALSE\n",
       "35. FALSE\n",
       "36. FALSE\n",
       "37. FALSE\n",
       "38. FALSE\n",
       "39. TRUE\n",
       "40. FALSE\n",
       "41. FALSE\n",
       "42. FALSE\n",
       "43. FALSE\n",
       "44. FALSE\n",
       "45. FALSE\n",
       "46. FALSE\n",
       "47. FALSE\n",
       "48. FALSE\n",
       "49. FALSE\n",
       "50. FALSE\n",
       "51. FALSE\n",
       "52. TRUE\n",
       "\n",
       "\n"
      ],
      "text/plain": [
       " [1] FALSE FALSE FALSE FALSE FALSE FALSE FALSE FALSE FALSE FALSE FALSE FALSE\n",
       "[13]  TRUE FALSE FALSE FALSE FALSE FALSE FALSE FALSE FALSE FALSE FALSE FALSE\n",
       "[25] FALSE  TRUE FALSE FALSE FALSE FALSE FALSE FALSE FALSE FALSE FALSE FALSE\n",
       "[37] FALSE FALSE  TRUE FALSE FALSE FALSE FALSE FALSE FALSE FALSE FALSE FALSE\n",
       "[49] FALSE FALSE FALSE  TRUE"
      ]
     },
     "metadata": {},
     "output_type": "display_data"
    }
   ],
   "source": [
    "deck$face =='ace'"
   ]
  },
  {
   "cell_type": "code",
   "execution_count": 33,
   "metadata": {},
   "outputs": [
    {
     "data": {
      "text/html": [
       "4"
      ],
      "text/latex": [
       "4"
      ],
      "text/markdown": [
       "4"
      ],
      "text/plain": [
       "[1] 4"
      ]
     },
     "metadata": {},
     "output_type": "display_data"
    }
   ],
   "source": [
    "sum(deck$face=='ace')"
   ]
  },
  {
   "cell_type": "code",
   "execution_count": 34,
   "metadata": {},
   "outputs": [
    {
     "data": {
      "text/html": [
       "<ol class=list-inline>\n",
       "\t<li>14</li>\n",
       "\t<li>14</li>\n",
       "\t<li>14</li>\n",
       "\t<li>14</li>\n",
       "</ol>\n"
      ],
      "text/latex": [
       "\\begin{enumerate*}\n",
       "\\item 14\n",
       "\\item 14\n",
       "\\item 14\n",
       "\\item 14\n",
       "\\end{enumerate*}\n"
      ],
      "text/markdown": [
       "1. 14\n",
       "2. 14\n",
       "3. 14\n",
       "4. 14\n",
       "\n",
       "\n"
      ],
      "text/plain": [
       "[1] 14 14 14 14"
      ]
     },
     "metadata": {},
     "output_type": "display_data"
    }
   ],
   "source": [
    "deck$value[deck$face=='ace']"
   ]
  },
  {
   "cell_type": "code",
   "execution_count": 35,
   "metadata": {},
   "outputs": [
    {
     "data": {
      "text/html": [
       "<table>\n",
       "<caption>A data.frame: 6 × 3</caption>\n",
       "<thead>\n",
       "\t<tr><th scope=col>face</th><th scope=col>suit</th><th scope=col>value</th></tr>\n",
       "\t<tr><th scope=col>&lt;fct&gt;</th><th scope=col>&lt;fct&gt;</th><th scope=col>&lt;dbl&gt;</th></tr>\n",
       "</thead>\n",
       "<tbody>\n",
       "\t<tr><td>king </td><td>spades</td><td>0</td></tr>\n",
       "\t<tr><td>queen</td><td>spades</td><td>0</td></tr>\n",
       "\t<tr><td>jack </td><td>spades</td><td>0</td></tr>\n",
       "\t<tr><td>ten  </td><td>spades</td><td>0</td></tr>\n",
       "\t<tr><td>nine </td><td>spades</td><td>0</td></tr>\n",
       "\t<tr><td>eight</td><td>spades</td><td>0</td></tr>\n",
       "</tbody>\n",
       "</table>\n"
      ],
      "text/latex": [
       "A data.frame: 6 × 3\n",
       "\\begin{tabular}{r|lll}\n",
       " face & suit & value\\\\\n",
       " <fct> & <fct> & <dbl>\\\\\n",
       "\\hline\n",
       "\t king  & spades & 0\\\\\n",
       "\t queen & spades & 0\\\\\n",
       "\t jack  & spades & 0\\\\\n",
       "\t ten   & spades & 0\\\\\n",
       "\t nine  & spades & 0\\\\\n",
       "\t eight & spades & 0\\\\\n",
       "\\end{tabular}\n"
      ],
      "text/markdown": [
       "\n",
       "A data.frame: 6 × 3\n",
       "\n",
       "| face &lt;fct&gt; | suit &lt;fct&gt; | value &lt;dbl&gt; |\n",
       "|---|---|---|\n",
       "| king  | spades | 0 |\n",
       "| queen | spades | 0 |\n",
       "| jack  | spades | 0 |\n",
       "| ten   | spades | 0 |\n",
       "| nine  | spades | 0 |\n",
       "| eight | spades | 0 |\n",
       "\n"
      ],
      "text/plain": [
       "  face  suit   value\n",
       "1 king  spades 0    \n",
       "2 queen spades 0    \n",
       "3 jack  spades 0    \n",
       "4 ten   spades 0    \n",
       "5 nine  spades 0    \n",
       "6 eight spades 0    "
      ]
     },
     "metadata": {},
     "output_type": "display_data"
    }
   ],
   "source": [
    "deck2<- deck \n",
    "\n",
    "deck2$value<-0 \n",
    "\n",
    "head(deck2)"
   ]
  },
  {
   "cell_type": "code",
   "execution_count": null,
   "metadata": {},
   "outputs": [],
   "source": []
  },
  {
   "cell_type": "code",
   "execution_count": 36,
   "metadata": {},
   "outputs": [
    {
     "data": {
      "text/html": [
       "<ol class=list-inline>\n",
       "\t<li>13</li>\n",
       "\t<li>12</li>\n",
       "\t<li>11</li>\n",
       "\t<li>10</li>\n",
       "\t<li>9</li>\n",
       "\t<li>8</li>\n",
       "\t<li>7</li>\n",
       "\t<li>6</li>\n",
       "\t<li>5</li>\n",
       "\t<li>4</li>\n",
       "\t<li>3</li>\n",
       "\t<li>2</li>\n",
       "\t<li>14</li>\n",
       "</ol>\n"
      ],
      "text/latex": [
       "\\begin{enumerate*}\n",
       "\\item 13\n",
       "\\item 12\n",
       "\\item 11\n",
       "\\item 10\n",
       "\\item 9\n",
       "\\item 8\n",
       "\\item 7\n",
       "\\item 6\n",
       "\\item 5\n",
       "\\item 4\n",
       "\\item 3\n",
       "\\item 2\n",
       "\\item 14\n",
       "\\end{enumerate*}\n"
      ],
      "text/markdown": [
       "1. 13\n",
       "2. 12\n",
       "3. 11\n",
       "4. 10\n",
       "5. 9\n",
       "6. 8\n",
       "7. 7\n",
       "8. 6\n",
       "9. 5\n",
       "10. 4\n",
       "11. 3\n",
       "12. 2\n",
       "13. 14\n",
       "\n",
       "\n"
      ],
      "text/plain": [
       " [1] 13 12 11 10  9  8  7  6  5  4  3  2 14"
      ]
     },
     "metadata": {},
     "output_type": "display_data"
    }
   ],
   "source": [
    "deck$value[deck$suit==\"hearts\"]"
   ]
  },
  {
   "cell_type": "code",
   "execution_count": 39,
   "metadata": {},
   "outputs": [
    {
     "data": {
      "text/html": [
       "<table>\n",
       "<caption>A data.frame: 52 × 3</caption>\n",
       "<thead>\n",
       "\t<tr><th scope=col>face</th><th scope=col>suit</th><th scope=col>value</th></tr>\n",
       "\t<tr><th scope=col>&lt;fct&gt;</th><th scope=col>&lt;fct&gt;</th><th scope=col>&lt;dbl&gt;</th></tr>\n",
       "</thead>\n",
       "<tbody>\n",
       "\t<tr><td>king </td><td>spades  </td><td> 13</td></tr>\n",
       "\t<tr><td>queen</td><td>spades  </td><td> 12</td></tr>\n",
       "\t<tr><td>jack </td><td>spades  </td><td> 11</td></tr>\n",
       "\t<tr><td>ten  </td><td>spades  </td><td> 10</td></tr>\n",
       "\t<tr><td>nine </td><td>spades  </td><td>  9</td></tr>\n",
       "\t<tr><td>eight</td><td>spades  </td><td>  8</td></tr>\n",
       "\t<tr><td>seven</td><td>spades  </td><td>  7</td></tr>\n",
       "\t<tr><td>six  </td><td>spades  </td><td>  6</td></tr>\n",
       "\t<tr><td>five </td><td>spades  </td><td>  5</td></tr>\n",
       "\t<tr><td>four </td><td>spades  </td><td>  4</td></tr>\n",
       "\t<tr><td>three</td><td>spades  </td><td>  3</td></tr>\n",
       "\t<tr><td>two  </td><td>spades  </td><td>  2</td></tr>\n",
       "\t<tr><td>ace  </td><td>spades  </td><td> 14</td></tr>\n",
       "\t<tr><td>king </td><td>clubs   </td><td> 13</td></tr>\n",
       "\t<tr><td>queen</td><td>clubs   </td><td> 12</td></tr>\n",
       "\t<tr><td>jack </td><td>clubs   </td><td> 11</td></tr>\n",
       "\t<tr><td>ten  </td><td>clubs   </td><td> 10</td></tr>\n",
       "\t<tr><td>nine </td><td>clubs   </td><td>  9</td></tr>\n",
       "\t<tr><td>eight</td><td>clubs   </td><td>  8</td></tr>\n",
       "\t<tr><td>seven</td><td>clubs   </td><td>  7</td></tr>\n",
       "\t<tr><td>six  </td><td>clubs   </td><td>  6</td></tr>\n",
       "\t<tr><td>five </td><td>clubs   </td><td>  5</td></tr>\n",
       "\t<tr><td>four </td><td>clubs   </td><td>  4</td></tr>\n",
       "\t<tr><td>three</td><td>clubs   </td><td>  3</td></tr>\n",
       "\t<tr><td>two  </td><td>clubs   </td><td>  2</td></tr>\n",
       "\t<tr><td>ace  </td><td>clubs   </td><td> 14</td></tr>\n",
       "\t<tr><td>king </td><td>diamonds</td><td> 13</td></tr>\n",
       "\t<tr><td>queen</td><td>diamonds</td><td> 12</td></tr>\n",
       "\t<tr><td>jack </td><td>diamonds</td><td> 11</td></tr>\n",
       "\t<tr><td>ten  </td><td>diamonds</td><td> 10</td></tr>\n",
       "\t<tr><td>nine </td><td>diamonds</td><td>  9</td></tr>\n",
       "\t<tr><td>eight</td><td>diamonds</td><td>  8</td></tr>\n",
       "\t<tr><td>seven</td><td>diamonds</td><td>  7</td></tr>\n",
       "\t<tr><td>six  </td><td>diamonds</td><td>  6</td></tr>\n",
       "\t<tr><td>five </td><td>diamonds</td><td>  5</td></tr>\n",
       "\t<tr><td>four </td><td>diamonds</td><td>  4</td></tr>\n",
       "\t<tr><td>three</td><td>diamonds</td><td>  3</td></tr>\n",
       "\t<tr><td>two  </td><td>diamonds</td><td>  2</td></tr>\n",
       "\t<tr><td>ace  </td><td>diamonds</td><td> 14</td></tr>\n",
       "\t<tr><td>king </td><td>hearts  </td><td>100</td></tr>\n",
       "\t<tr><td>queen</td><td>hearts  </td><td>100</td></tr>\n",
       "\t<tr><td>jack </td><td>hearts  </td><td>100</td></tr>\n",
       "\t<tr><td>ten  </td><td>hearts  </td><td>100</td></tr>\n",
       "\t<tr><td>nine </td><td>hearts  </td><td>100</td></tr>\n",
       "\t<tr><td>eight</td><td>hearts  </td><td>100</td></tr>\n",
       "\t<tr><td>seven</td><td>hearts  </td><td>100</td></tr>\n",
       "\t<tr><td>six  </td><td>hearts  </td><td>100</td></tr>\n",
       "\t<tr><td>five </td><td>hearts  </td><td>100</td></tr>\n",
       "\t<tr><td>four </td><td>hearts  </td><td>100</td></tr>\n",
       "\t<tr><td>three</td><td>hearts  </td><td>100</td></tr>\n",
       "\t<tr><td>two  </td><td>hearts  </td><td>100</td></tr>\n",
       "\t<tr><td>ace  </td><td>hearts  </td><td>100</td></tr>\n",
       "</tbody>\n",
       "</table>\n"
      ],
      "text/latex": [
       "A data.frame: 52 × 3\n",
       "\\begin{tabular}{r|lll}\n",
       " face & suit & value\\\\\n",
       " <fct> & <fct> & <dbl>\\\\\n",
       "\\hline\n",
       "\t king  & spades   &  13\\\\\n",
       "\t queen & spades   &  12\\\\\n",
       "\t jack  & spades   &  11\\\\\n",
       "\t ten   & spades   &  10\\\\\n",
       "\t nine  & spades   &   9\\\\\n",
       "\t eight & spades   &   8\\\\\n",
       "\t seven & spades   &   7\\\\\n",
       "\t six   & spades   &   6\\\\\n",
       "\t five  & spades   &   5\\\\\n",
       "\t four  & spades   &   4\\\\\n",
       "\t three & spades   &   3\\\\\n",
       "\t two   & spades   &   2\\\\\n",
       "\t ace   & spades   &  14\\\\\n",
       "\t king  & clubs    &  13\\\\\n",
       "\t queen & clubs    &  12\\\\\n",
       "\t jack  & clubs    &  11\\\\\n",
       "\t ten   & clubs    &  10\\\\\n",
       "\t nine  & clubs    &   9\\\\\n",
       "\t eight & clubs    &   8\\\\\n",
       "\t seven & clubs    &   7\\\\\n",
       "\t six   & clubs    &   6\\\\\n",
       "\t five  & clubs    &   5\\\\\n",
       "\t four  & clubs    &   4\\\\\n",
       "\t three & clubs    &   3\\\\\n",
       "\t two   & clubs    &   2\\\\\n",
       "\t ace   & clubs    &  14\\\\\n",
       "\t king  & diamonds &  13\\\\\n",
       "\t queen & diamonds &  12\\\\\n",
       "\t jack  & diamonds &  11\\\\\n",
       "\t ten   & diamonds &  10\\\\\n",
       "\t nine  & diamonds &   9\\\\\n",
       "\t eight & diamonds &   8\\\\\n",
       "\t seven & diamonds &   7\\\\\n",
       "\t six   & diamonds &   6\\\\\n",
       "\t five  & diamonds &   5\\\\\n",
       "\t four  & diamonds &   4\\\\\n",
       "\t three & diamonds &   3\\\\\n",
       "\t two   & diamonds &   2\\\\\n",
       "\t ace   & diamonds &  14\\\\\n",
       "\t king  & hearts   & 100\\\\\n",
       "\t queen & hearts   & 100\\\\\n",
       "\t jack  & hearts   & 100\\\\\n",
       "\t ten   & hearts   & 100\\\\\n",
       "\t nine  & hearts   & 100\\\\\n",
       "\t eight & hearts   & 100\\\\\n",
       "\t seven & hearts   & 100\\\\\n",
       "\t six   & hearts   & 100\\\\\n",
       "\t five  & hearts   & 100\\\\\n",
       "\t four  & hearts   & 100\\\\\n",
       "\t three & hearts   & 100\\\\\n",
       "\t two   & hearts   & 100\\\\\n",
       "\t ace   & hearts   & 100\\\\\n",
       "\\end{tabular}\n"
      ],
      "text/markdown": [
       "\n",
       "A data.frame: 52 × 3\n",
       "\n",
       "| face &lt;fct&gt; | suit &lt;fct&gt; | value &lt;dbl&gt; |\n",
       "|---|---|---|\n",
       "| king  | spades   |  13 |\n",
       "| queen | spades   |  12 |\n",
       "| jack  | spades   |  11 |\n",
       "| ten   | spades   |  10 |\n",
       "| nine  | spades   |   9 |\n",
       "| eight | spades   |   8 |\n",
       "| seven | spades   |   7 |\n",
       "| six   | spades   |   6 |\n",
       "| five  | spades   |   5 |\n",
       "| four  | spades   |   4 |\n",
       "| three | spades   |   3 |\n",
       "| two   | spades   |   2 |\n",
       "| ace   | spades   |  14 |\n",
       "| king  | clubs    |  13 |\n",
       "| queen | clubs    |  12 |\n",
       "| jack  | clubs    |  11 |\n",
       "| ten   | clubs    |  10 |\n",
       "| nine  | clubs    |   9 |\n",
       "| eight | clubs    |   8 |\n",
       "| seven | clubs    |   7 |\n",
       "| six   | clubs    |   6 |\n",
       "| five  | clubs    |   5 |\n",
       "| four  | clubs    |   4 |\n",
       "| three | clubs    |   3 |\n",
       "| two   | clubs    |   2 |\n",
       "| ace   | clubs    |  14 |\n",
       "| king  | diamonds |  13 |\n",
       "| queen | diamonds |  12 |\n",
       "| jack  | diamonds |  11 |\n",
       "| ten   | diamonds |  10 |\n",
       "| nine  | diamonds |   9 |\n",
       "| eight | diamonds |   8 |\n",
       "| seven | diamonds |   7 |\n",
       "| six   | diamonds |   6 |\n",
       "| five  | diamonds |   5 |\n",
       "| four  | diamonds |   4 |\n",
       "| three | diamonds |   3 |\n",
       "| two   | diamonds |   2 |\n",
       "| ace   | diamonds |  14 |\n",
       "| king  | hearts   | 100 |\n",
       "| queen | hearts   | 100 |\n",
       "| jack  | hearts   | 100 |\n",
       "| ten   | hearts   | 100 |\n",
       "| nine  | hearts   | 100 |\n",
       "| eight | hearts   | 100 |\n",
       "| seven | hearts   | 100 |\n",
       "| six   | hearts   | 100 |\n",
       "| five  | hearts   | 100 |\n",
       "| four  | hearts   | 100 |\n",
       "| three | hearts   | 100 |\n",
       "| two   | hearts   | 100 |\n",
       "| ace   | hearts   | 100 |\n",
       "\n"
      ],
      "text/plain": [
       "   face  suit     value\n",
       "1  king  spades    13  \n",
       "2  queen spades    12  \n",
       "3  jack  spades    11  \n",
       "4  ten   spades    10  \n",
       "5  nine  spades     9  \n",
       "6  eight spades     8  \n",
       "7  seven spades     7  \n",
       "8  six   spades     6  \n",
       "9  five  spades     5  \n",
       "10 four  spades     4  \n",
       "11 three spades     3  \n",
       "12 two   spades     2  \n",
       "13 ace   spades    14  \n",
       "14 king  clubs     13  \n",
       "15 queen clubs     12  \n",
       "16 jack  clubs     11  \n",
       "17 ten   clubs     10  \n",
       "18 nine  clubs      9  \n",
       "19 eight clubs      8  \n",
       "20 seven clubs      7  \n",
       "21 six   clubs      6  \n",
       "22 five  clubs      5  \n",
       "23 four  clubs      4  \n",
       "24 three clubs      3  \n",
       "25 two   clubs      2  \n",
       "26 ace   clubs     14  \n",
       "27 king  diamonds  13  \n",
       "28 queen diamonds  12  \n",
       "29 jack  diamonds  11  \n",
       "30 ten   diamonds  10  \n",
       "31 nine  diamonds   9  \n",
       "32 eight diamonds   8  \n",
       "33 seven diamonds   7  \n",
       "34 six   diamonds   6  \n",
       "35 five  diamonds   5  \n",
       "36 four  diamonds   4  \n",
       "37 three diamonds   3  \n",
       "38 two   diamonds   2  \n",
       "39 ace   diamonds  14  \n",
       "40 king  hearts   100  \n",
       "41 queen hearts   100  \n",
       "42 jack  hearts   100  \n",
       "43 ten   hearts   100  \n",
       "44 nine  hearts   100  \n",
       "45 eight hearts   100  \n",
       "46 seven hearts   100  \n",
       "47 six   hearts   100  \n",
       "48 five  hearts   100  \n",
       "49 four  hearts   100  \n",
       "50 three hearts   100  \n",
       "51 two   hearts   100  \n",
       "52 ace   hearts   100  "
      ]
     },
     "metadata": {},
     "output_type": "display_data"
    }
   ],
   "source": [
    "deck$value[deck$suit==\"hearts\"]<- 100\n",
    "\n",
    "deck"
   ]
  },
  {
   "cell_type": "code",
   "execution_count": 40,
   "metadata": {},
   "outputs": [
    {
     "data": {
      "text/html": [
       "<table>\n",
       "<caption>A data.frame: 4 × 3</caption>\n",
       "<thead>\n",
       "\t<tr><th></th><th scope=col>face</th><th scope=col>suit</th><th scope=col>value</th></tr>\n",
       "\t<tr><th></th><th scope=col>&lt;fct&gt;</th><th scope=col>&lt;fct&gt;</th><th scope=col>&lt;dbl&gt;</th></tr>\n",
       "</thead>\n",
       "<tbody>\n",
       "\t<tr><th scope=row>2</th><td>queen</td><td>spades  </td><td> 12</td></tr>\n",
       "\t<tr><th scope=row>15</th><td>queen</td><td>clubs   </td><td> 12</td></tr>\n",
       "\t<tr><th scope=row>28</th><td>queen</td><td>diamonds</td><td> 12</td></tr>\n",
       "\t<tr><th scope=row>41</th><td>queen</td><td>hearts  </td><td>100</td></tr>\n",
       "</tbody>\n",
       "</table>\n"
      ],
      "text/latex": [
       "A data.frame: 4 × 3\n",
       "\\begin{tabular}{r|lll}\n",
       "  & face & suit & value\\\\\n",
       "  & <fct> & <fct> & <dbl>\\\\\n",
       "\\hline\n",
       "\t2 & queen & spades   &  12\\\\\n",
       "\t15 & queen & clubs    &  12\\\\\n",
       "\t28 & queen & diamonds &  12\\\\\n",
       "\t41 & queen & hearts   & 100\\\\\n",
       "\\end{tabular}\n"
      ],
      "text/markdown": [
       "\n",
       "A data.frame: 4 × 3\n",
       "\n",
       "| <!--/--> | face &lt;fct&gt; | suit &lt;fct&gt; | value &lt;dbl&gt; |\n",
       "|---|---|---|---|\n",
       "| 2 | queen | spades   |  12 |\n",
       "| 15 | queen | clubs    |  12 |\n",
       "| 28 | queen | diamonds |  12 |\n",
       "| 41 | queen | hearts   | 100 |\n",
       "\n"
      ],
      "text/plain": [
       "   face  suit     value\n",
       "2  queen spades    12  \n",
       "15 queen clubs     12  \n",
       "28 queen diamonds  12  \n",
       "41 queen hearts   100  "
      ]
     },
     "metadata": {},
     "output_type": "display_data"
    }
   ],
   "source": [
    "deck[deck$face==\"queen\",]"
   ]
  },
  {
   "cell_type": "code",
   "execution_count": null,
   "metadata": {},
   "outputs": [],
   "source": []
  },
  {
   "cell_type": "markdown",
   "metadata": {},
   "source": [
    "### 5.2.2 布尔运算符"
   ]
  },
  {
   "cell_type": "code",
   "execution_count": 41,
   "metadata": {},
   "outputs": [
    {
     "data": {
      "text/html": [
       "<ol class=list-inline>\n",
       "\t<li>TRUE</li>\n",
       "\t<li>TRUE</li>\n",
       "\t<li>TRUE</li>\n",
       "</ol>\n"
      ],
      "text/latex": [
       "\\begin{enumerate*}\n",
       "\\item TRUE\n",
       "\\item TRUE\n",
       "\\item TRUE\n",
       "\\end{enumerate*}\n"
      ],
      "text/markdown": [
       "1. TRUE\n",
       "2. TRUE\n",
       "3. TRUE\n",
       "\n",
       "\n"
      ],
      "text/plain": [
       "[1] TRUE TRUE TRUE"
      ]
     },
     "metadata": {},
     "output_type": "display_data"
    }
   ],
   "source": [
    "a<- c(1,2,3)\n",
    "b<- c(1,2,3)\n",
    "c<- c(1,2,4)\n",
    "\n",
    "a==b"
   ]
  },
  {
   "cell_type": "code",
   "execution_count": 42,
   "metadata": {},
   "outputs": [
    {
     "data": {
      "text/html": [
       "<ol class=list-inline>\n",
       "\t<li>TRUE</li>\n",
       "\t<li>TRUE</li>\n",
       "\t<li>FALSE</li>\n",
       "</ol>\n"
      ],
      "text/latex": [
       "\\begin{enumerate*}\n",
       "\\item TRUE\n",
       "\\item TRUE\n",
       "\\item FALSE\n",
       "\\end{enumerate*}\n"
      ],
      "text/markdown": [
       "1. TRUE\n",
       "2. TRUE\n",
       "3. FALSE\n",
       "\n",
       "\n"
      ],
      "text/plain": [
       "[1]  TRUE  TRUE FALSE"
      ]
     },
     "metadata": {},
     "output_type": "display_data"
    }
   ],
   "source": [
    "b==c"
   ]
  },
  {
   "cell_type": "code",
   "execution_count": 43,
   "metadata": {},
   "outputs": [
    {
     "data": {
      "text/html": [
       "<ol class=list-inline>\n",
       "\t<li>TRUE</li>\n",
       "\t<li>TRUE</li>\n",
       "\t<li>FALSE</li>\n",
       "</ol>\n"
      ],
      "text/latex": [
       "\\begin{enumerate*}\n",
       "\\item TRUE\n",
       "\\item TRUE\n",
       "\\item FALSE\n",
       "\\end{enumerate*}\n"
      ],
      "text/markdown": [
       "1. TRUE\n",
       "2. TRUE\n",
       "3. FALSE\n",
       "\n",
       "\n"
      ],
      "text/plain": [
       "[1]  TRUE  TRUE FALSE"
      ]
     },
     "metadata": {},
     "output_type": "display_data"
    }
   ],
   "source": [
    "a==b & b==c"
   ]
  },
  {
   "cell_type": "code",
   "execution_count": 44,
   "metadata": {},
   "outputs": [
    {
     "data": {
      "text/html": [
       "<ol class=list-inline>\n",
       "\t<li>FALSE</li>\n",
       "\t<li>TRUE</li>\n",
       "\t<li>FALSE</li>\n",
       "\t<li>FALSE</li>\n",
       "\t<li>FALSE</li>\n",
       "\t<li>FALSE</li>\n",
       "\t<li>FALSE</li>\n",
       "\t<li>FALSE</li>\n",
       "\t<li>FALSE</li>\n",
       "\t<li>FALSE</li>\n",
       "\t<li>FALSE</li>\n",
       "\t<li>FALSE</li>\n",
       "\t<li>FALSE</li>\n",
       "\t<li>FALSE</li>\n",
       "\t<li>FALSE</li>\n",
       "\t<li>FALSE</li>\n",
       "\t<li>FALSE</li>\n",
       "\t<li>FALSE</li>\n",
       "\t<li>FALSE</li>\n",
       "\t<li>FALSE</li>\n",
       "\t<li>FALSE</li>\n",
       "\t<li>FALSE</li>\n",
       "\t<li>FALSE</li>\n",
       "\t<li>FALSE</li>\n",
       "\t<li>FALSE</li>\n",
       "\t<li>FALSE</li>\n",
       "\t<li>FALSE</li>\n",
       "\t<li>FALSE</li>\n",
       "\t<li>FALSE</li>\n",
       "\t<li>FALSE</li>\n",
       "\t<li>FALSE</li>\n",
       "\t<li>FALSE</li>\n",
       "\t<li>FALSE</li>\n",
       "\t<li>FALSE</li>\n",
       "\t<li>FALSE</li>\n",
       "\t<li>FALSE</li>\n",
       "\t<li>FALSE</li>\n",
       "\t<li>FALSE</li>\n",
       "\t<li>FALSE</li>\n",
       "\t<li>FALSE</li>\n",
       "\t<li>FALSE</li>\n",
       "\t<li>FALSE</li>\n",
       "\t<li>FALSE</li>\n",
       "\t<li>FALSE</li>\n",
       "\t<li>FALSE</li>\n",
       "\t<li>FALSE</li>\n",
       "\t<li>FALSE</li>\n",
       "\t<li>FALSE</li>\n",
       "\t<li>FALSE</li>\n",
       "\t<li>FALSE</li>\n",
       "\t<li>FALSE</li>\n",
       "\t<li>FALSE</li>\n",
       "</ol>\n"
      ],
      "text/latex": [
       "\\begin{enumerate*}\n",
       "\\item FALSE\n",
       "\\item TRUE\n",
       "\\item FALSE\n",
       "\\item FALSE\n",
       "\\item FALSE\n",
       "\\item FALSE\n",
       "\\item FALSE\n",
       "\\item FALSE\n",
       "\\item FALSE\n",
       "\\item FALSE\n",
       "\\item FALSE\n",
       "\\item FALSE\n",
       "\\item FALSE\n",
       "\\item FALSE\n",
       "\\item FALSE\n",
       "\\item FALSE\n",
       "\\item FALSE\n",
       "\\item FALSE\n",
       "\\item FALSE\n",
       "\\item FALSE\n",
       "\\item FALSE\n",
       "\\item FALSE\n",
       "\\item FALSE\n",
       "\\item FALSE\n",
       "\\item FALSE\n",
       "\\item FALSE\n",
       "\\item FALSE\n",
       "\\item FALSE\n",
       "\\item FALSE\n",
       "\\item FALSE\n",
       "\\item FALSE\n",
       "\\item FALSE\n",
       "\\item FALSE\n",
       "\\item FALSE\n",
       "\\item FALSE\n",
       "\\item FALSE\n",
       "\\item FALSE\n",
       "\\item FALSE\n",
       "\\item FALSE\n",
       "\\item FALSE\n",
       "\\item FALSE\n",
       "\\item FALSE\n",
       "\\item FALSE\n",
       "\\item FALSE\n",
       "\\item FALSE\n",
       "\\item FALSE\n",
       "\\item FALSE\n",
       "\\item FALSE\n",
       "\\item FALSE\n",
       "\\item FALSE\n",
       "\\item FALSE\n",
       "\\item FALSE\n",
       "\\end{enumerate*}\n"
      ],
      "text/markdown": [
       "1. FALSE\n",
       "2. TRUE\n",
       "3. FALSE\n",
       "4. FALSE\n",
       "5. FALSE\n",
       "6. FALSE\n",
       "7. FALSE\n",
       "8. FALSE\n",
       "9. FALSE\n",
       "10. FALSE\n",
       "11. FALSE\n",
       "12. FALSE\n",
       "13. FALSE\n",
       "14. FALSE\n",
       "15. FALSE\n",
       "16. FALSE\n",
       "17. FALSE\n",
       "18. FALSE\n",
       "19. FALSE\n",
       "20. FALSE\n",
       "21. FALSE\n",
       "22. FALSE\n",
       "23. FALSE\n",
       "24. FALSE\n",
       "25. FALSE\n",
       "26. FALSE\n",
       "27. FALSE\n",
       "28. FALSE\n",
       "29. FALSE\n",
       "30. FALSE\n",
       "31. FALSE\n",
       "32. FALSE\n",
       "33. FALSE\n",
       "34. FALSE\n",
       "35. FALSE\n",
       "36. FALSE\n",
       "37. FALSE\n",
       "38. FALSE\n",
       "39. FALSE\n",
       "40. FALSE\n",
       "41. FALSE\n",
       "42. FALSE\n",
       "43. FALSE\n",
       "44. FALSE\n",
       "45. FALSE\n",
       "46. FALSE\n",
       "47. FALSE\n",
       "48. FALSE\n",
       "49. FALSE\n",
       "50. FALSE\n",
       "51. FALSE\n",
       "52. FALSE\n",
       "\n",
       "\n"
      ],
      "text/plain": [
       " [1] FALSE  TRUE FALSE FALSE FALSE FALSE FALSE FALSE FALSE FALSE FALSE FALSE\n",
       "[13] FALSE FALSE FALSE FALSE FALSE FALSE FALSE FALSE FALSE FALSE FALSE FALSE\n",
       "[25] FALSE FALSE FALSE FALSE FALSE FALSE FALSE FALSE FALSE FALSE FALSE FALSE\n",
       "[37] FALSE FALSE FALSE FALSE FALSE FALSE FALSE FALSE FALSE FALSE FALSE FALSE\n",
       "[49] FALSE FALSE FALSE FALSE"
      ]
     },
     "metadata": {},
     "output_type": "display_data"
    }
   ],
   "source": [
    "deck$face==\"queen\" & deck$suit == \"spades\""
   ]
  },
  {
   "cell_type": "code",
   "execution_count": 46,
   "metadata": {},
   "outputs": [
    {
     "data": {
      "text/html": [
       "<ol class=list-inline>\n",
       "\t<li>FALSE</li>\n",
       "\t<li>TRUE</li>\n",
       "\t<li>FALSE</li>\n",
       "\t<li>FALSE</li>\n",
       "\t<li>FALSE</li>\n",
       "\t<li>FALSE</li>\n",
       "\t<li>FALSE</li>\n",
       "\t<li>FALSE</li>\n",
       "\t<li>FALSE</li>\n",
       "\t<li>FALSE</li>\n",
       "\t<li>FALSE</li>\n",
       "\t<li>FALSE</li>\n",
       "\t<li>FALSE</li>\n",
       "\t<li>FALSE</li>\n",
       "\t<li>FALSE</li>\n",
       "\t<li>FALSE</li>\n",
       "\t<li>FALSE</li>\n",
       "\t<li>FALSE</li>\n",
       "\t<li>FALSE</li>\n",
       "\t<li>FALSE</li>\n",
       "\t<li>FALSE</li>\n",
       "\t<li>FALSE</li>\n",
       "\t<li>FALSE</li>\n",
       "\t<li>FALSE</li>\n",
       "\t<li>FALSE</li>\n",
       "\t<li>FALSE</li>\n",
       "\t<li>FALSE</li>\n",
       "\t<li>FALSE</li>\n",
       "\t<li>FALSE</li>\n",
       "\t<li>FALSE</li>\n",
       "\t<li>FALSE</li>\n",
       "\t<li>FALSE</li>\n",
       "\t<li>FALSE</li>\n",
       "\t<li>FALSE</li>\n",
       "\t<li>FALSE</li>\n",
       "\t<li>FALSE</li>\n",
       "\t<li>FALSE</li>\n",
       "\t<li>FALSE</li>\n",
       "\t<li>FALSE</li>\n",
       "\t<li>FALSE</li>\n",
       "\t<li>FALSE</li>\n",
       "\t<li>FALSE</li>\n",
       "\t<li>FALSE</li>\n",
       "\t<li>FALSE</li>\n",
       "\t<li>FALSE</li>\n",
       "\t<li>FALSE</li>\n",
       "\t<li>FALSE</li>\n",
       "\t<li>FALSE</li>\n",
       "\t<li>FALSE</li>\n",
       "\t<li>FALSE</li>\n",
       "\t<li>FALSE</li>\n",
       "\t<li>FALSE</li>\n",
       "</ol>\n"
      ],
      "text/latex": [
       "\\begin{enumerate*}\n",
       "\\item FALSE\n",
       "\\item TRUE\n",
       "\\item FALSE\n",
       "\\item FALSE\n",
       "\\item FALSE\n",
       "\\item FALSE\n",
       "\\item FALSE\n",
       "\\item FALSE\n",
       "\\item FALSE\n",
       "\\item FALSE\n",
       "\\item FALSE\n",
       "\\item FALSE\n",
       "\\item FALSE\n",
       "\\item FALSE\n",
       "\\item FALSE\n",
       "\\item FALSE\n",
       "\\item FALSE\n",
       "\\item FALSE\n",
       "\\item FALSE\n",
       "\\item FALSE\n",
       "\\item FALSE\n",
       "\\item FALSE\n",
       "\\item FALSE\n",
       "\\item FALSE\n",
       "\\item FALSE\n",
       "\\item FALSE\n",
       "\\item FALSE\n",
       "\\item FALSE\n",
       "\\item FALSE\n",
       "\\item FALSE\n",
       "\\item FALSE\n",
       "\\item FALSE\n",
       "\\item FALSE\n",
       "\\item FALSE\n",
       "\\item FALSE\n",
       "\\item FALSE\n",
       "\\item FALSE\n",
       "\\item FALSE\n",
       "\\item FALSE\n",
       "\\item FALSE\n",
       "\\item FALSE\n",
       "\\item FALSE\n",
       "\\item FALSE\n",
       "\\item FALSE\n",
       "\\item FALSE\n",
       "\\item FALSE\n",
       "\\item FALSE\n",
       "\\item FALSE\n",
       "\\item FALSE\n",
       "\\item FALSE\n",
       "\\item FALSE\n",
       "\\item FALSE\n",
       "\\end{enumerate*}\n"
      ],
      "text/markdown": [
       "1. FALSE\n",
       "2. TRUE\n",
       "3. FALSE\n",
       "4. FALSE\n",
       "5. FALSE\n",
       "6. FALSE\n",
       "7. FALSE\n",
       "8. FALSE\n",
       "9. FALSE\n",
       "10. FALSE\n",
       "11. FALSE\n",
       "12. FALSE\n",
       "13. FALSE\n",
       "14. FALSE\n",
       "15. FALSE\n",
       "16. FALSE\n",
       "17. FALSE\n",
       "18. FALSE\n",
       "19. FALSE\n",
       "20. FALSE\n",
       "21. FALSE\n",
       "22. FALSE\n",
       "23. FALSE\n",
       "24. FALSE\n",
       "25. FALSE\n",
       "26. FALSE\n",
       "27. FALSE\n",
       "28. FALSE\n",
       "29. FALSE\n",
       "30. FALSE\n",
       "31. FALSE\n",
       "32. FALSE\n",
       "33. FALSE\n",
       "34. FALSE\n",
       "35. FALSE\n",
       "36. FALSE\n",
       "37. FALSE\n",
       "38. FALSE\n",
       "39. FALSE\n",
       "40. FALSE\n",
       "41. FALSE\n",
       "42. FALSE\n",
       "43. FALSE\n",
       "44. FALSE\n",
       "45. FALSE\n",
       "46. FALSE\n",
       "47. FALSE\n",
       "48. FALSE\n",
       "49. FALSE\n",
       "50. FALSE\n",
       "51. FALSE\n",
       "52. FALSE\n",
       "\n",
       "\n"
      ],
      "text/plain": [
       " [1] FALSE  TRUE FALSE FALSE FALSE FALSE FALSE FALSE FALSE FALSE FALSE FALSE\n",
       "[13] FALSE FALSE FALSE FALSE FALSE FALSE FALSE FALSE FALSE FALSE FALSE FALSE\n",
       "[25] FALSE FALSE FALSE FALSE FALSE FALSE FALSE FALSE FALSE FALSE FALSE FALSE\n",
       "[37] FALSE FALSE FALSE FALSE FALSE FALSE FALSE FALSE FALSE FALSE FALSE FALSE\n",
       "[49] FALSE FALSE FALSE FALSE"
      ]
     },
     "metadata": {},
     "output_type": "display_data"
    }
   ],
   "source": [
    "queenOfSpades <- deck$face==\"queen\" & deck$suit == \"spades\"\n",
    "\n",
    "queenOfSpades"
   ]
  },
  {
   "cell_type": "code",
   "execution_count": 47,
   "metadata": {},
   "outputs": [
    {
     "data": {
      "text/html": [
       "<table>\n",
       "<caption>A data.frame: 1 × 3</caption>\n",
       "<thead>\n",
       "\t<tr><th></th><th scope=col>face</th><th scope=col>suit</th><th scope=col>value</th></tr>\n",
       "\t<tr><th></th><th scope=col>&lt;fct&gt;</th><th scope=col>&lt;fct&gt;</th><th scope=col>&lt;dbl&gt;</th></tr>\n",
       "</thead>\n",
       "<tbody>\n",
       "\t<tr><th scope=row>2</th><td>queen</td><td>spades</td><td>12</td></tr>\n",
       "</tbody>\n",
       "</table>\n"
      ],
      "text/latex": [
       "A data.frame: 1 × 3\n",
       "\\begin{tabular}{r|lll}\n",
       "  & face & suit & value\\\\\n",
       "  & <fct> & <fct> & <dbl>\\\\\n",
       "\\hline\n",
       "\t2 & queen & spades & 12\\\\\n",
       "\\end{tabular}\n"
      ],
      "text/markdown": [
       "\n",
       "A data.frame: 1 × 3\n",
       "\n",
       "| <!--/--> | face &lt;fct&gt; | suit &lt;fct&gt; | value &lt;dbl&gt; |\n",
       "|---|---|---|---|\n",
       "| 2 | queen | spades | 12 |\n",
       "\n"
      ],
      "text/plain": [
       "  face  suit   value\n",
       "2 queen spades 12   "
      ]
     },
     "metadata": {},
     "output_type": "display_data"
    }
   ],
   "source": [
    "deck[queenOfSpades,]"
   ]
  },
  {
   "cell_type": "code",
   "execution_count": null,
   "metadata": {},
   "outputs": [],
   "source": []
  },
  {
   "cell_type": "markdown",
   "metadata": {},
   "source": [
    "## 5.3 缺失信息"
   ]
  },
  {
   "cell_type": "code",
   "execution_count": 48,
   "metadata": {},
   "outputs": [
    {
     "data": {
      "text/html": [
       "&lt;NA&gt;"
      ],
      "text/latex": [
       "<NA>"
      ],
      "text/markdown": [
       "&lt;NA&gt;"
      ],
      "text/plain": [
       "[1] NA"
      ]
     },
     "metadata": {},
     "output_type": "display_data"
    }
   ],
   "source": [
    "1+NA"
   ]
  },
  {
   "cell_type": "code",
   "execution_count": 49,
   "metadata": {},
   "outputs": [
    {
     "data": {
      "text/html": [
       "&lt;NA&gt;"
      ],
      "text/latex": [
       "<NA>"
      ],
      "text/markdown": [
       "&lt;NA&gt;"
      ],
      "text/plain": [
       "[1] NA"
      ]
     },
     "metadata": {},
     "output_type": "display_data"
    }
   ],
   "source": [
    "NA==1 "
   ]
  },
  {
   "cell_type": "markdown",
   "metadata": {},
   "source": [
    "### 5.3.1 na.rm"
   ]
  },
  {
   "cell_type": "code",
   "execution_count": 50,
   "metadata": {},
   "outputs": [
    {
     "data": {
      "text/html": [
       "<ol class=list-inline>\n",
       "\t<li>&lt;NA&gt;</li>\n",
       "\t<li>1</li>\n",
       "\t<li>2</li>\n",
       "\t<li>3</li>\n",
       "\t<li>4</li>\n",
       "\t<li>5</li>\n",
       "\t<li>6</li>\n",
       "\t<li>7</li>\n",
       "\t<li>8</li>\n",
       "\t<li>9</li>\n",
       "\t<li>10</li>\n",
       "\t<li>11</li>\n",
       "\t<li>12</li>\n",
       "\t<li>13</li>\n",
       "\t<li>14</li>\n",
       "\t<li>15</li>\n",
       "\t<li>16</li>\n",
       "\t<li>17</li>\n",
       "\t<li>18</li>\n",
       "\t<li>19</li>\n",
       "\t<li>20</li>\n",
       "\t<li>21</li>\n",
       "\t<li>22</li>\n",
       "\t<li>23</li>\n",
       "\t<li>24</li>\n",
       "\t<li>25</li>\n",
       "\t<li>26</li>\n",
       "\t<li>27</li>\n",
       "\t<li>28</li>\n",
       "\t<li>29</li>\n",
       "\t<li>30</li>\n",
       "\t<li>31</li>\n",
       "\t<li>32</li>\n",
       "\t<li>33</li>\n",
       "\t<li>34</li>\n",
       "\t<li>35</li>\n",
       "\t<li>36</li>\n",
       "\t<li>37</li>\n",
       "\t<li>38</li>\n",
       "\t<li>39</li>\n",
       "\t<li>40</li>\n",
       "\t<li>41</li>\n",
       "\t<li>42</li>\n",
       "\t<li>43</li>\n",
       "\t<li>44</li>\n",
       "\t<li>45</li>\n",
       "\t<li>46</li>\n",
       "\t<li>47</li>\n",
       "\t<li>48</li>\n",
       "\t<li>49</li>\n",
       "\t<li>50</li>\n",
       "</ol>\n"
      ],
      "text/latex": [
       "\\begin{enumerate*}\n",
       "\\item <NA>\n",
       "\\item 1\n",
       "\\item 2\n",
       "\\item 3\n",
       "\\item 4\n",
       "\\item 5\n",
       "\\item 6\n",
       "\\item 7\n",
       "\\item 8\n",
       "\\item 9\n",
       "\\item 10\n",
       "\\item 11\n",
       "\\item 12\n",
       "\\item 13\n",
       "\\item 14\n",
       "\\item 15\n",
       "\\item 16\n",
       "\\item 17\n",
       "\\item 18\n",
       "\\item 19\n",
       "\\item 20\n",
       "\\item 21\n",
       "\\item 22\n",
       "\\item 23\n",
       "\\item 24\n",
       "\\item 25\n",
       "\\item 26\n",
       "\\item 27\n",
       "\\item 28\n",
       "\\item 29\n",
       "\\item 30\n",
       "\\item 31\n",
       "\\item 32\n",
       "\\item 33\n",
       "\\item 34\n",
       "\\item 35\n",
       "\\item 36\n",
       "\\item 37\n",
       "\\item 38\n",
       "\\item 39\n",
       "\\item 40\n",
       "\\item 41\n",
       "\\item 42\n",
       "\\item 43\n",
       "\\item 44\n",
       "\\item 45\n",
       "\\item 46\n",
       "\\item 47\n",
       "\\item 48\n",
       "\\item 49\n",
       "\\item 50\n",
       "\\end{enumerate*}\n"
      ],
      "text/markdown": [
       "1. &lt;NA&gt;\n",
       "2. 1\n",
       "3. 2\n",
       "4. 3\n",
       "5. 4\n",
       "6. 5\n",
       "7. 6\n",
       "8. 7\n",
       "9. 8\n",
       "10. 9\n",
       "11. 10\n",
       "12. 11\n",
       "13. 12\n",
       "14. 13\n",
       "15. 14\n",
       "16. 15\n",
       "17. 16\n",
       "18. 17\n",
       "19. 18\n",
       "20. 19\n",
       "21. 20\n",
       "22. 21\n",
       "23. 22\n",
       "24. 23\n",
       "25. 24\n",
       "26. 25\n",
       "27. 26\n",
       "28. 27\n",
       "29. 28\n",
       "30. 29\n",
       "31. 30\n",
       "32. 31\n",
       "33. 32\n",
       "34. 33\n",
       "35. 34\n",
       "36. 35\n",
       "37. 36\n",
       "38. 37\n",
       "39. 38\n",
       "40. 39\n",
       "41. 40\n",
       "42. 41\n",
       "43. 42\n",
       "44. 43\n",
       "45. 44\n",
       "46. 45\n",
       "47. 46\n",
       "48. 47\n",
       "49. 48\n",
       "50. 49\n",
       "51. 50\n",
       "\n",
       "\n"
      ],
      "text/plain": [
       " [1] NA  1  2  3  4  5  6  7  8  9 10 11 12 13 14 15 16 17 18 19 20 21 22 23 24\n",
       "[26] 25 26 27 28 29 30 31 32 33 34 35 36 37 38 39 40 41 42 43 44 45 46 47 48 49\n",
       "[51] 50"
      ]
     },
     "metadata": {},
     "output_type": "display_data"
    }
   ],
   "source": [
    "c(NA, 1:50)"
   ]
  },
  {
   "cell_type": "code",
   "execution_count": 51,
   "metadata": {},
   "outputs": [
    {
     "data": {
      "text/html": [
       "&lt;NA&gt;"
      ],
      "text/latex": [
       "<NA>"
      ],
      "text/markdown": [
       "&lt;NA&gt;"
      ],
      "text/plain": [
       "[1] NA"
      ]
     },
     "metadata": {},
     "output_type": "display_data"
    }
   ],
   "source": [
    "mean(c(NA, 1:50))"
   ]
  },
  {
   "cell_type": "code",
   "execution_count": 52,
   "metadata": {},
   "outputs": [
    {
     "data": {
      "text/html": [
       "25.5"
      ],
      "text/latex": [
       "25.5"
      ],
      "text/markdown": [
       "25.5"
      ],
      "text/plain": [
       "[1] 25.5"
      ]
     },
     "metadata": {},
     "output_type": "display_data"
    }
   ],
   "source": [
    "mean(c(NA, 1:50), na.rm = TRUE)"
   ]
  },
  {
   "cell_type": "code",
   "execution_count": null,
   "metadata": {},
   "outputs": [],
   "source": []
  },
  {
   "cell_type": "markdown",
   "metadata": {},
   "source": [
    "### 5.3.2 is.na "
   ]
  },
  {
   "cell_type": "code",
   "execution_count": 53,
   "metadata": {},
   "outputs": [
    {
     "data": {
      "text/html": [
       "&lt;NA&gt;"
      ],
      "text/latex": [
       "<NA>"
      ],
      "text/markdown": [
       "&lt;NA&gt;"
      ],
      "text/plain": [
       "[1] NA"
      ]
     },
     "metadata": {},
     "output_type": "display_data"
    }
   ],
   "source": [
    "NA== NA"
   ]
  },
  {
   "cell_type": "code",
   "execution_count": 54,
   "metadata": {},
   "outputs": [
    {
     "data": {
      "text/html": [
       "<ol class=list-inline>\n",
       "\t<li>&lt;NA&gt;</li>\n",
       "\t<li>&lt;NA&gt;</li>\n",
       "\t<li>&lt;NA&gt;</li>\n",
       "\t<li>&lt;NA&gt;</li>\n",
       "\t<li>&lt;NA&gt;</li>\n",
       "</ol>\n"
      ],
      "text/latex": [
       "\\begin{enumerate*}\n",
       "\\item <NA>\n",
       "\\item <NA>\n",
       "\\item <NA>\n",
       "\\item <NA>\n",
       "\\item <NA>\n",
       "\\end{enumerate*}\n"
      ],
      "text/markdown": [
       "1. &lt;NA&gt;\n",
       "2. &lt;NA&gt;\n",
       "3. &lt;NA&gt;\n",
       "4. &lt;NA&gt;\n",
       "5. &lt;NA&gt;\n",
       "\n",
       "\n"
      ],
      "text/plain": [
       "[1] NA NA NA NA NA"
      ]
     },
     "metadata": {},
     "output_type": "display_data"
    }
   ],
   "source": [
    "c(1,2,3,4,NA)==NA"
   ]
  },
  {
   "cell_type": "code",
   "execution_count": 55,
   "metadata": {},
   "outputs": [
    {
     "data": {
      "text/html": [
       "TRUE"
      ],
      "text/latex": [
       "TRUE"
      ],
      "text/markdown": [
       "TRUE"
      ],
      "text/plain": [
       "[1] TRUE"
      ]
     },
     "metadata": {},
     "output_type": "display_data"
    }
   ],
   "source": [
    "is.na(NA)"
   ]
  },
  {
   "cell_type": "code",
   "execution_count": 56,
   "metadata": {},
   "outputs": [
    {
     "data": {
      "text/html": [
       "<ol class=list-inline>\n",
       "\t<li>FALSE</li>\n",
       "\t<li>FALSE</li>\n",
       "\t<li>FALSE</li>\n",
       "\t<li>TRUE</li>\n",
       "</ol>\n"
      ],
      "text/latex": [
       "\\begin{enumerate*}\n",
       "\\item FALSE\n",
       "\\item FALSE\n",
       "\\item FALSE\n",
       "\\item TRUE\n",
       "\\end{enumerate*}\n"
      ],
      "text/markdown": [
       "1. FALSE\n",
       "2. FALSE\n",
       "3. FALSE\n",
       "4. TRUE\n",
       "\n",
       "\n"
      ],
      "text/plain": [
       "[1] FALSE FALSE FALSE  TRUE"
      ]
     },
     "metadata": {},
     "output_type": "display_data"
    }
   ],
   "source": [
    "vec<- c(1,2,3,NA)\n",
    "\n",
    "is.na(vec)"
   ]
  },
  {
   "cell_type": "code",
   "execution_count": 57,
   "metadata": {},
   "outputs": [
    {
     "data": {
      "text/html": [
       "<table>\n",
       "<caption>A data.frame: 52 × 3</caption>\n",
       "<thead>\n",
       "\t<tr><th scope=col>face</th><th scope=col>suit</th><th scope=col>value</th></tr>\n",
       "\t<tr><th scope=col>&lt;fct&gt;</th><th scope=col>&lt;fct&gt;</th><th scope=col>&lt;dbl&gt;</th></tr>\n",
       "</thead>\n",
       "<tbody>\n",
       "\t<tr><td>king </td><td>spades  </td><td>13</td></tr>\n",
       "\t<tr><td>queen</td><td>spades  </td><td>12</td></tr>\n",
       "\t<tr><td>jack </td><td>spades  </td><td>11</td></tr>\n",
       "\t<tr><td>ten  </td><td>spades  </td><td>10</td></tr>\n",
       "\t<tr><td>nine </td><td>spades  </td><td> 9</td></tr>\n",
       "\t<tr><td>eight</td><td>spades  </td><td> 8</td></tr>\n",
       "\t<tr><td>seven</td><td>spades  </td><td> 7</td></tr>\n",
       "\t<tr><td>six  </td><td>spades  </td><td> 6</td></tr>\n",
       "\t<tr><td>five </td><td>spades  </td><td> 5</td></tr>\n",
       "\t<tr><td>four </td><td>spades  </td><td> 4</td></tr>\n",
       "\t<tr><td>three</td><td>spades  </td><td> 3</td></tr>\n",
       "\t<tr><td>two  </td><td>spades  </td><td> 2</td></tr>\n",
       "\t<tr><td>ace  </td><td>spades  </td><td> 1</td></tr>\n",
       "\t<tr><td>king </td><td>clubs   </td><td>13</td></tr>\n",
       "\t<tr><td>queen</td><td>clubs   </td><td>12</td></tr>\n",
       "\t<tr><td>jack </td><td>clubs   </td><td>11</td></tr>\n",
       "\t<tr><td>ten  </td><td>clubs   </td><td>10</td></tr>\n",
       "\t<tr><td>nine </td><td>clubs   </td><td> 9</td></tr>\n",
       "\t<tr><td>eight</td><td>clubs   </td><td> 8</td></tr>\n",
       "\t<tr><td>seven</td><td>clubs   </td><td> 7</td></tr>\n",
       "\t<tr><td>six  </td><td>clubs   </td><td> 6</td></tr>\n",
       "\t<tr><td>five </td><td>clubs   </td><td> 5</td></tr>\n",
       "\t<tr><td>four </td><td>clubs   </td><td> 4</td></tr>\n",
       "\t<tr><td>three</td><td>clubs   </td><td> 3</td></tr>\n",
       "\t<tr><td>two  </td><td>clubs   </td><td> 2</td></tr>\n",
       "\t<tr><td>ace  </td><td>clubs   </td><td> 1</td></tr>\n",
       "\t<tr><td>king </td><td>diamonds</td><td>13</td></tr>\n",
       "\t<tr><td>queen</td><td>diamonds</td><td>12</td></tr>\n",
       "\t<tr><td>jack </td><td>diamonds</td><td>11</td></tr>\n",
       "\t<tr><td>ten  </td><td>diamonds</td><td>10</td></tr>\n",
       "\t<tr><td>nine </td><td>diamonds</td><td> 9</td></tr>\n",
       "\t<tr><td>eight</td><td>diamonds</td><td> 8</td></tr>\n",
       "\t<tr><td>seven</td><td>diamonds</td><td> 7</td></tr>\n",
       "\t<tr><td>six  </td><td>diamonds</td><td> 6</td></tr>\n",
       "\t<tr><td>five </td><td>diamonds</td><td> 5</td></tr>\n",
       "\t<tr><td>four </td><td>diamonds</td><td> 4</td></tr>\n",
       "\t<tr><td>three</td><td>diamonds</td><td> 3</td></tr>\n",
       "\t<tr><td>two  </td><td>diamonds</td><td> 2</td></tr>\n",
       "\t<tr><td>ace  </td><td>diamonds</td><td> 1</td></tr>\n",
       "\t<tr><td>king </td><td>hearts  </td><td>13</td></tr>\n",
       "\t<tr><td>queen</td><td>hearts  </td><td>12</td></tr>\n",
       "\t<tr><td>jack </td><td>hearts  </td><td>11</td></tr>\n",
       "\t<tr><td>ten  </td><td>hearts  </td><td>10</td></tr>\n",
       "\t<tr><td>nine </td><td>hearts  </td><td> 9</td></tr>\n",
       "\t<tr><td>eight</td><td>hearts  </td><td> 8</td></tr>\n",
       "\t<tr><td>seven</td><td>hearts  </td><td> 7</td></tr>\n",
       "\t<tr><td>six  </td><td>hearts  </td><td> 6</td></tr>\n",
       "\t<tr><td>five </td><td>hearts  </td><td> 5</td></tr>\n",
       "\t<tr><td>four </td><td>hearts  </td><td> 4</td></tr>\n",
       "\t<tr><td>three</td><td>hearts  </td><td> 3</td></tr>\n",
       "\t<tr><td>two  </td><td>hearts  </td><td> 2</td></tr>\n",
       "\t<tr><td>ace  </td><td>hearts  </td><td> 1</td></tr>\n",
       "</tbody>\n",
       "</table>\n"
      ],
      "text/latex": [
       "A data.frame: 52 × 3\n",
       "\\begin{tabular}{r|lll}\n",
       " face & suit & value\\\\\n",
       " <fct> & <fct> & <dbl>\\\\\n",
       "\\hline\n",
       "\t king  & spades   & 13\\\\\n",
       "\t queen & spades   & 12\\\\\n",
       "\t jack  & spades   & 11\\\\\n",
       "\t ten   & spades   & 10\\\\\n",
       "\t nine  & spades   &  9\\\\\n",
       "\t eight & spades   &  8\\\\\n",
       "\t seven & spades   &  7\\\\\n",
       "\t six   & spades   &  6\\\\\n",
       "\t five  & spades   &  5\\\\\n",
       "\t four  & spades   &  4\\\\\n",
       "\t three & spades   &  3\\\\\n",
       "\t two   & spades   &  2\\\\\n",
       "\t ace   & spades   &  1\\\\\n",
       "\t king  & clubs    & 13\\\\\n",
       "\t queen & clubs    & 12\\\\\n",
       "\t jack  & clubs    & 11\\\\\n",
       "\t ten   & clubs    & 10\\\\\n",
       "\t nine  & clubs    &  9\\\\\n",
       "\t eight & clubs    &  8\\\\\n",
       "\t seven & clubs    &  7\\\\\n",
       "\t six   & clubs    &  6\\\\\n",
       "\t five  & clubs    &  5\\\\\n",
       "\t four  & clubs    &  4\\\\\n",
       "\t three & clubs    &  3\\\\\n",
       "\t two   & clubs    &  2\\\\\n",
       "\t ace   & clubs    &  1\\\\\n",
       "\t king  & diamonds & 13\\\\\n",
       "\t queen & diamonds & 12\\\\\n",
       "\t jack  & diamonds & 11\\\\\n",
       "\t ten   & diamonds & 10\\\\\n",
       "\t nine  & diamonds &  9\\\\\n",
       "\t eight & diamonds &  8\\\\\n",
       "\t seven & diamonds &  7\\\\\n",
       "\t six   & diamonds &  6\\\\\n",
       "\t five  & diamonds &  5\\\\\n",
       "\t four  & diamonds &  4\\\\\n",
       "\t three & diamonds &  3\\\\\n",
       "\t two   & diamonds &  2\\\\\n",
       "\t ace   & diamonds &  1\\\\\n",
       "\t king  & hearts   & 13\\\\\n",
       "\t queen & hearts   & 12\\\\\n",
       "\t jack  & hearts   & 11\\\\\n",
       "\t ten   & hearts   & 10\\\\\n",
       "\t nine  & hearts   &  9\\\\\n",
       "\t eight & hearts   &  8\\\\\n",
       "\t seven & hearts   &  7\\\\\n",
       "\t six   & hearts   &  6\\\\\n",
       "\t five  & hearts   &  5\\\\\n",
       "\t four  & hearts   &  4\\\\\n",
       "\t three & hearts   &  3\\\\\n",
       "\t two   & hearts   &  2\\\\\n",
       "\t ace   & hearts   &  1\\\\\n",
       "\\end{tabular}\n"
      ],
      "text/markdown": [
       "\n",
       "A data.frame: 52 × 3\n",
       "\n",
       "| face &lt;fct&gt; | suit &lt;fct&gt; | value &lt;dbl&gt; |\n",
       "|---|---|---|\n",
       "| king  | spades   | 13 |\n",
       "| queen | spades   | 12 |\n",
       "| jack  | spades   | 11 |\n",
       "| ten   | spades   | 10 |\n",
       "| nine  | spades   |  9 |\n",
       "| eight | spades   |  8 |\n",
       "| seven | spades   |  7 |\n",
       "| six   | spades   |  6 |\n",
       "| five  | spades   |  5 |\n",
       "| four  | spades   |  4 |\n",
       "| three | spades   |  3 |\n",
       "| two   | spades   |  2 |\n",
       "| ace   | spades   |  1 |\n",
       "| king  | clubs    | 13 |\n",
       "| queen | clubs    | 12 |\n",
       "| jack  | clubs    | 11 |\n",
       "| ten   | clubs    | 10 |\n",
       "| nine  | clubs    |  9 |\n",
       "| eight | clubs    |  8 |\n",
       "| seven | clubs    |  7 |\n",
       "| six   | clubs    |  6 |\n",
       "| five  | clubs    |  5 |\n",
       "| four  | clubs    |  4 |\n",
       "| three | clubs    |  3 |\n",
       "| two   | clubs    |  2 |\n",
       "| ace   | clubs    |  1 |\n",
       "| king  | diamonds | 13 |\n",
       "| queen | diamonds | 12 |\n",
       "| jack  | diamonds | 11 |\n",
       "| ten   | diamonds | 10 |\n",
       "| nine  | diamonds |  9 |\n",
       "| eight | diamonds |  8 |\n",
       "| seven | diamonds |  7 |\n",
       "| six   | diamonds |  6 |\n",
       "| five  | diamonds |  5 |\n",
       "| four  | diamonds |  4 |\n",
       "| three | diamonds |  3 |\n",
       "| two   | diamonds |  2 |\n",
       "| ace   | diamonds |  1 |\n",
       "| king  | hearts   | 13 |\n",
       "| queen | hearts   | 12 |\n",
       "| jack  | hearts   | 11 |\n",
       "| ten   | hearts   | 10 |\n",
       "| nine  | hearts   |  9 |\n",
       "| eight | hearts   |  8 |\n",
       "| seven | hearts   |  7 |\n",
       "| six   | hearts   |  6 |\n",
       "| five  | hearts   |  5 |\n",
       "| four  | hearts   |  4 |\n",
       "| three | hearts   |  3 |\n",
       "| two   | hearts   |  2 |\n",
       "| ace   | hearts   |  1 |\n",
       "\n"
      ],
      "text/plain": [
       "   face  suit     value\n",
       "1  king  spades   13   \n",
       "2  queen spades   12   \n",
       "3  jack  spades   11   \n",
       "4  ten   spades   10   \n",
       "5  nine  spades    9   \n",
       "6  eight spades    8   \n",
       "7  seven spades    7   \n",
       "8  six   spades    6   \n",
       "9  five  spades    5   \n",
       "10 four  spades    4   \n",
       "11 three spades    3   \n",
       "12 two   spades    2   \n",
       "13 ace   spades    1   \n",
       "14 king  clubs    13   \n",
       "15 queen clubs    12   \n",
       "16 jack  clubs    11   \n",
       "17 ten   clubs    10   \n",
       "18 nine  clubs     9   \n",
       "19 eight clubs     8   \n",
       "20 seven clubs     7   \n",
       "21 six   clubs     6   \n",
       "22 five  clubs     5   \n",
       "23 four  clubs     4   \n",
       "24 three clubs     3   \n",
       "25 two   clubs     2   \n",
       "26 ace   clubs     1   \n",
       "27 king  diamonds 13   \n",
       "28 queen diamonds 12   \n",
       "29 jack  diamonds 11   \n",
       "30 ten   diamonds 10   \n",
       "31 nine  diamonds  9   \n",
       "32 eight diamonds  8   \n",
       "33 seven diamonds  7   \n",
       "34 six   diamonds  6   \n",
       "35 five  diamonds  5   \n",
       "36 four  diamonds  4   \n",
       "37 three diamonds  3   \n",
       "38 two   diamonds  2   \n",
       "39 ace   diamonds  1   \n",
       "40 king  hearts   13   \n",
       "41 queen hearts   12   \n",
       "42 jack  hearts   11   \n",
       "43 ten   hearts   10   \n",
       "44 nine  hearts    9   \n",
       "45 eight hearts    8   \n",
       "46 seven hearts    7   \n",
       "47 six   hearts    6   \n",
       "48 five  hearts    5   \n",
       "49 four  hearts    4   \n",
       "50 three hearts    3   \n",
       "51 two   hearts    2   \n",
       "52 ace   hearts    1   "
      ]
     },
     "metadata": {},
     "output_type": "display_data"
    }
   ],
   "source": [
    "deck <- data.frame(\n",
    "      face = c(\"king\", \"queen\", \"jack\", \"ten\", \"nine\", \"eight\", \"seven\", \"six\",\n",
    "        \"five\", \"four\", \"three\", \"two\", \"ace\", \"king\", \"queen\", \"jack\", \"ten\",\n",
    "        \"nine\", \"eight\", \"seven\", \"six\", \"five\", \"four\", \"three\", \"two\", \"ace\",\n",
    "        \"king\", \"queen\", \"jack\", \"ten\", \"nine\", \"eight\", \"seven\", \"six\", \"five\",\n",
    "        \"four\", \"three\", \"two\", \"ace\", \"king\", \"queen\", \"jack\", \"ten\", \"nine\",\n",
    "        \"eight\", \"seven\", \"six\", \"five\", \"four\", \"three\", \"two\", \"ace\"),\n",
    "      suit = c(\"spades\", \"spades\", \"spades\", \"spades\", \"spades\", \"spades\",\n",
    "        \"spades\", \"spades\", \"spades\", \"spades\", \"spades\", \"spades\", \"spades\",\n",
    "        \"clubs\", \"clubs\", \"clubs\", \"clubs\", \"clubs\", \"clubs\", \"clubs\", \"clubs\",\n",
    "        \"clubs\", \"clubs\", \"clubs\", \"clubs\", \"clubs\", \"diamonds\", \"diamonds\",\n",
    "        \"diamonds\", \"diamonds\", \"diamonds\", \"diamonds\", \"diamonds\", \"diamonds\",\n",
    "        \"diamonds\", \"diamonds\", \"diamonds\", \"diamonds\", \"diamonds\", \"hearts\",\n",
    "        \"hearts\", \"hearts\", \"hearts\", \"hearts\", \"hearts\", \"hearts\", \"hearts\",\n",
    "        \"hearts\", \"hearts\", \"hearts\", \"hearts\", \"hearts\"),\n",
    "value = c(13, 12, 11, 10, 9, 8, 7, 6, 5, 4, 3, 2, 1, 13, 12, 11, 10, 9, 8,  7, 6, 5, 4, 3, 2, 1, 13, 12, 11, 10, 9, 8, 7, 6, 5, 4, 3, 2, 1, 13, 12, 11,  10, 9, 8, 7, 6, 5, 4, 3, 2, 1)\n",
    ")\n",
    "\n",
    "deck"
   ]
  },
  {
   "cell_type": "code",
   "execution_count": 58,
   "metadata": {},
   "outputs": [],
   "source": [
    "deck$value[deck$face=='ace']<- NA"
   ]
  },
  {
   "cell_type": "code",
   "execution_count": 59,
   "metadata": {},
   "outputs": [
    {
     "data": {
      "text/html": [
       "<table>\n",
       "<caption>A data.frame: 13 × 3</caption>\n",
       "<thead>\n",
       "\t<tr><th scope=col>face</th><th scope=col>suit</th><th scope=col>value</th></tr>\n",
       "\t<tr><th scope=col>&lt;fct&gt;</th><th scope=col>&lt;fct&gt;</th><th scope=col>&lt;dbl&gt;</th></tr>\n",
       "</thead>\n",
       "<tbody>\n",
       "\t<tr><td>king </td><td>spades</td><td>13</td></tr>\n",
       "\t<tr><td>queen</td><td>spades</td><td>12</td></tr>\n",
       "\t<tr><td>jack </td><td>spades</td><td>11</td></tr>\n",
       "\t<tr><td>ten  </td><td>spades</td><td>10</td></tr>\n",
       "\t<tr><td>nine </td><td>spades</td><td> 9</td></tr>\n",
       "\t<tr><td>eight</td><td>spades</td><td> 8</td></tr>\n",
       "\t<tr><td>seven</td><td>spades</td><td> 7</td></tr>\n",
       "\t<tr><td>six  </td><td>spades</td><td> 6</td></tr>\n",
       "\t<tr><td>five </td><td>spades</td><td> 5</td></tr>\n",
       "\t<tr><td>four </td><td>spades</td><td> 4</td></tr>\n",
       "\t<tr><td>three</td><td>spades</td><td> 3</td></tr>\n",
       "\t<tr><td>two  </td><td>spades</td><td> 2</td></tr>\n",
       "\t<tr><td>ace  </td><td>spades</td><td>NA</td></tr>\n",
       "</tbody>\n",
       "</table>\n"
      ],
      "text/latex": [
       "A data.frame: 13 × 3\n",
       "\\begin{tabular}{r|lll}\n",
       " face & suit & value\\\\\n",
       " <fct> & <fct> & <dbl>\\\\\n",
       "\\hline\n",
       "\t king  & spades & 13\\\\\n",
       "\t queen & spades & 12\\\\\n",
       "\t jack  & spades & 11\\\\\n",
       "\t ten   & spades & 10\\\\\n",
       "\t nine  & spades &  9\\\\\n",
       "\t eight & spades &  8\\\\\n",
       "\t seven & spades &  7\\\\\n",
       "\t six   & spades &  6\\\\\n",
       "\t five  & spades &  5\\\\\n",
       "\t four  & spades &  4\\\\\n",
       "\t three & spades &  3\\\\\n",
       "\t two   & spades &  2\\\\\n",
       "\t ace   & spades & NA\\\\\n",
       "\\end{tabular}\n"
      ],
      "text/markdown": [
       "\n",
       "A data.frame: 13 × 3\n",
       "\n",
       "| face &lt;fct&gt; | suit &lt;fct&gt; | value &lt;dbl&gt; |\n",
       "|---|---|---|\n",
       "| king  | spades | 13 |\n",
       "| queen | spades | 12 |\n",
       "| jack  | spades | 11 |\n",
       "| ten   | spades | 10 |\n",
       "| nine  | spades |  9 |\n",
       "| eight | spades |  8 |\n",
       "| seven | spades |  7 |\n",
       "| six   | spades |  6 |\n",
       "| five  | spades |  5 |\n",
       "| four  | spades |  4 |\n",
       "| three | spades |  3 |\n",
       "| two   | spades |  2 |\n",
       "| ace   | spades | NA |\n",
       "\n"
      ],
      "text/plain": [
       "   face  suit   value\n",
       "1  king  spades 13   \n",
       "2  queen spades 12   \n",
       "3  jack  spades 11   \n",
       "4  ten   spades 10   \n",
       "5  nine  spades  9   \n",
       "6  eight spades  8   \n",
       "7  seven spades  7   \n",
       "8  six   spades  6   \n",
       "9  five  spades  5   \n",
       "10 four  spades  4   \n",
       "11 three spades  3   \n",
       "12 two   spades  2   \n",
       "13 ace   spades NA   "
      ]
     },
     "metadata": {},
     "output_type": "display_data"
    }
   ],
   "source": [
    "head(deck, 13)"
   ]
  },
  {
   "cell_type": "code",
   "execution_count": null,
   "metadata": {},
   "outputs": [],
   "source": []
  }
 ],
 "metadata": {
  "kernelspec": {
   "display_name": "R",
   "language": "R",
   "name": "ir"
  },
  "language_info": {
   "codemirror_mode": "r",
   "file_extension": ".r",
   "mimetype": "text/x-r-source",
   "name": "R",
   "pygments_lexer": "r",
   "version": "3.5.3"
  }
 },
 "nbformat": 4,
 "nbformat_minor": 2
}
