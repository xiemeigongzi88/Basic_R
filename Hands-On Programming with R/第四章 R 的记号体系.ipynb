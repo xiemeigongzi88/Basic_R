{
 "cells": [
  {
   "cell_type": "markdown",
   "metadata": {},
   "source": [
    "# 第四章 R 的记号体系 "
   ]
  },
  {
   "cell_type": "markdown",
   "metadata": {},
   "source": [
    "## 4.1 值的选取"
   ]
  },
  {
   "cell_type": "code",
   "execution_count": 1,
   "metadata": {},
   "outputs": [
    {
     "data": {
      "text/html": [
       "<ol class=list-inline>\n",
       "\t<li>1</li>\n",
       "\t<li>2</li>\n",
       "\t<li>3</li>\n",
       "</ol>\n"
      ],
      "text/latex": [
       "\\begin{enumerate*}\n",
       "\\item 1\n",
       "\\item 2\n",
       "\\item 3\n",
       "\\end{enumerate*}\n"
      ],
      "text/markdown": [
       "1. 1\n",
       "2. 2\n",
       "3. 3\n",
       "\n",
       "\n"
      ],
      "text/plain": [
       "[1] 1 2 3"
      ]
     },
     "metadata": {},
     "output_type": "display_data"
    }
   ],
   "source": [
    "vec<- c(1,2,3,4,5,6)\n",
    "\n",
    "vec[1:3]"
   ]
  },
  {
   "cell_type": "code",
   "execution_count": 2,
   "metadata": {},
   "outputs": [
    {
     "data": {
      "text/html": [
       "<table>\n",
       "<caption>A data.frame: 52 × 3</caption>\n",
       "<thead>\n",
       "\t<tr><th scope=col>face</th><th scope=col>suit</th><th scope=col>value</th></tr>\n",
       "\t<tr><th scope=col>&lt;fct&gt;</th><th scope=col>&lt;fct&gt;</th><th scope=col>&lt;dbl&gt;</th></tr>\n",
       "</thead>\n",
       "<tbody>\n",
       "\t<tr><td>king </td><td>spades  </td><td>13</td></tr>\n",
       "\t<tr><td>queen</td><td>spades  </td><td>12</td></tr>\n",
       "\t<tr><td>jack </td><td>spades  </td><td>11</td></tr>\n",
       "\t<tr><td>ten  </td><td>spades  </td><td>10</td></tr>\n",
       "\t<tr><td>nine </td><td>spades  </td><td> 9</td></tr>\n",
       "\t<tr><td>eight</td><td>spades  </td><td> 8</td></tr>\n",
       "\t<tr><td>seven</td><td>spades  </td><td> 7</td></tr>\n",
       "\t<tr><td>six  </td><td>spades  </td><td> 6</td></tr>\n",
       "\t<tr><td>five </td><td>spades  </td><td> 5</td></tr>\n",
       "\t<tr><td>four </td><td>spades  </td><td> 4</td></tr>\n",
       "\t<tr><td>three</td><td>spades  </td><td> 3</td></tr>\n",
       "\t<tr><td>two  </td><td>spades  </td><td> 2</td></tr>\n",
       "\t<tr><td>ace  </td><td>spades  </td><td> 1</td></tr>\n",
       "\t<tr><td>king </td><td>clubs   </td><td>13</td></tr>\n",
       "\t<tr><td>queen</td><td>clubs   </td><td>12</td></tr>\n",
       "\t<tr><td>jack </td><td>clubs   </td><td>11</td></tr>\n",
       "\t<tr><td>ten  </td><td>clubs   </td><td>10</td></tr>\n",
       "\t<tr><td>nine </td><td>clubs   </td><td> 9</td></tr>\n",
       "\t<tr><td>eight</td><td>clubs   </td><td> 8</td></tr>\n",
       "\t<tr><td>seven</td><td>clubs   </td><td> 7</td></tr>\n",
       "\t<tr><td>six  </td><td>clubs   </td><td> 6</td></tr>\n",
       "\t<tr><td>five </td><td>clubs   </td><td> 5</td></tr>\n",
       "\t<tr><td>four </td><td>clubs   </td><td> 4</td></tr>\n",
       "\t<tr><td>three</td><td>clubs   </td><td> 3</td></tr>\n",
       "\t<tr><td>two  </td><td>clubs   </td><td> 2</td></tr>\n",
       "\t<tr><td>ace  </td><td>clubs   </td><td> 1</td></tr>\n",
       "\t<tr><td>king </td><td>diamonds</td><td>13</td></tr>\n",
       "\t<tr><td>queen</td><td>diamonds</td><td>12</td></tr>\n",
       "\t<tr><td>jack </td><td>diamonds</td><td>11</td></tr>\n",
       "\t<tr><td>ten  </td><td>diamonds</td><td>10</td></tr>\n",
       "\t<tr><td>nine </td><td>diamonds</td><td> 9</td></tr>\n",
       "\t<tr><td>eight</td><td>diamonds</td><td> 8</td></tr>\n",
       "\t<tr><td>seven</td><td>diamonds</td><td> 7</td></tr>\n",
       "\t<tr><td>six  </td><td>diamonds</td><td> 6</td></tr>\n",
       "\t<tr><td>five </td><td>diamonds</td><td> 5</td></tr>\n",
       "\t<tr><td>four </td><td>diamonds</td><td> 4</td></tr>\n",
       "\t<tr><td>three</td><td>diamonds</td><td> 3</td></tr>\n",
       "\t<tr><td>two  </td><td>diamonds</td><td> 2</td></tr>\n",
       "\t<tr><td>ace  </td><td>diamonds</td><td> 1</td></tr>\n",
       "\t<tr><td>king </td><td>hearts  </td><td>13</td></tr>\n",
       "\t<tr><td>queen</td><td>hearts  </td><td>12</td></tr>\n",
       "\t<tr><td>jack </td><td>hearts  </td><td>11</td></tr>\n",
       "\t<tr><td>ten  </td><td>hearts  </td><td>10</td></tr>\n",
       "\t<tr><td>nine </td><td>hearts  </td><td> 9</td></tr>\n",
       "\t<tr><td>eight</td><td>hearts  </td><td> 8</td></tr>\n",
       "\t<tr><td>seven</td><td>hearts  </td><td> 7</td></tr>\n",
       "\t<tr><td>six  </td><td>hearts  </td><td> 6</td></tr>\n",
       "\t<tr><td>five </td><td>hearts  </td><td> 5</td></tr>\n",
       "\t<tr><td>four </td><td>hearts  </td><td> 4</td></tr>\n",
       "\t<tr><td>three</td><td>hearts  </td><td> 3</td></tr>\n",
       "\t<tr><td>two  </td><td>hearts  </td><td> 2</td></tr>\n",
       "\t<tr><td>ace  </td><td>hearts  </td><td> 1</td></tr>\n",
       "</tbody>\n",
       "</table>\n"
      ],
      "text/latex": [
       "A data.frame: 52 × 3\n",
       "\\begin{tabular}{r|lll}\n",
       " face & suit & value\\\\\n",
       " <fct> & <fct> & <dbl>\\\\\n",
       "\\hline\n",
       "\t king  & spades   & 13\\\\\n",
       "\t queen & spades   & 12\\\\\n",
       "\t jack  & spades   & 11\\\\\n",
       "\t ten   & spades   & 10\\\\\n",
       "\t nine  & spades   &  9\\\\\n",
       "\t eight & spades   &  8\\\\\n",
       "\t seven & spades   &  7\\\\\n",
       "\t six   & spades   &  6\\\\\n",
       "\t five  & spades   &  5\\\\\n",
       "\t four  & spades   &  4\\\\\n",
       "\t three & spades   &  3\\\\\n",
       "\t two   & spades   &  2\\\\\n",
       "\t ace   & spades   &  1\\\\\n",
       "\t king  & clubs    & 13\\\\\n",
       "\t queen & clubs    & 12\\\\\n",
       "\t jack  & clubs    & 11\\\\\n",
       "\t ten   & clubs    & 10\\\\\n",
       "\t nine  & clubs    &  9\\\\\n",
       "\t eight & clubs    &  8\\\\\n",
       "\t seven & clubs    &  7\\\\\n",
       "\t six   & clubs    &  6\\\\\n",
       "\t five  & clubs    &  5\\\\\n",
       "\t four  & clubs    &  4\\\\\n",
       "\t three & clubs    &  3\\\\\n",
       "\t two   & clubs    &  2\\\\\n",
       "\t ace   & clubs    &  1\\\\\n",
       "\t king  & diamonds & 13\\\\\n",
       "\t queen & diamonds & 12\\\\\n",
       "\t jack  & diamonds & 11\\\\\n",
       "\t ten   & diamonds & 10\\\\\n",
       "\t nine  & diamonds &  9\\\\\n",
       "\t eight & diamonds &  8\\\\\n",
       "\t seven & diamonds &  7\\\\\n",
       "\t six   & diamonds &  6\\\\\n",
       "\t five  & diamonds &  5\\\\\n",
       "\t four  & diamonds &  4\\\\\n",
       "\t three & diamonds &  3\\\\\n",
       "\t two   & diamonds &  2\\\\\n",
       "\t ace   & diamonds &  1\\\\\n",
       "\t king  & hearts   & 13\\\\\n",
       "\t queen & hearts   & 12\\\\\n",
       "\t jack  & hearts   & 11\\\\\n",
       "\t ten   & hearts   & 10\\\\\n",
       "\t nine  & hearts   &  9\\\\\n",
       "\t eight & hearts   &  8\\\\\n",
       "\t seven & hearts   &  7\\\\\n",
       "\t six   & hearts   &  6\\\\\n",
       "\t five  & hearts   &  5\\\\\n",
       "\t four  & hearts   &  4\\\\\n",
       "\t three & hearts   &  3\\\\\n",
       "\t two   & hearts   &  2\\\\\n",
       "\t ace   & hearts   &  1\\\\\n",
       "\\end{tabular}\n"
      ],
      "text/markdown": [
       "\n",
       "A data.frame: 52 × 3\n",
       "\n",
       "| face &lt;fct&gt; | suit &lt;fct&gt; | value &lt;dbl&gt; |\n",
       "|---|---|---|\n",
       "| king  | spades   | 13 |\n",
       "| queen | spades   | 12 |\n",
       "| jack  | spades   | 11 |\n",
       "| ten   | spades   | 10 |\n",
       "| nine  | spades   |  9 |\n",
       "| eight | spades   |  8 |\n",
       "| seven | spades   |  7 |\n",
       "| six   | spades   |  6 |\n",
       "| five  | spades   |  5 |\n",
       "| four  | spades   |  4 |\n",
       "| three | spades   |  3 |\n",
       "| two   | spades   |  2 |\n",
       "| ace   | spades   |  1 |\n",
       "| king  | clubs    | 13 |\n",
       "| queen | clubs    | 12 |\n",
       "| jack  | clubs    | 11 |\n",
       "| ten   | clubs    | 10 |\n",
       "| nine  | clubs    |  9 |\n",
       "| eight | clubs    |  8 |\n",
       "| seven | clubs    |  7 |\n",
       "| six   | clubs    |  6 |\n",
       "| five  | clubs    |  5 |\n",
       "| four  | clubs    |  4 |\n",
       "| three | clubs    |  3 |\n",
       "| two   | clubs    |  2 |\n",
       "| ace   | clubs    |  1 |\n",
       "| king  | diamonds | 13 |\n",
       "| queen | diamonds | 12 |\n",
       "| jack  | diamonds | 11 |\n",
       "| ten   | diamonds | 10 |\n",
       "| nine  | diamonds |  9 |\n",
       "| eight | diamonds |  8 |\n",
       "| seven | diamonds |  7 |\n",
       "| six   | diamonds |  6 |\n",
       "| five  | diamonds |  5 |\n",
       "| four  | diamonds |  4 |\n",
       "| three | diamonds |  3 |\n",
       "| two   | diamonds |  2 |\n",
       "| ace   | diamonds |  1 |\n",
       "| king  | hearts   | 13 |\n",
       "| queen | hearts   | 12 |\n",
       "| jack  | hearts   | 11 |\n",
       "| ten   | hearts   | 10 |\n",
       "| nine  | hearts   |  9 |\n",
       "| eight | hearts   |  8 |\n",
       "| seven | hearts   |  7 |\n",
       "| six   | hearts   |  6 |\n",
       "| five  | hearts   |  5 |\n",
       "| four  | hearts   |  4 |\n",
       "| three | hearts   |  3 |\n",
       "| two   | hearts   |  2 |\n",
       "| ace   | hearts   |  1 |\n",
       "\n"
      ],
      "text/plain": [
       "   face  suit     value\n",
       "1  king  spades   13   \n",
       "2  queen spades   12   \n",
       "3  jack  spades   11   \n",
       "4  ten   spades   10   \n",
       "5  nine  spades    9   \n",
       "6  eight spades    8   \n",
       "7  seven spades    7   \n",
       "8  six   spades    6   \n",
       "9  five  spades    5   \n",
       "10 four  spades    4   \n",
       "11 three spades    3   \n",
       "12 two   spades    2   \n",
       "13 ace   spades    1   \n",
       "14 king  clubs    13   \n",
       "15 queen clubs    12   \n",
       "16 jack  clubs    11   \n",
       "17 ten   clubs    10   \n",
       "18 nine  clubs     9   \n",
       "19 eight clubs     8   \n",
       "20 seven clubs     7   \n",
       "21 six   clubs     6   \n",
       "22 five  clubs     5   \n",
       "23 four  clubs     4   \n",
       "24 three clubs     3   \n",
       "25 two   clubs     2   \n",
       "26 ace   clubs     1   \n",
       "27 king  diamonds 13   \n",
       "28 queen diamonds 12   \n",
       "29 jack  diamonds 11   \n",
       "30 ten   diamonds 10   \n",
       "31 nine  diamonds  9   \n",
       "32 eight diamonds  8   \n",
       "33 seven diamonds  7   \n",
       "34 six   diamonds  6   \n",
       "35 five  diamonds  5   \n",
       "36 four  diamonds  4   \n",
       "37 three diamonds  3   \n",
       "38 two   diamonds  2   \n",
       "39 ace   diamonds  1   \n",
       "40 king  hearts   13   \n",
       "41 queen hearts   12   \n",
       "42 jack  hearts   11   \n",
       "43 ten   hearts   10   \n",
       "44 nine  hearts    9   \n",
       "45 eight hearts    8   \n",
       "46 seven hearts    7   \n",
       "47 six   hearts    6   \n",
       "48 five  hearts    5   \n",
       "49 four  hearts    4   \n",
       "50 three hearts    3   \n",
       "51 two   hearts    2   \n",
       "52 ace   hearts    1   "
      ]
     },
     "metadata": {},
     "output_type": "display_data"
    }
   ],
   "source": [
    "deck <- data.frame(\n",
    "      face = c(\"king\", \"queen\", \"jack\", \"ten\", \"nine\", \"eight\", \"seven\", \"six\",\n",
    "        \"five\", \"four\", \"three\", \"two\", \"ace\", \"king\", \"queen\", \"jack\", \"ten\",\n",
    "        \"nine\", \"eight\", \"seven\", \"six\", \"five\", \"four\", \"three\", \"two\", \"ace\",\n",
    "        \"king\", \"queen\", \"jack\", \"ten\", \"nine\", \"eight\", \"seven\", \"six\", \"five\",\n",
    "        \"four\", \"three\", \"two\", \"ace\", \"king\", \"queen\", \"jack\", \"ten\", \"nine\",\n",
    "        \"eight\", \"seven\", \"six\", \"five\", \"four\", \"three\", \"two\", \"ace\"),\n",
    "      suit = c(\"spades\", \"spades\", \"spades\", \"spades\", \"spades\", \"spades\",\n",
    "        \"spades\", \"spades\", \"spades\", \"spades\", \"spades\", \"spades\", \"spades\",\n",
    "        \"clubs\", \"clubs\", \"clubs\", \"clubs\", \"clubs\", \"clubs\", \"clubs\", \"clubs\",\n",
    "        \"clubs\", \"clubs\", \"clubs\", \"clubs\", \"clubs\", \"diamonds\", \"diamonds\",\n",
    "        \"diamonds\", \"diamonds\", \"diamonds\", \"diamonds\", \"diamonds\", \"diamonds\",\n",
    "        \"diamonds\", \"diamonds\", \"diamonds\", \"diamonds\", \"diamonds\", \"hearts\",\n",
    "        \"hearts\", \"hearts\", \"hearts\", \"hearts\", \"hearts\", \"hearts\", \"hearts\",\n",
    "        \"hearts\", \"hearts\", \"hearts\", \"hearts\", \"hearts\"),\n",
    "value = c(13, 12, 11, 10, 9, 8, 7, 6, 5, 4, 3, 2, 1, 13, 12, 11, 10, 9, 8,  7, 6, 5, 4, 3, 2, 1, 13, 12, 11, 10, 9, 8, 7, 6, 5, 4, 3, 2, 1, 13, 12, 11,  10, 9, 8, 7, 6, 5, 4, 3, 2, 1)\n",
    ")\n",
    "\n",
    "deck"
   ]
  },
  {
   "cell_type": "code",
   "execution_count": 4,
   "metadata": {},
   "outputs": [
    {
     "data": {
      "text/html": [
       "<table>\n",
       "<caption>A data.frame: 52 × 3</caption>\n",
       "<thead>\n",
       "\t<tr><th scope=col>face</th><th scope=col>suit</th><th scope=col>value</th></tr>\n",
       "\t<tr><th scope=col>&lt;fct&gt;</th><th scope=col>&lt;fct&gt;</th><th scope=col>&lt;dbl&gt;</th></tr>\n",
       "</thead>\n",
       "<tbody>\n",
       "\t<tr><td>king </td><td>spades  </td><td>13</td></tr>\n",
       "\t<tr><td>queen</td><td>spades  </td><td>12</td></tr>\n",
       "\t<tr><td>jack </td><td>spades  </td><td>11</td></tr>\n",
       "\t<tr><td>ten  </td><td>spades  </td><td>10</td></tr>\n",
       "\t<tr><td>nine </td><td>spades  </td><td> 9</td></tr>\n",
       "\t<tr><td>eight</td><td>spades  </td><td> 8</td></tr>\n",
       "\t<tr><td>seven</td><td>spades  </td><td> 7</td></tr>\n",
       "\t<tr><td>six  </td><td>spades  </td><td> 6</td></tr>\n",
       "\t<tr><td>five </td><td>spades  </td><td> 5</td></tr>\n",
       "\t<tr><td>four </td><td>spades  </td><td> 4</td></tr>\n",
       "\t<tr><td>three</td><td>spades  </td><td> 3</td></tr>\n",
       "\t<tr><td>two  </td><td>spades  </td><td> 2</td></tr>\n",
       "\t<tr><td>ace  </td><td>spades  </td><td> 1</td></tr>\n",
       "\t<tr><td>king </td><td>clubs   </td><td>13</td></tr>\n",
       "\t<tr><td>queen</td><td>clubs   </td><td>12</td></tr>\n",
       "\t<tr><td>jack </td><td>clubs   </td><td>11</td></tr>\n",
       "\t<tr><td>ten  </td><td>clubs   </td><td>10</td></tr>\n",
       "\t<tr><td>nine </td><td>clubs   </td><td> 9</td></tr>\n",
       "\t<tr><td>eight</td><td>clubs   </td><td> 8</td></tr>\n",
       "\t<tr><td>seven</td><td>clubs   </td><td> 7</td></tr>\n",
       "\t<tr><td>six  </td><td>clubs   </td><td> 6</td></tr>\n",
       "\t<tr><td>five </td><td>clubs   </td><td> 5</td></tr>\n",
       "\t<tr><td>four </td><td>clubs   </td><td> 4</td></tr>\n",
       "\t<tr><td>three</td><td>clubs   </td><td> 3</td></tr>\n",
       "\t<tr><td>two  </td><td>clubs   </td><td> 2</td></tr>\n",
       "\t<tr><td>ace  </td><td>clubs   </td><td> 1</td></tr>\n",
       "\t<tr><td>king </td><td>diamonds</td><td>13</td></tr>\n",
       "\t<tr><td>queen</td><td>diamonds</td><td>12</td></tr>\n",
       "\t<tr><td>jack </td><td>diamonds</td><td>11</td></tr>\n",
       "\t<tr><td>ten  </td><td>diamonds</td><td>10</td></tr>\n",
       "\t<tr><td>nine </td><td>diamonds</td><td> 9</td></tr>\n",
       "\t<tr><td>eight</td><td>diamonds</td><td> 8</td></tr>\n",
       "\t<tr><td>seven</td><td>diamonds</td><td> 7</td></tr>\n",
       "\t<tr><td>six  </td><td>diamonds</td><td> 6</td></tr>\n",
       "\t<tr><td>five </td><td>diamonds</td><td> 5</td></tr>\n",
       "\t<tr><td>four </td><td>diamonds</td><td> 4</td></tr>\n",
       "\t<tr><td>three</td><td>diamonds</td><td> 3</td></tr>\n",
       "\t<tr><td>two  </td><td>diamonds</td><td> 2</td></tr>\n",
       "\t<tr><td>ace  </td><td>diamonds</td><td> 1</td></tr>\n",
       "\t<tr><td>king </td><td>hearts  </td><td>13</td></tr>\n",
       "\t<tr><td>queen</td><td>hearts  </td><td>12</td></tr>\n",
       "\t<tr><td>jack </td><td>hearts  </td><td>11</td></tr>\n",
       "\t<tr><td>ten  </td><td>hearts  </td><td>10</td></tr>\n",
       "\t<tr><td>nine </td><td>hearts  </td><td> 9</td></tr>\n",
       "\t<tr><td>eight</td><td>hearts  </td><td> 8</td></tr>\n",
       "\t<tr><td>seven</td><td>hearts  </td><td> 7</td></tr>\n",
       "\t<tr><td>six  </td><td>hearts  </td><td> 6</td></tr>\n",
       "\t<tr><td>five </td><td>hearts  </td><td> 5</td></tr>\n",
       "\t<tr><td>four </td><td>hearts  </td><td> 4</td></tr>\n",
       "\t<tr><td>three</td><td>hearts  </td><td> 3</td></tr>\n",
       "\t<tr><td>two  </td><td>hearts  </td><td> 2</td></tr>\n",
       "\t<tr><td>ace  </td><td>hearts  </td><td> 1</td></tr>\n",
       "</tbody>\n",
       "</table>\n"
      ],
      "text/latex": [
       "A data.frame: 52 × 3\n",
       "\\begin{tabular}{r|lll}\n",
       " face & suit & value\\\\\n",
       " <fct> & <fct> & <dbl>\\\\\n",
       "\\hline\n",
       "\t king  & spades   & 13\\\\\n",
       "\t queen & spades   & 12\\\\\n",
       "\t jack  & spades   & 11\\\\\n",
       "\t ten   & spades   & 10\\\\\n",
       "\t nine  & spades   &  9\\\\\n",
       "\t eight & spades   &  8\\\\\n",
       "\t seven & spades   &  7\\\\\n",
       "\t six   & spades   &  6\\\\\n",
       "\t five  & spades   &  5\\\\\n",
       "\t four  & spades   &  4\\\\\n",
       "\t three & spades   &  3\\\\\n",
       "\t two   & spades   &  2\\\\\n",
       "\t ace   & spades   &  1\\\\\n",
       "\t king  & clubs    & 13\\\\\n",
       "\t queen & clubs    & 12\\\\\n",
       "\t jack  & clubs    & 11\\\\\n",
       "\t ten   & clubs    & 10\\\\\n",
       "\t nine  & clubs    &  9\\\\\n",
       "\t eight & clubs    &  8\\\\\n",
       "\t seven & clubs    &  7\\\\\n",
       "\t six   & clubs    &  6\\\\\n",
       "\t five  & clubs    &  5\\\\\n",
       "\t four  & clubs    &  4\\\\\n",
       "\t three & clubs    &  3\\\\\n",
       "\t two   & clubs    &  2\\\\\n",
       "\t ace   & clubs    &  1\\\\\n",
       "\t king  & diamonds & 13\\\\\n",
       "\t queen & diamonds & 12\\\\\n",
       "\t jack  & diamonds & 11\\\\\n",
       "\t ten   & diamonds & 10\\\\\n",
       "\t nine  & diamonds &  9\\\\\n",
       "\t eight & diamonds &  8\\\\\n",
       "\t seven & diamonds &  7\\\\\n",
       "\t six   & diamonds &  6\\\\\n",
       "\t five  & diamonds &  5\\\\\n",
       "\t four  & diamonds &  4\\\\\n",
       "\t three & diamonds &  3\\\\\n",
       "\t two   & diamonds &  2\\\\\n",
       "\t ace   & diamonds &  1\\\\\n",
       "\t king  & hearts   & 13\\\\\n",
       "\t queen & hearts   & 12\\\\\n",
       "\t jack  & hearts   & 11\\\\\n",
       "\t ten   & hearts   & 10\\\\\n",
       "\t nine  & hearts   &  9\\\\\n",
       "\t eight & hearts   &  8\\\\\n",
       "\t seven & hearts   &  7\\\\\n",
       "\t six   & hearts   &  6\\\\\n",
       "\t five  & hearts   &  5\\\\\n",
       "\t four  & hearts   &  4\\\\\n",
       "\t three & hearts   &  3\\\\\n",
       "\t two   & hearts   &  2\\\\\n",
       "\t ace   & hearts   &  1\\\\\n",
       "\\end{tabular}\n"
      ],
      "text/markdown": [
       "\n",
       "A data.frame: 52 × 3\n",
       "\n",
       "| face &lt;fct&gt; | suit &lt;fct&gt; | value &lt;dbl&gt; |\n",
       "|---|---|---|\n",
       "| king  | spades   | 13 |\n",
       "| queen | spades   | 12 |\n",
       "| jack  | spades   | 11 |\n",
       "| ten   | spades   | 10 |\n",
       "| nine  | spades   |  9 |\n",
       "| eight | spades   |  8 |\n",
       "| seven | spades   |  7 |\n",
       "| six   | spades   |  6 |\n",
       "| five  | spades   |  5 |\n",
       "| four  | spades   |  4 |\n",
       "| three | spades   |  3 |\n",
       "| two   | spades   |  2 |\n",
       "| ace   | spades   |  1 |\n",
       "| king  | clubs    | 13 |\n",
       "| queen | clubs    | 12 |\n",
       "| jack  | clubs    | 11 |\n",
       "| ten   | clubs    | 10 |\n",
       "| nine  | clubs    |  9 |\n",
       "| eight | clubs    |  8 |\n",
       "| seven | clubs    |  7 |\n",
       "| six   | clubs    |  6 |\n",
       "| five  | clubs    |  5 |\n",
       "| four  | clubs    |  4 |\n",
       "| three | clubs    |  3 |\n",
       "| two   | clubs    |  2 |\n",
       "| ace   | clubs    |  1 |\n",
       "| king  | diamonds | 13 |\n",
       "| queen | diamonds | 12 |\n",
       "| jack  | diamonds | 11 |\n",
       "| ten   | diamonds | 10 |\n",
       "| nine  | diamonds |  9 |\n",
       "| eight | diamonds |  8 |\n",
       "| seven | diamonds |  7 |\n",
       "| six   | diamonds |  6 |\n",
       "| five  | diamonds |  5 |\n",
       "| four  | diamonds |  4 |\n",
       "| three | diamonds |  3 |\n",
       "| two   | diamonds |  2 |\n",
       "| ace   | diamonds |  1 |\n",
       "| king  | hearts   | 13 |\n",
       "| queen | hearts   | 12 |\n",
       "| jack  | hearts   | 11 |\n",
       "| ten   | hearts   | 10 |\n",
       "| nine  | hearts   |  9 |\n",
       "| eight | hearts   |  8 |\n",
       "| seven | hearts   |  7 |\n",
       "| six   | hearts   |  6 |\n",
       "| five  | hearts   |  5 |\n",
       "| four  | hearts   |  4 |\n",
       "| three | hearts   |  3 |\n",
       "| two   | hearts   |  2 |\n",
       "| ace   | hearts   |  1 |\n",
       "\n"
      ],
      "text/plain": [
       "   face  suit     value\n",
       "1  king  spades   13   \n",
       "2  queen spades   12   \n",
       "3  jack  spades   11   \n",
       "4  ten   spades   10   \n",
       "5  nine  spades    9   \n",
       "6  eight spades    8   \n",
       "7  seven spades    7   \n",
       "8  six   spades    6   \n",
       "9  five  spades    5   \n",
       "10 four  spades    4   \n",
       "11 three spades    3   \n",
       "12 two   spades    2   \n",
       "13 ace   spades    1   \n",
       "14 king  clubs    13   \n",
       "15 queen clubs    12   \n",
       "16 jack  clubs    11   \n",
       "17 ten   clubs    10   \n",
       "18 nine  clubs     9   \n",
       "19 eight clubs     8   \n",
       "20 seven clubs     7   \n",
       "21 six   clubs     6   \n",
       "22 five  clubs     5   \n",
       "23 four  clubs     4   \n",
       "24 three clubs     3   \n",
       "25 two   clubs     2   \n",
       "26 ace   clubs     1   \n",
       "27 king  diamonds 13   \n",
       "28 queen diamonds 12   \n",
       "29 jack  diamonds 11   \n",
       "30 ten   diamonds 10   \n",
       "31 nine  diamonds  9   \n",
       "32 eight diamonds  8   \n",
       "33 seven diamonds  7   \n",
       "34 six   diamonds  6   \n",
       "35 five  diamonds  5   \n",
       "36 four  diamonds  4   \n",
       "37 three diamonds  3   \n",
       "38 two   diamonds  2   \n",
       "39 ace   diamonds  1   \n",
       "40 king  hearts   13   \n",
       "41 queen hearts   12   \n",
       "42 jack  hearts   11   \n",
       "43 ten   hearts   10   \n",
       "44 nine  hearts    9   \n",
       "45 eight hearts    8   \n",
       "46 seven hearts    7   \n",
       "47 six   hearts    6   \n",
       "48 five  hearts    5   \n",
       "49 four  hearts    4   \n",
       "50 three hearts    3   \n",
       "51 two   hearts    2   \n",
       "52 ace   hearts    1   "
      ]
     },
     "metadata": {},
     "output_type": "display_data"
    }
   ],
   "source": [
    "deck[,]"
   ]
  },
  {
   "cell_type": "code",
   "execution_count": null,
   "metadata": {},
   "outputs": [],
   "source": []
  },
  {
   "cell_type": "markdown",
   "metadata": {},
   "source": [
    "## 4.1.1 正整数索引"
   ]
  },
  {
   "cell_type": "code",
   "execution_count": 5,
   "metadata": {},
   "outputs": [
    {
     "data": {
      "text/html": [
       "<table>\n",
       "<caption>A data.frame: 6 × 3</caption>\n",
       "<thead>\n",
       "\t<tr><th scope=col>face</th><th scope=col>suit</th><th scope=col>value</th></tr>\n",
       "\t<tr><th scope=col>&lt;fct&gt;</th><th scope=col>&lt;fct&gt;</th><th scope=col>&lt;dbl&gt;</th></tr>\n",
       "</thead>\n",
       "<tbody>\n",
       "\t<tr><td>king </td><td>spades</td><td>13</td></tr>\n",
       "\t<tr><td>queen</td><td>spades</td><td>12</td></tr>\n",
       "\t<tr><td>jack </td><td>spades</td><td>11</td></tr>\n",
       "\t<tr><td>ten  </td><td>spades</td><td>10</td></tr>\n",
       "\t<tr><td>nine </td><td>spades</td><td> 9</td></tr>\n",
       "\t<tr><td>eight</td><td>spades</td><td> 8</td></tr>\n",
       "</tbody>\n",
       "</table>\n"
      ],
      "text/latex": [
       "A data.frame: 6 × 3\n",
       "\\begin{tabular}{r|lll}\n",
       " face & suit & value\\\\\n",
       " <fct> & <fct> & <dbl>\\\\\n",
       "\\hline\n",
       "\t king  & spades & 13\\\\\n",
       "\t queen & spades & 12\\\\\n",
       "\t jack  & spades & 11\\\\\n",
       "\t ten   & spades & 10\\\\\n",
       "\t nine  & spades &  9\\\\\n",
       "\t eight & spades &  8\\\\\n",
       "\\end{tabular}\n"
      ],
      "text/markdown": [
       "\n",
       "A data.frame: 6 × 3\n",
       "\n",
       "| face &lt;fct&gt; | suit &lt;fct&gt; | value &lt;dbl&gt; |\n",
       "|---|---|---|\n",
       "| king  | spades | 13 |\n",
       "| queen | spades | 12 |\n",
       "| jack  | spades | 11 |\n",
       "| ten   | spades | 10 |\n",
       "| nine  | spades |  9 |\n",
       "| eight | spades |  8 |\n",
       "\n"
      ],
      "text/plain": [
       "  face  suit   value\n",
       "1 king  spades 13   \n",
       "2 queen spades 12   \n",
       "3 jack  spades 11   \n",
       "4 ten   spades 10   \n",
       "5 nine  spades  9   \n",
       "6 eight spades  8   "
      ]
     },
     "metadata": {},
     "output_type": "display_data"
    }
   ],
   "source": [
    "head(deck)"
   ]
  },
  {
   "cell_type": "code",
   "execution_count": 6,
   "metadata": {},
   "outputs": [
    {
     "data": {
      "text/html": [
       "king\n",
       "<details>\n",
       "\t<summary style=display:list-item;cursor:pointer>\n",
       "\t\t<strong>Levels</strong>:\n",
       "\t</summary>\n",
       "\t<ol class=list-inline>\n",
       "\t\t<li>'ace'</li>\n",
       "\t\t<li>'eight'</li>\n",
       "\t\t<li>'five'</li>\n",
       "\t\t<li>'four'</li>\n",
       "\t\t<li>'jack'</li>\n",
       "\t\t<li>'king'</li>\n",
       "\t\t<li>'nine'</li>\n",
       "\t\t<li>'queen'</li>\n",
       "\t\t<li>'seven'</li>\n",
       "\t\t<li>'six'</li>\n",
       "\t\t<li>'ten'</li>\n",
       "\t\t<li>'three'</li>\n",
       "\t\t<li>'two'</li>\n",
       "\t</ol>\n",
       "</details>"
      ],
      "text/latex": [
       "king\n",
       "\\emph{Levels}: \\begin{enumerate*}\n",
       "\\item 'ace'\n",
       "\\item 'eight'\n",
       "\\item 'five'\n",
       "\\item 'four'\n",
       "\\item 'jack'\n",
       "\\item 'king'\n",
       "\\item 'nine'\n",
       "\\item 'queen'\n",
       "\\item 'seven'\n",
       "\\item 'six'\n",
       "\\item 'ten'\n",
       "\\item 'three'\n",
       "\\item 'two'\n",
       "\\end{enumerate*}\n"
      ],
      "text/markdown": [
       "king\n",
       "**Levels**: 1. 'ace'\n",
       "2. 'eight'\n",
       "3. 'five'\n",
       "4. 'four'\n",
       "5. 'jack'\n",
       "6. 'king'\n",
       "7. 'nine'\n",
       "8. 'queen'\n",
       "9. 'seven'\n",
       "10. 'six'\n",
       "11. 'ten'\n",
       "12. 'three'\n",
       "13. 'two'\n",
       "\n",
       "\n"
      ],
      "text/plain": [
       "[1] king\n",
       "Levels: ace eight five four jack king nine queen seven six ten three two"
      ]
     },
     "metadata": {},
     "output_type": "display_data"
    }
   ],
   "source": [
    "deck[1,1]"
   ]
  },
  {
   "cell_type": "code",
   "execution_count": 7,
   "metadata": {},
   "outputs": [
    {
     "data": {
      "text/html": [
       "<table>\n",
       "<caption>A data.frame: 1 × 3</caption>\n",
       "<thead>\n",
       "\t<tr><th scope=col>face</th><th scope=col>suit</th><th scope=col>value</th></tr>\n",
       "\t<tr><th scope=col>&lt;fct&gt;</th><th scope=col>&lt;fct&gt;</th><th scope=col>&lt;dbl&gt;</th></tr>\n",
       "</thead>\n",
       "<tbody>\n",
       "\t<tr><td>king</td><td>spades</td><td>13</td></tr>\n",
       "</tbody>\n",
       "</table>\n"
      ],
      "text/latex": [
       "A data.frame: 1 × 3\n",
       "\\begin{tabular}{r|lll}\n",
       " face & suit & value\\\\\n",
       " <fct> & <fct> & <dbl>\\\\\n",
       "\\hline\n",
       "\t king & spades & 13\\\\\n",
       "\\end{tabular}\n"
      ],
      "text/markdown": [
       "\n",
       "A data.frame: 1 × 3\n",
       "\n",
       "| face &lt;fct&gt; | suit &lt;fct&gt; | value &lt;dbl&gt; |\n",
       "|---|---|---|\n",
       "| king | spades | 13 |\n",
       "\n"
      ],
      "text/plain": [
       "  face suit   value\n",
       "1 king spades 13   "
      ]
     },
     "metadata": {},
     "output_type": "display_data"
    }
   ],
   "source": [
    "new <- deck[1,c(1,2,3)]\n",
    "\n",
    "new"
   ]
  },
  {
   "cell_type": "code",
   "execution_count": 8,
   "metadata": {},
   "outputs": [
    {
     "name": "stderr",
     "output_type": "stream",
     "text": [
      "Your code contains a unicode char which cannot be displayed in your\n",
      "current locale and R will silently convert it to an escaped form when the\n",
      "R kernel executes this code. This can lead to subtle errors if you use\n",
      "such chars to do comparisons. For more information, please see\n",
      "https://github.com/IRkernel/repr/wiki/Problems-with-unicode-on-windows"
     ]
    },
    {
     "data": {
      "text/html": [
       "<table>\n",
       "<caption>A data.frame: 2 × 3</caption>\n",
       "<thead>\n",
       "\t<tr><th></th><th scope=col>face</th><th scope=col>suit</th><th scope=col>value</th></tr>\n",
       "\t<tr><th></th><th scope=col>&lt;fct&gt;</th><th scope=col>&lt;fct&gt;</th><th scope=col>&lt;dbl&gt;</th></tr>\n",
       "</thead>\n",
       "<tbody>\n",
       "\t<tr><th scope=row>1</th><td>king</td><td>spades</td><td>13</td></tr>\n",
       "\t<tr><th scope=row>1.1</th><td>king</td><td>spades</td><td>13</td></tr>\n",
       "</tbody>\n",
       "</table>\n"
      ],
      "text/latex": [
       "A data.frame: 2 × 3\n",
       "\\begin{tabular}{r|lll}\n",
       "  & face & suit & value\\\\\n",
       "  & <fct> & <fct> & <dbl>\\\\\n",
       "\\hline\n",
       "\t1 & king & spades & 13\\\\\n",
       "\t1.1 & king & spades & 13\\\\\n",
       "\\end{tabular}\n"
      ],
      "text/markdown": [
       "\n",
       "A data.frame: 2 × 3\n",
       "\n",
       "| <!--/--> | face &lt;fct&gt; | suit &lt;fct&gt; | value &lt;dbl&gt; |\n",
       "|---|---|---|---|\n",
       "| 1 | king | spades | 13 |\n",
       "| 1.1 | king | spades | 13 |\n",
       "\n"
      ],
      "text/plain": [
       "    face suit   value\n",
       "1   king spades 13   \n",
       "1.1 king spades 13   "
      ]
     },
     "metadata": {},
     "output_type": "display_data"
    }
   ],
   "source": [
    "# 重复值 \n",
    "\n",
    "deck[c(1,1), c(1,2,3)]"
   ]
  },
  {
   "cell_type": "code",
   "execution_count": 9,
   "metadata": {},
   "outputs": [
    {
     "data": {
      "text/html": [
       "<table>\n",
       "<caption>A data.frame: 52 × 3</caption>\n",
       "<thead>\n",
       "\t<tr><th scope=col>face</th><th scope=col>suit</th><th scope=col>value</th></tr>\n",
       "\t<tr><th scope=col>&lt;fct&gt;</th><th scope=col>&lt;fct&gt;</th><th scope=col>&lt;dbl&gt;</th></tr>\n",
       "</thead>\n",
       "<tbody>\n",
       "\t<tr><td>king </td><td>spades  </td><td>13</td></tr>\n",
       "\t<tr><td>queen</td><td>spades  </td><td>12</td></tr>\n",
       "\t<tr><td>jack </td><td>spades  </td><td>11</td></tr>\n",
       "\t<tr><td>ten  </td><td>spades  </td><td>10</td></tr>\n",
       "\t<tr><td>nine </td><td>spades  </td><td> 9</td></tr>\n",
       "\t<tr><td>eight</td><td>spades  </td><td> 8</td></tr>\n",
       "\t<tr><td>seven</td><td>spades  </td><td> 7</td></tr>\n",
       "\t<tr><td>six  </td><td>spades  </td><td> 6</td></tr>\n",
       "\t<tr><td>five </td><td>spades  </td><td> 5</td></tr>\n",
       "\t<tr><td>four </td><td>spades  </td><td> 4</td></tr>\n",
       "\t<tr><td>three</td><td>spades  </td><td> 3</td></tr>\n",
       "\t<tr><td>two  </td><td>spades  </td><td> 2</td></tr>\n",
       "\t<tr><td>ace  </td><td>spades  </td><td> 1</td></tr>\n",
       "\t<tr><td>king </td><td>clubs   </td><td>13</td></tr>\n",
       "\t<tr><td>queen</td><td>clubs   </td><td>12</td></tr>\n",
       "\t<tr><td>jack </td><td>clubs   </td><td>11</td></tr>\n",
       "\t<tr><td>ten  </td><td>clubs   </td><td>10</td></tr>\n",
       "\t<tr><td>nine </td><td>clubs   </td><td> 9</td></tr>\n",
       "\t<tr><td>eight</td><td>clubs   </td><td> 8</td></tr>\n",
       "\t<tr><td>seven</td><td>clubs   </td><td> 7</td></tr>\n",
       "\t<tr><td>six  </td><td>clubs   </td><td> 6</td></tr>\n",
       "\t<tr><td>five </td><td>clubs   </td><td> 5</td></tr>\n",
       "\t<tr><td>four </td><td>clubs   </td><td> 4</td></tr>\n",
       "\t<tr><td>three</td><td>clubs   </td><td> 3</td></tr>\n",
       "\t<tr><td>two  </td><td>clubs   </td><td> 2</td></tr>\n",
       "\t<tr><td>ace  </td><td>clubs   </td><td> 1</td></tr>\n",
       "\t<tr><td>king </td><td>diamonds</td><td>13</td></tr>\n",
       "\t<tr><td>queen</td><td>diamonds</td><td>12</td></tr>\n",
       "\t<tr><td>jack </td><td>diamonds</td><td>11</td></tr>\n",
       "\t<tr><td>ten  </td><td>diamonds</td><td>10</td></tr>\n",
       "\t<tr><td>nine </td><td>diamonds</td><td> 9</td></tr>\n",
       "\t<tr><td>eight</td><td>diamonds</td><td> 8</td></tr>\n",
       "\t<tr><td>seven</td><td>diamonds</td><td> 7</td></tr>\n",
       "\t<tr><td>six  </td><td>diamonds</td><td> 6</td></tr>\n",
       "\t<tr><td>five </td><td>diamonds</td><td> 5</td></tr>\n",
       "\t<tr><td>four </td><td>diamonds</td><td> 4</td></tr>\n",
       "\t<tr><td>three</td><td>diamonds</td><td> 3</td></tr>\n",
       "\t<tr><td>two  </td><td>diamonds</td><td> 2</td></tr>\n",
       "\t<tr><td>ace  </td><td>diamonds</td><td> 1</td></tr>\n",
       "\t<tr><td>king </td><td>hearts  </td><td>13</td></tr>\n",
       "\t<tr><td>queen</td><td>hearts  </td><td>12</td></tr>\n",
       "\t<tr><td>jack </td><td>hearts  </td><td>11</td></tr>\n",
       "\t<tr><td>ten  </td><td>hearts  </td><td>10</td></tr>\n",
       "\t<tr><td>nine </td><td>hearts  </td><td> 9</td></tr>\n",
       "\t<tr><td>eight</td><td>hearts  </td><td> 8</td></tr>\n",
       "\t<tr><td>seven</td><td>hearts  </td><td> 7</td></tr>\n",
       "\t<tr><td>six  </td><td>hearts  </td><td> 6</td></tr>\n",
       "\t<tr><td>five </td><td>hearts  </td><td> 5</td></tr>\n",
       "\t<tr><td>four </td><td>hearts  </td><td> 4</td></tr>\n",
       "\t<tr><td>three</td><td>hearts  </td><td> 3</td></tr>\n",
       "\t<tr><td>two  </td><td>hearts  </td><td> 2</td></tr>\n",
       "\t<tr><td>ace  </td><td>hearts  </td><td> 1</td></tr>\n",
       "</tbody>\n",
       "</table>\n"
      ],
      "text/latex": [
       "A data.frame: 52 × 3\n",
       "\\begin{tabular}{r|lll}\n",
       " face & suit & value\\\\\n",
       " <fct> & <fct> & <dbl>\\\\\n",
       "\\hline\n",
       "\t king  & spades   & 13\\\\\n",
       "\t queen & spades   & 12\\\\\n",
       "\t jack  & spades   & 11\\\\\n",
       "\t ten   & spades   & 10\\\\\n",
       "\t nine  & spades   &  9\\\\\n",
       "\t eight & spades   &  8\\\\\n",
       "\t seven & spades   &  7\\\\\n",
       "\t six   & spades   &  6\\\\\n",
       "\t five  & spades   &  5\\\\\n",
       "\t four  & spades   &  4\\\\\n",
       "\t three & spades   &  3\\\\\n",
       "\t two   & spades   &  2\\\\\n",
       "\t ace   & spades   &  1\\\\\n",
       "\t king  & clubs    & 13\\\\\n",
       "\t queen & clubs    & 12\\\\\n",
       "\t jack  & clubs    & 11\\\\\n",
       "\t ten   & clubs    & 10\\\\\n",
       "\t nine  & clubs    &  9\\\\\n",
       "\t eight & clubs    &  8\\\\\n",
       "\t seven & clubs    &  7\\\\\n",
       "\t six   & clubs    &  6\\\\\n",
       "\t five  & clubs    &  5\\\\\n",
       "\t four  & clubs    &  4\\\\\n",
       "\t three & clubs    &  3\\\\\n",
       "\t two   & clubs    &  2\\\\\n",
       "\t ace   & clubs    &  1\\\\\n",
       "\t king  & diamonds & 13\\\\\n",
       "\t queen & diamonds & 12\\\\\n",
       "\t jack  & diamonds & 11\\\\\n",
       "\t ten   & diamonds & 10\\\\\n",
       "\t nine  & diamonds &  9\\\\\n",
       "\t eight & diamonds &  8\\\\\n",
       "\t seven & diamonds &  7\\\\\n",
       "\t six   & diamonds &  6\\\\\n",
       "\t five  & diamonds &  5\\\\\n",
       "\t four  & diamonds &  4\\\\\n",
       "\t three & diamonds &  3\\\\\n",
       "\t two   & diamonds &  2\\\\\n",
       "\t ace   & diamonds &  1\\\\\n",
       "\t king  & hearts   & 13\\\\\n",
       "\t queen & hearts   & 12\\\\\n",
       "\t jack  & hearts   & 11\\\\\n",
       "\t ten   & hearts   & 10\\\\\n",
       "\t nine  & hearts   &  9\\\\\n",
       "\t eight & hearts   &  8\\\\\n",
       "\t seven & hearts   &  7\\\\\n",
       "\t six   & hearts   &  6\\\\\n",
       "\t five  & hearts   &  5\\\\\n",
       "\t four  & hearts   &  4\\\\\n",
       "\t three & hearts   &  3\\\\\n",
       "\t two   & hearts   &  2\\\\\n",
       "\t ace   & hearts   &  1\\\\\n",
       "\\end{tabular}\n"
      ],
      "text/markdown": [
       "\n",
       "A data.frame: 52 × 3\n",
       "\n",
       "| face &lt;fct&gt; | suit &lt;fct&gt; | value &lt;dbl&gt; |\n",
       "|---|---|---|\n",
       "| king  | spades   | 13 |\n",
       "| queen | spades   | 12 |\n",
       "| jack  | spades   | 11 |\n",
       "| ten   | spades   | 10 |\n",
       "| nine  | spades   |  9 |\n",
       "| eight | spades   |  8 |\n",
       "| seven | spades   |  7 |\n",
       "| six   | spades   |  6 |\n",
       "| five  | spades   |  5 |\n",
       "| four  | spades   |  4 |\n",
       "| three | spades   |  3 |\n",
       "| two   | spades   |  2 |\n",
       "| ace   | spades   |  1 |\n",
       "| king  | clubs    | 13 |\n",
       "| queen | clubs    | 12 |\n",
       "| jack  | clubs    | 11 |\n",
       "| ten   | clubs    | 10 |\n",
       "| nine  | clubs    |  9 |\n",
       "| eight | clubs    |  8 |\n",
       "| seven | clubs    |  7 |\n",
       "| six   | clubs    |  6 |\n",
       "| five  | clubs    |  5 |\n",
       "| four  | clubs    |  4 |\n",
       "| three | clubs    |  3 |\n",
       "| two   | clubs    |  2 |\n",
       "| ace   | clubs    |  1 |\n",
       "| king  | diamonds | 13 |\n",
       "| queen | diamonds | 12 |\n",
       "| jack  | diamonds | 11 |\n",
       "| ten   | diamonds | 10 |\n",
       "| nine  | diamonds |  9 |\n",
       "| eight | diamonds |  8 |\n",
       "| seven | diamonds |  7 |\n",
       "| six   | diamonds |  6 |\n",
       "| five  | diamonds |  5 |\n",
       "| four  | diamonds |  4 |\n",
       "| three | diamonds |  3 |\n",
       "| two   | diamonds |  2 |\n",
       "| ace   | diamonds |  1 |\n",
       "| king  | hearts   | 13 |\n",
       "| queen | hearts   | 12 |\n",
       "| jack  | hearts   | 11 |\n",
       "| ten   | hearts   | 10 |\n",
       "| nine  | hearts   |  9 |\n",
       "| eight | hearts   |  8 |\n",
       "| seven | hearts   |  7 |\n",
       "| six   | hearts   |  6 |\n",
       "| five  | hearts   |  5 |\n",
       "| four  | hearts   |  4 |\n",
       "| three | hearts   |  3 |\n",
       "| two   | hearts   |  2 |\n",
       "| ace   | hearts   |  1 |\n",
       "\n"
      ],
      "text/plain": [
       "   face  suit     value\n",
       "1  king  spades   13   \n",
       "2  queen spades   12   \n",
       "3  jack  spades   11   \n",
       "4  ten   spades   10   \n",
       "5  nine  spades    9   \n",
       "6  eight spades    8   \n",
       "7  seven spades    7   \n",
       "8  six   spades    6   \n",
       "9  five  spades    5   \n",
       "10 four  spades    4   \n",
       "11 three spades    3   \n",
       "12 two   spades    2   \n",
       "13 ace   spades    1   \n",
       "14 king  clubs    13   \n",
       "15 queen clubs    12   \n",
       "16 jack  clubs    11   \n",
       "17 ten   clubs    10   \n",
       "18 nine  clubs     9   \n",
       "19 eight clubs     8   \n",
       "20 seven clubs     7   \n",
       "21 six   clubs     6   \n",
       "22 five  clubs     5   \n",
       "23 four  clubs     4   \n",
       "24 three clubs     3   \n",
       "25 two   clubs     2   \n",
       "26 ace   clubs     1   \n",
       "27 king  diamonds 13   \n",
       "28 queen diamonds 12   \n",
       "29 jack  diamonds 11   \n",
       "30 ten   diamonds 10   \n",
       "31 nine  diamonds  9   \n",
       "32 eight diamonds  8   \n",
       "33 seven diamonds  7   \n",
       "34 six   diamonds  6   \n",
       "35 five  diamonds  5   \n",
       "36 four  diamonds  4   \n",
       "37 three diamonds  3   \n",
       "38 two   diamonds  2   \n",
       "39 ace   diamonds  1   \n",
       "40 king  hearts   13   \n",
       "41 queen hearts   12   \n",
       "42 jack  hearts   11   \n",
       "43 ten   hearts   10   \n",
       "44 nine  hearts    9   \n",
       "45 eight hearts    8   \n",
       "46 seven hearts    7   \n",
       "47 six   hearts    6   \n",
       "48 five  hearts    5   \n",
       "49 four  hearts    4   \n",
       "50 three hearts    3   \n",
       "51 two   hearts    2   \n",
       "52 ace   hearts    1   "
      ]
     },
     "metadata": {},
     "output_type": "display_data"
    }
   ],
   "source": [
    "deck"
   ]
  },
  {
   "cell_type": "code",
   "execution_count": 10,
   "metadata": {},
   "outputs": [
    {
     "data": {
      "text/html": [
       "<table>\n",
       "<caption>A data.frame: 2 × 2</caption>\n",
       "<thead>\n",
       "\t<tr><th scope=col>face</th><th scope=col>suit</th></tr>\n",
       "\t<tr><th scope=col>&lt;fct&gt;</th><th scope=col>&lt;fct&gt;</th></tr>\n",
       "</thead>\n",
       "<tbody>\n",
       "\t<tr><td>king </td><td>spades</td></tr>\n",
       "\t<tr><td>queen</td><td>spades</td></tr>\n",
       "</tbody>\n",
       "</table>\n"
      ],
      "text/latex": [
       "A data.frame: 2 × 2\n",
       "\\begin{tabular}{r|ll}\n",
       " face & suit\\\\\n",
       " <fct> & <fct>\\\\\n",
       "\\hline\n",
       "\t king  & spades\\\\\n",
       "\t queen & spades\\\\\n",
       "\\end{tabular}\n"
      ],
      "text/markdown": [
       "\n",
       "A data.frame: 2 × 2\n",
       "\n",
       "| face &lt;fct&gt; | suit &lt;fct&gt; |\n",
       "|---|---|\n",
       "| king  | spades |\n",
       "| queen | spades |\n",
       "\n"
      ],
      "text/plain": [
       "  face  suit  \n",
       "1 king  spades\n",
       "2 queen spades"
      ]
     },
     "metadata": {},
     "output_type": "display_data"
    }
   ],
   "source": [
    "deck[1:2, 1:2]"
   ]
  },
  {
   "cell_type": "code",
   "execution_count": 11,
   "metadata": {},
   "outputs": [
    {
     "name": "stderr",
     "output_type": "stream",
     "text": [
      "Your code contains a unicode char which cannot be displayed in your\n",
      "current locale and R will silently convert it to an escaped form when the\n",
      "R kernel executes this code. This can lead to subtle errors if you use\n",
      "such chars to do comparisons. For more information, please see\n",
      "https://github.com/IRkernel/repr/wiki/Problems-with-unicode-on-windows"
     ]
    },
    {
     "data": {
      "text/html": [
       "<ol class=list-inline>\n",
       "\t<li>king</li>\n",
       "\t<li>queen</li>\n",
       "</ol>\n",
       "\n",
       "<details>\n",
       "\t<summary style=display:list-item;cursor:pointer>\n",
       "\t\t<strong>Levels</strong>:\n",
       "\t</summary>\n",
       "\t<ol class=list-inline>\n",
       "\t\t<li>'ace'</li>\n",
       "\t\t<li>'eight'</li>\n",
       "\t\t<li>'five'</li>\n",
       "\t\t<li>'four'</li>\n",
       "\t\t<li>'jack'</li>\n",
       "\t\t<li>'king'</li>\n",
       "\t\t<li>'nine'</li>\n",
       "\t\t<li>'queen'</li>\n",
       "\t\t<li>'seven'</li>\n",
       "\t\t<li>'six'</li>\n",
       "\t\t<li>'ten'</li>\n",
       "\t\t<li>'three'</li>\n",
       "\t\t<li>'two'</li>\n",
       "\t</ol>\n",
       "</details>"
      ],
      "text/latex": [
       "\\begin{enumerate*}\n",
       "\\item king\n",
       "\\item queen\n",
       "\\end{enumerate*}\n",
       "\n",
       "\\emph{Levels}: \\begin{enumerate*}\n",
       "\\item 'ace'\n",
       "\\item 'eight'\n",
       "\\item 'five'\n",
       "\\item 'four'\n",
       "\\item 'jack'\n",
       "\\item 'king'\n",
       "\\item 'nine'\n",
       "\\item 'queen'\n",
       "\\item 'seven'\n",
       "\\item 'six'\n",
       "\\item 'ten'\n",
       "\\item 'three'\n",
       "\\item 'two'\n",
       "\\end{enumerate*}\n"
      ],
      "text/markdown": [
       "1. king\n",
       "2. queen\n",
       "\n",
       "\n",
       "\n",
       "**Levels**: 1. 'ace'\n",
       "2. 'eight'\n",
       "3. 'five'\n",
       "4. 'four'\n",
       "5. 'jack'\n",
       "6. 'king'\n",
       "7. 'nine'\n",
       "8. 'queen'\n",
       "9. 'seven'\n",
       "10. 'six'\n",
       "11. 'ten'\n",
       "12. 'three'\n",
       "13. 'two'\n",
       "\n",
       "\n"
      ],
      "text/plain": [
       "[1] king  queen\n",
       "Levels: ace eight five four jack king nine queen seven six ten three two"
      ]
     },
     "metadata": {},
     "output_type": "display_data"
    }
   ],
   "source": [
    "# 如何只 提取一列 R 会返回一个向量\n",
    "\n",
    "deck[1:2, 1]"
   ]
  },
  {
   "cell_type": "code",
   "execution_count": 12,
   "metadata": {},
   "outputs": [
    {
     "name": "stderr",
     "output_type": "stream",
     "text": [
      "Your code contains a unicode char which cannot be displayed in your\n",
      "current locale and R will silently convert it to an escaped form when the\n",
      "R kernel executes this code. This can lead to subtle errors if you use\n",
      "such chars to do comparisons. For more information, please see\n",
      "https://github.com/IRkernel/repr/wiki/Problems-with-unicode-on-windows"
     ]
    },
    {
     "data": {
      "text/html": [
       "<table>\n",
       "<caption>A data.frame: 2 × 1</caption>\n",
       "<thead>\n",
       "\t<tr><th scope=col>face</th></tr>\n",
       "\t<tr><th scope=col>&lt;fct&gt;</th></tr>\n",
       "</thead>\n",
       "<tbody>\n",
       "\t<tr><td>king </td></tr>\n",
       "\t<tr><td>queen</td></tr>\n",
       "</tbody>\n",
       "</table>\n"
      ],
      "text/latex": [
       "A data.frame: 2 × 1\n",
       "\\begin{tabular}{r|l}\n",
       " face\\\\\n",
       " <fct>\\\\\n",
       "\\hline\n",
       "\t king \\\\\n",
       "\t queen\\\\\n",
       "\\end{tabular}\n"
      ],
      "text/markdown": [
       "\n",
       "A data.frame: 2 × 1\n",
       "\n",
       "| face &lt;fct&gt; |\n",
       "|---|\n",
       "| king  |\n",
       "| queen |\n",
       "\n"
      ],
      "text/plain": [
       "  face \n",
       "1 king \n",
       "2 queen"
      ]
     },
     "metadata": {},
     "output_type": "display_data"
    }
   ],
   "source": [
    "# 如果仍想 返回一个数据框 可以添加参数 drop = FALSE \n",
    "\n",
    "deck[1:2, 1, drop = FALSE]\n"
   ]
  },
  {
   "cell_type": "code",
   "execution_count": null,
   "metadata": {},
   "outputs": [],
   "source": []
  },
  {
   "cell_type": "code",
   "execution_count": 13,
   "metadata": {},
   "outputs": [
    {
     "name": "stderr",
     "output_type": "stream",
     "text": [
      "Your code contains a unicode char which cannot be displayed in your\n",
      "current locale and R will silently convert it to an escaped form when the\n",
      "R kernel executes this code. This can lead to subtle errors if you use\n",
      "such chars to do comparisons. For more information, please see\n",
      "https://github.com/IRkernel/repr/wiki/Problems-with-unicode-on-windows"
     ]
    },
    {
     "data": {
      "text/html": [
       "<table>\n",
       "<caption>A data.frame: 1 × 3</caption>\n",
       "<thead>\n",
       "\t<tr><th scope=col>face</th><th scope=col>suit</th><th scope=col>value</th></tr>\n",
       "\t<tr><th scope=col>&lt;fct&gt;</th><th scope=col>&lt;fct&gt;</th><th scope=col>&lt;dbl&gt;</th></tr>\n",
       "</thead>\n",
       "<tbody>\n",
       "\t<tr><td>king</td><td>spades</td><td>13</td></tr>\n",
       "</tbody>\n",
       "</table>\n"
      ],
      "text/latex": [
       "A data.frame: 1 × 3\n",
       "\\begin{tabular}{r|lll}\n",
       " face & suit & value\\\\\n",
       " <fct> & <fct> & <dbl>\\\\\n",
       "\\hline\n",
       "\t king & spades & 13\\\\\n",
       "\\end{tabular}\n"
      ],
      "text/markdown": [
       "\n",
       "A data.frame: 1 × 3\n",
       "\n",
       "| face &lt;fct&gt; | suit &lt;fct&gt; | value &lt;dbl&gt; |\n",
       "|---|---|---|\n",
       "| king | spades | 13 |\n",
       "\n"
      ],
      "text/plain": [
       "  face suit   value\n",
       "1 king spades 13   "
      ]
     },
     "metadata": {},
     "output_type": "display_data"
    }
   ],
   "source": [
    "### 4.1.2 负整数索引\n",
    "\n",
    "deck[-(2:52), 1:3]\n"
   ]
  },
  {
   "cell_type": "code",
   "execution_count": 14,
   "metadata": {},
   "outputs": [
    {
     "data": {
      "text/html": [
       "<table>\n",
       "<caption>A data.frame: 1 × 3</caption>\n",
       "<thead>\n",
       "\t<tr><th scope=col>face</th><th scope=col>suit</th><th scope=col>value</th></tr>\n",
       "\t<tr><th scope=col>&lt;fct&gt;</th><th scope=col>&lt;fct&gt;</th><th scope=col>&lt;dbl&gt;</th></tr>\n",
       "</thead>\n",
       "<tbody>\n",
       "\t<tr><td>king</td><td>spades</td><td>13</td></tr>\n",
       "</tbody>\n",
       "</table>\n"
      ],
      "text/latex": [
       "A data.frame: 1 × 3\n",
       "\\begin{tabular}{r|lll}\n",
       " face & suit & value\\\\\n",
       " <fct> & <fct> & <dbl>\\\\\n",
       "\\hline\n",
       "\t king & spades & 13\\\\\n",
       "\\end{tabular}\n"
      ],
      "text/markdown": [
       "\n",
       "A data.frame: 1 × 3\n",
       "\n",
       "| face &lt;fct&gt; | suit &lt;fct&gt; | value &lt;dbl&gt; |\n",
       "|---|---|---|\n",
       "| king | spades | 13 |\n",
       "\n"
      ],
      "text/plain": [
       "  face suit   value\n",
       "1 king spades 13   "
      ]
     },
     "metadata": {},
     "output_type": "display_data"
    }
   ],
   "source": [
    "deck[1,1:3]"
   ]
  },
  {
   "cell_type": "code",
   "execution_count": 15,
   "metadata": {},
   "outputs": [
    {
     "ename": "ERROR",
     "evalue": "Error in `[.default`(xj, i): only 0's may be mixed with negative subscripts\n",
     "output_type": "error",
     "traceback": [
      "Error in `[.default`(xj, i): only 0's may be mixed with negative subscripts\nTraceback:\n",
      "1. deck[c(-1, 1), 1]",
      "2. `[.data.frame`(deck, c(-1, 1), 1)",
      "3. xj[i]",
      "4. `[.factor`(xj, i)",
      "5. NextMethod(\"[\")"
     ]
    }
   ],
   "source": [
    "# 一个相同的索引位置 同时使用正整数和负整数 \n",
    "# R 会报错 \n",
    "deck[c(-1,1),1]"
   ]
  },
  {
   "cell_type": "code",
   "execution_count": null,
   "metadata": {},
   "outputs": [],
   "source": []
  },
  {
   "cell_type": "code",
   "execution_count": 16,
   "metadata": {},
   "outputs": [
    {
     "name": "stderr",
     "output_type": "stream",
     "text": [
      "Your code contains a unicode char which cannot be displayed in your\n",
      "current locale and R will silently convert it to an escaped form when the\n",
      "R kernel executes this code. This can lead to subtle errors if you use\n",
      "such chars to do comparisons. For more information, please see\n",
      "https://github.com/IRkernel/repr/wiki/Problems-with-unicode-on-windows"
     ]
    },
    {
     "data": {
      "text/html": [
       "<table>\n",
       "<caption>A data.frame: 1 × 3</caption>\n",
       "<thead>\n",
       "\t<tr><th scope=col>face</th><th scope=col>suit</th><th scope=col>value</th></tr>\n",
       "\t<tr><th scope=col>&lt;fct&gt;</th><th scope=col>&lt;fct&gt;</th><th scope=col>&lt;dbl&gt;</th></tr>\n",
       "</thead>\n",
       "<tbody>\n",
       "\t<tr><td>king</td><td>spades</td><td>13</td></tr>\n",
       "</tbody>\n",
       "</table>\n"
      ],
      "text/latex": [
       "A data.frame: 1 × 3\n",
       "\\begin{tabular}{r|lll}\n",
       " face & suit & value\\\\\n",
       " <fct> & <fct> & <dbl>\\\\\n",
       "\\hline\n",
       "\t king & spades & 13\\\\\n",
       "\\end{tabular}\n"
      ],
      "text/markdown": [
       "\n",
       "A data.frame: 1 × 3\n",
       "\n",
       "| face &lt;fct&gt; | suit &lt;fct&gt; | value &lt;dbl&gt; |\n",
       "|---|---|---|\n",
       "| king | spades | 13 |\n",
       "\n"
      ],
      "text/plain": [
       "  face suit   value\n",
       "1 king spades 13   "
      ]
     },
     "metadata": {},
     "output_type": "display_data"
    }
   ],
   "source": [
    "### 4.1.4 空格索引\n",
    "\n",
    "deck[1,]"
   ]
  },
  {
   "cell_type": "code",
   "execution_count": null,
   "metadata": {},
   "outputs": [],
   "source": []
  },
  {
   "cell_type": "markdown",
   "metadata": {},
   "source": [
    "### 4.1.5 逻辑值索引"
   ]
  },
  {
   "cell_type": "code",
   "execution_count": 17,
   "metadata": {},
   "outputs": [
    {
     "data": {
      "text/html": [
       "<table>\n",
       "<caption>A data.frame: 1 × 2</caption>\n",
       "<thead>\n",
       "\t<tr><th scope=col>face</th><th scope=col>suit</th></tr>\n",
       "\t<tr><th scope=col>&lt;fct&gt;</th><th scope=col>&lt;fct&gt;</th></tr>\n",
       "</thead>\n",
       "<tbody>\n",
       "\t<tr><td>king</td><td>spades</td></tr>\n",
       "</tbody>\n",
       "</table>\n"
      ],
      "text/latex": [
       "A data.frame: 1 × 2\n",
       "\\begin{tabular}{r|ll}\n",
       " face & suit\\\\\n",
       " <fct> & <fct>\\\\\n",
       "\\hline\n",
       "\t king & spades\\\\\n",
       "\\end{tabular}\n"
      ],
      "text/markdown": [
       "\n",
       "A data.frame: 1 × 2\n",
       "\n",
       "| face &lt;fct&gt; | suit &lt;fct&gt; |\n",
       "|---|---|\n",
       "| king | spades |\n",
       "\n"
      ],
      "text/plain": [
       "  face suit  \n",
       "1 king spades"
      ]
     },
     "metadata": {},
     "output_type": "display_data"
    }
   ],
   "source": [
    "deck[1, c(TRUE, TRUE, FALSE)]"
   ]
  },
  {
   "cell_type": "code",
   "execution_count": 18,
   "metadata": {},
   "outputs": [
    {
     "data": {
      "text/html": [
       "<ol class=list-inline>\n",
       "\t<li>'face'</li>\n",
       "\t<li>'suit'</li>\n",
       "\t<li>'value'</li>\n",
       "</ol>\n"
      ],
      "text/latex": [
       "\\begin{enumerate*}\n",
       "\\item 'face'\n",
       "\\item 'suit'\n",
       "\\item 'value'\n",
       "\\end{enumerate*}\n"
      ],
      "text/markdown": [
       "1. 'face'\n",
       "2. 'suit'\n",
       "3. 'value'\n",
       "\n",
       "\n"
      ],
      "text/plain": [
       "[1] \"face\"  \"suit\"  \"value\""
      ]
     },
     "metadata": {},
     "output_type": "display_data"
    }
   ],
   "source": [
    "names(deck)"
   ]
  },
  {
   "cell_type": "code",
   "execution_count": null,
   "metadata": {},
   "outputs": [],
   "source": []
  },
  {
   "cell_type": "markdown",
   "metadata": {},
   "source": [
    "### 4.1.6 名称索引"
   ]
  },
  {
   "cell_type": "markdown",
   "metadata": {},
   "source": [
    "names(deck)"
   ]
  },
  {
   "cell_type": "code",
   "execution_count": 19,
   "metadata": {},
   "outputs": [
    {
     "data": {
      "text/html": [
       "<ol class=list-inline>\n",
       "\t<li>'face'</li>\n",
       "\t<li>'suit'</li>\n",
       "\t<li>'value'</li>\n",
       "</ol>\n"
      ],
      "text/latex": [
       "\\begin{enumerate*}\n",
       "\\item 'face'\n",
       "\\item 'suit'\n",
       "\\item 'value'\n",
       "\\end{enumerate*}\n"
      ],
      "text/markdown": [
       "1. 'face'\n",
       "2. 'suit'\n",
       "3. 'value'\n",
       "\n",
       "\n"
      ],
      "text/plain": [
       "[1] \"face\"  \"suit\"  \"value\""
      ]
     },
     "metadata": {},
     "output_type": "display_data"
    }
   ],
   "source": [
    "names(deck)"
   ]
  },
  {
   "cell_type": "code",
   "execution_count": 20,
   "metadata": {},
   "outputs": [
    {
     "data": {
      "text/html": [
       "<table>\n",
       "<caption>A data.frame: 1 × 3</caption>\n",
       "<thead>\n",
       "\t<tr><th scope=col>face</th><th scope=col>suit</th><th scope=col>value</th></tr>\n",
       "\t<tr><th scope=col>&lt;fct&gt;</th><th scope=col>&lt;fct&gt;</th><th scope=col>&lt;dbl&gt;</th></tr>\n",
       "</thead>\n",
       "<tbody>\n",
       "\t<tr><td>king</td><td>spades</td><td>13</td></tr>\n",
       "</tbody>\n",
       "</table>\n"
      ],
      "text/latex": [
       "A data.frame: 1 × 3\n",
       "\\begin{tabular}{r|lll}\n",
       " face & suit & value\\\\\n",
       " <fct> & <fct> & <dbl>\\\\\n",
       "\\hline\n",
       "\t king & spades & 13\\\\\n",
       "\\end{tabular}\n"
      ],
      "text/markdown": [
       "\n",
       "A data.frame: 1 × 3\n",
       "\n",
       "| face &lt;fct&gt; | suit &lt;fct&gt; | value &lt;dbl&gt; |\n",
       "|---|---|---|\n",
       "| king | spades | 13 |\n",
       "\n"
      ],
      "text/plain": [
       "  face suit   value\n",
       "1 king spades 13   "
      ]
     },
     "metadata": {},
     "output_type": "display_data"
    }
   ],
   "source": [
    "deck[1, c(\"face\",\"suit\",\"value\")]"
   ]
  },
  {
   "cell_type": "code",
   "execution_count": 21,
   "metadata": {},
   "outputs": [
    {
     "data": {
      "text/html": [
       "<ol class=list-inline>\n",
       "\t<li>13</li>\n",
       "\t<li>12</li>\n",
       "\t<li>11</li>\n",
       "\t<li>10</li>\n",
       "\t<li>9</li>\n",
       "\t<li>8</li>\n",
       "\t<li>7</li>\n",
       "\t<li>6</li>\n",
       "\t<li>5</li>\n",
       "\t<li>4</li>\n",
       "\t<li>3</li>\n",
       "\t<li>2</li>\n",
       "\t<li>1</li>\n",
       "\t<li>13</li>\n",
       "\t<li>12</li>\n",
       "\t<li>11</li>\n",
       "\t<li>10</li>\n",
       "\t<li>9</li>\n",
       "\t<li>8</li>\n",
       "\t<li>7</li>\n",
       "\t<li>6</li>\n",
       "\t<li>5</li>\n",
       "\t<li>4</li>\n",
       "\t<li>3</li>\n",
       "\t<li>2</li>\n",
       "\t<li>1</li>\n",
       "\t<li>13</li>\n",
       "\t<li>12</li>\n",
       "\t<li>11</li>\n",
       "\t<li>10</li>\n",
       "\t<li>9</li>\n",
       "\t<li>8</li>\n",
       "\t<li>7</li>\n",
       "\t<li>6</li>\n",
       "\t<li>5</li>\n",
       "\t<li>4</li>\n",
       "\t<li>3</li>\n",
       "\t<li>2</li>\n",
       "\t<li>1</li>\n",
       "\t<li>13</li>\n",
       "\t<li>12</li>\n",
       "\t<li>11</li>\n",
       "\t<li>10</li>\n",
       "\t<li>9</li>\n",
       "\t<li>8</li>\n",
       "\t<li>7</li>\n",
       "\t<li>6</li>\n",
       "\t<li>5</li>\n",
       "\t<li>4</li>\n",
       "\t<li>3</li>\n",
       "\t<li>2</li>\n",
       "\t<li>1</li>\n",
       "</ol>\n"
      ],
      "text/latex": [
       "\\begin{enumerate*}\n",
       "\\item 13\n",
       "\\item 12\n",
       "\\item 11\n",
       "\\item 10\n",
       "\\item 9\n",
       "\\item 8\n",
       "\\item 7\n",
       "\\item 6\n",
       "\\item 5\n",
       "\\item 4\n",
       "\\item 3\n",
       "\\item 2\n",
       "\\item 1\n",
       "\\item 13\n",
       "\\item 12\n",
       "\\item 11\n",
       "\\item 10\n",
       "\\item 9\n",
       "\\item 8\n",
       "\\item 7\n",
       "\\item 6\n",
       "\\item 5\n",
       "\\item 4\n",
       "\\item 3\n",
       "\\item 2\n",
       "\\item 1\n",
       "\\item 13\n",
       "\\item 12\n",
       "\\item 11\n",
       "\\item 10\n",
       "\\item 9\n",
       "\\item 8\n",
       "\\item 7\n",
       "\\item 6\n",
       "\\item 5\n",
       "\\item 4\n",
       "\\item 3\n",
       "\\item 2\n",
       "\\item 1\n",
       "\\item 13\n",
       "\\item 12\n",
       "\\item 11\n",
       "\\item 10\n",
       "\\item 9\n",
       "\\item 8\n",
       "\\item 7\n",
       "\\item 6\n",
       "\\item 5\n",
       "\\item 4\n",
       "\\item 3\n",
       "\\item 2\n",
       "\\item 1\n",
       "\\end{enumerate*}\n"
      ],
      "text/markdown": [
       "1. 13\n",
       "2. 12\n",
       "3. 11\n",
       "4. 10\n",
       "5. 9\n",
       "6. 8\n",
       "7. 7\n",
       "8. 6\n",
       "9. 5\n",
       "10. 4\n",
       "11. 3\n",
       "12. 2\n",
       "13. 1\n",
       "14. 13\n",
       "15. 12\n",
       "16. 11\n",
       "17. 10\n",
       "18. 9\n",
       "19. 8\n",
       "20. 7\n",
       "21. 6\n",
       "22. 5\n",
       "23. 4\n",
       "24. 3\n",
       "25. 2\n",
       "26. 1\n",
       "27. 13\n",
       "28. 12\n",
       "29. 11\n",
       "30. 10\n",
       "31. 9\n",
       "32. 8\n",
       "33. 7\n",
       "34. 6\n",
       "35. 5\n",
       "36. 4\n",
       "37. 3\n",
       "38. 2\n",
       "39. 1\n",
       "40. 13\n",
       "41. 12\n",
       "42. 11\n",
       "43. 10\n",
       "44. 9\n",
       "45. 8\n",
       "46. 7\n",
       "47. 6\n",
       "48. 5\n",
       "49. 4\n",
       "50. 3\n",
       "51. 2\n",
       "52. 1\n",
       "\n",
       "\n"
      ],
      "text/plain": [
       " [1] 13 12 11 10  9  8  7  6  5  4  3  2  1 13 12 11 10  9  8  7  6  5  4  3  2\n",
       "[26]  1 13 12 11 10  9  8  7  6  5  4  3  2  1 13 12 11 10  9  8  7  6  5  4  3\n",
       "[51]  2  1"
      ]
     },
     "metadata": {},
     "output_type": "display_data"
    }
   ],
   "source": [
    "deck[, \"value\"]"
   ]
  },
  {
   "cell_type": "code",
   "execution_count": null,
   "metadata": {},
   "outputs": [],
   "source": []
  },
  {
   "cell_type": "markdown",
   "metadata": {},
   "source": [
    "## 4.4 $ 符号 双中括号 "
   ]
  },
  {
   "cell_type": "code",
   "execution_count": 22,
   "metadata": {},
   "outputs": [
    {
     "data": {
      "text/html": [
       "<ol class=list-inline>\n",
       "\t<li>13</li>\n",
       "\t<li>12</li>\n",
       "\t<li>11</li>\n",
       "\t<li>10</li>\n",
       "\t<li>9</li>\n",
       "\t<li>8</li>\n",
       "\t<li>7</li>\n",
       "\t<li>6</li>\n",
       "\t<li>5</li>\n",
       "\t<li>4</li>\n",
       "\t<li>3</li>\n",
       "\t<li>2</li>\n",
       "\t<li>1</li>\n",
       "\t<li>13</li>\n",
       "\t<li>12</li>\n",
       "\t<li>11</li>\n",
       "\t<li>10</li>\n",
       "\t<li>9</li>\n",
       "\t<li>8</li>\n",
       "\t<li>7</li>\n",
       "\t<li>6</li>\n",
       "\t<li>5</li>\n",
       "\t<li>4</li>\n",
       "\t<li>3</li>\n",
       "\t<li>2</li>\n",
       "\t<li>1</li>\n",
       "\t<li>13</li>\n",
       "\t<li>12</li>\n",
       "\t<li>11</li>\n",
       "\t<li>10</li>\n",
       "\t<li>9</li>\n",
       "\t<li>8</li>\n",
       "\t<li>7</li>\n",
       "\t<li>6</li>\n",
       "\t<li>5</li>\n",
       "\t<li>4</li>\n",
       "\t<li>3</li>\n",
       "\t<li>2</li>\n",
       "\t<li>1</li>\n",
       "\t<li>13</li>\n",
       "\t<li>12</li>\n",
       "\t<li>11</li>\n",
       "\t<li>10</li>\n",
       "\t<li>9</li>\n",
       "\t<li>8</li>\n",
       "\t<li>7</li>\n",
       "\t<li>6</li>\n",
       "\t<li>5</li>\n",
       "\t<li>4</li>\n",
       "\t<li>3</li>\n",
       "\t<li>2</li>\n",
       "\t<li>1</li>\n",
       "</ol>\n"
      ],
      "text/latex": [
       "\\begin{enumerate*}\n",
       "\\item 13\n",
       "\\item 12\n",
       "\\item 11\n",
       "\\item 10\n",
       "\\item 9\n",
       "\\item 8\n",
       "\\item 7\n",
       "\\item 6\n",
       "\\item 5\n",
       "\\item 4\n",
       "\\item 3\n",
       "\\item 2\n",
       "\\item 1\n",
       "\\item 13\n",
       "\\item 12\n",
       "\\item 11\n",
       "\\item 10\n",
       "\\item 9\n",
       "\\item 8\n",
       "\\item 7\n",
       "\\item 6\n",
       "\\item 5\n",
       "\\item 4\n",
       "\\item 3\n",
       "\\item 2\n",
       "\\item 1\n",
       "\\item 13\n",
       "\\item 12\n",
       "\\item 11\n",
       "\\item 10\n",
       "\\item 9\n",
       "\\item 8\n",
       "\\item 7\n",
       "\\item 6\n",
       "\\item 5\n",
       "\\item 4\n",
       "\\item 3\n",
       "\\item 2\n",
       "\\item 1\n",
       "\\item 13\n",
       "\\item 12\n",
       "\\item 11\n",
       "\\item 10\n",
       "\\item 9\n",
       "\\item 8\n",
       "\\item 7\n",
       "\\item 6\n",
       "\\item 5\n",
       "\\item 4\n",
       "\\item 3\n",
       "\\item 2\n",
       "\\item 1\n",
       "\\end{enumerate*}\n"
      ],
      "text/markdown": [
       "1. 13\n",
       "2. 12\n",
       "3. 11\n",
       "4. 10\n",
       "5. 9\n",
       "6. 8\n",
       "7. 7\n",
       "8. 6\n",
       "9. 5\n",
       "10. 4\n",
       "11. 3\n",
       "12. 2\n",
       "13. 1\n",
       "14. 13\n",
       "15. 12\n",
       "16. 11\n",
       "17. 10\n",
       "18. 9\n",
       "19. 8\n",
       "20. 7\n",
       "21. 6\n",
       "22. 5\n",
       "23. 4\n",
       "24. 3\n",
       "25. 2\n",
       "26. 1\n",
       "27. 13\n",
       "28. 12\n",
       "29. 11\n",
       "30. 10\n",
       "31. 9\n",
       "32. 8\n",
       "33. 7\n",
       "34. 6\n",
       "35. 5\n",
       "36. 4\n",
       "37. 3\n",
       "38. 2\n",
       "39. 1\n",
       "40. 13\n",
       "41. 12\n",
       "42. 11\n",
       "43. 10\n",
       "44. 9\n",
       "45. 8\n",
       "46. 7\n",
       "47. 6\n",
       "48. 5\n",
       "49. 4\n",
       "50. 3\n",
       "51. 2\n",
       "52. 1\n",
       "\n",
       "\n"
      ],
      "text/plain": [
       " [1] 13 12 11 10  9  8  7  6  5  4  3  2  1 13 12 11 10  9  8  7  6  5  4  3  2\n",
       "[26]  1 13 12 11 10  9  8  7  6  5  4  3  2  1 13 12 11 10  9  8  7  6  5  4  3\n",
       "[51]  2  1"
      ]
     },
     "metadata": {},
     "output_type": "display_data"
    }
   ],
   "source": [
    "deck$value"
   ]
  },
  {
   "cell_type": "code",
   "execution_count": 23,
   "metadata": {},
   "outputs": [
    {
     "data": {
      "text/html": [
       "7"
      ],
      "text/latex": [
       "7"
      ],
      "text/markdown": [
       "7"
      ],
      "text/plain": [
       "[1] 7"
      ]
     },
     "metadata": {},
     "output_type": "display_data"
    }
   ],
   "source": [
    "mean(deck$value)"
   ]
  },
  {
   "cell_type": "code",
   "execution_count": 24,
   "metadata": {},
   "outputs": [
    {
     "data": {
      "text/html": [
       "7"
      ],
      "text/latex": [
       "7"
      ],
      "text/markdown": [
       "7"
      ],
      "text/plain": [
       "[1] 7"
      ]
     },
     "metadata": {},
     "output_type": "display_data"
    }
   ],
   "source": [
    "median(deck$value)"
   ]
  },
  {
   "cell_type": "code",
   "execution_count": 25,
   "metadata": {},
   "outputs": [
    {
     "data": {
      "text/html": [
       "<dl>\n",
       "\t<dt>$numbers</dt>\n",
       "\t\t<dd><ol class=list-inline>\n",
       "\t<li>1</li>\n",
       "\t<li>2</li>\n",
       "</ol>\n",
       "</dd>\n",
       "\t<dt>$logical</dt>\n",
       "\t\t<dd>TRUE</dd>\n",
       "\t<dt>$strings</dt>\n",
       "\t\t<dd><ol class=list-inline>\n",
       "\t<li>'a'</li>\n",
       "\t<li>'b'</li>\n",
       "\t<li>'c'</li>\n",
       "</ol>\n",
       "</dd>\n",
       "</dl>\n"
      ],
      "text/latex": [
       "\\begin{description}\n",
       "\\item[\\$numbers] \\begin{enumerate*}\n",
       "\\item 1\n",
       "\\item 2\n",
       "\\end{enumerate*}\n",
       "\n",
       "\\item[\\$logical] TRUE\n",
       "\\item[\\$strings] \\begin{enumerate*}\n",
       "\\item 'a'\n",
       "\\item 'b'\n",
       "\\item 'c'\n",
       "\\end{enumerate*}\n",
       "\n",
       "\\end{description}\n"
      ],
      "text/markdown": [
       "$numbers\n",
       ":   1. 1\n",
       "2. 2\n",
       "\n",
       "\n",
       "\n",
       "$logical\n",
       ":   TRUE\n",
       "$strings\n",
       ":   1. 'a'\n",
       "2. 'b'\n",
       "3. 'c'\n",
       "\n",
       "\n",
       "\n",
       "\n",
       "\n"
      ],
      "text/plain": [
       "$numbers\n",
       "[1] 1 2\n",
       "\n",
       "$logical\n",
       "[1] TRUE\n",
       "\n",
       "$strings\n",
       "[1] \"a\" \"b\" \"c\"\n"
      ]
     },
     "metadata": {},
     "output_type": "display_data"
    }
   ],
   "source": [
    "lst <- list(numbers=c(1,2), logical = TRUE, strings=c('a','b','c'))\n",
    "\n",
    "lst"
   ]
  },
  {
   "cell_type": "code",
   "execution_count": 26,
   "metadata": {},
   "outputs": [
    {
     "data": {
      "text/html": [
       "<strong>$numbers</strong> = <ol class=list-inline>\n",
       "\t<li>1</li>\n",
       "\t<li>2</li>\n",
       "</ol>\n"
      ],
      "text/latex": [
       "\\textbf{\\$numbers} = \\begin{enumerate*}\n",
       "\\item 1\n",
       "\\item 2\n",
       "\\end{enumerate*}\n"
      ],
      "text/markdown": [
       "**$numbers** = 1. 1\n",
       "2. 2\n",
       "\n",
       "\n"
      ],
      "text/plain": [
       "$numbers\n",
       "[1] 1 2\n"
      ]
     },
     "metadata": {},
     "output_type": "display_data"
    }
   ],
   "source": [
    "lst[1]"
   ]
  },
  {
   "cell_type": "code",
   "execution_count": 29,
   "metadata": {},
   "outputs": [
    {
     "ename": "ERROR",
     "evalue": "Error in sum(lst[1]): invalid 'type' (list) of argument\n",
     "output_type": "error",
     "traceback": [
      "Error in sum(lst[1]): invalid 'type' (list) of argument\nTraceback:\n"
     ]
    }
   ],
   "source": [
    "sum(lst[1])"
   ]
  },
  {
   "cell_type": "code",
   "execution_count": 30,
   "metadata": {},
   "outputs": [
    {
     "data": {
      "text/html": [
       "3"
      ],
      "text/latex": [
       "3"
      ],
      "text/markdown": [
       "3"
      ],
      "text/plain": [
       "[1] 3"
      ]
     },
     "metadata": {},
     "output_type": "display_data"
    }
   ],
   "source": [
    "sum(lst$numbers)"
   ]
  },
  {
   "cell_type": "code",
   "execution_count": 31,
   "metadata": {},
   "outputs": [
    {
     "data": {
      "text/html": [
       "<ol class=list-inline>\n",
       "\t<li>1</li>\n",
       "\t<li>2</li>\n",
       "</ol>\n"
      ],
      "text/latex": [
       "\\begin{enumerate*}\n",
       "\\item 1\n",
       "\\item 2\n",
       "\\end{enumerate*}\n"
      ],
      "text/markdown": [
       "1. 1\n",
       "2. 2\n",
       "\n",
       "\n"
      ],
      "text/plain": [
       "[1] 1 2"
      ]
     },
     "metadata": {},
     "output_type": "display_data"
    }
   ],
   "source": [
    "lst[[1]]"
   ]
  },
  {
   "cell_type": "code",
   "execution_count": 32,
   "metadata": {},
   "outputs": [
    {
     "data": {
      "text/html": [
       "<ol class=list-inline>\n",
       "\t<li>1</li>\n",
       "\t<li>2</li>\n",
       "</ol>\n"
      ],
      "text/latex": [
       "\\begin{enumerate*}\n",
       "\\item 1\n",
       "\\item 2\n",
       "\\end{enumerate*}\n"
      ],
      "text/markdown": [
       "1. 1\n",
       "2. 2\n",
       "\n",
       "\n"
      ],
      "text/plain": [
       "[1] 1 2"
      ]
     },
     "metadata": {},
     "output_type": "display_data"
    }
   ],
   "source": [
    "lst[[\"numbers\"]]"
   ]
  },
  {
   "cell_type": "code",
   "execution_count": 33,
   "metadata": {},
   "outputs": [
    {
     "data": {
      "text/html": [
       "<strong>$numbers</strong> = <ol class=list-inline>\n",
       "\t<li>1</li>\n",
       "\t<li>2</li>\n",
       "</ol>\n"
      ],
      "text/latex": [
       "\\textbf{\\$numbers} = \\begin{enumerate*}\n",
       "\\item 1\n",
       "\\item 2\n",
       "\\end{enumerate*}\n"
      ],
      "text/markdown": [
       "**$numbers** = 1. 1\n",
       "2. 2\n",
       "\n",
       "\n"
      ],
      "text/plain": [
       "$numbers\n",
       "[1] 1 2\n"
      ]
     },
     "metadata": {},
     "output_type": "display_data"
    }
   ],
   "source": [
    "lst[\"numbers\"]"
   ]
  },
  {
   "cell_type": "code",
   "execution_count": null,
   "metadata": {},
   "outputs": [],
   "source": []
  }
 ],
 "metadata": {
  "kernelspec": {
   "display_name": "R",
   "language": "R",
   "name": "ir"
  },
  "language_info": {
   "codemirror_mode": "r",
   "file_extension": ".r",
   "mimetype": "text/x-r-source",
   "name": "R",
   "pygments_lexer": "r",
   "version": "3.5.3"
  }
 },
 "nbformat": 4,
 "nbformat_minor": 2
}
